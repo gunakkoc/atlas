{
 "cells": [
  {
   "cell_type": "code",
   "execution_count": 102,
   "id": "23414cdb",
   "metadata": {},
   "outputs": [],
   "source": [
    "import pickle\n",
    "import time\n",
    "import numpy as np\n",
    "import pandas as pd\n",
    "import matplotlib.pyplot as plt\n",
    "import seaborn as sns\n",
    "import math\n",
    "from scipy.special import binom\n",
    "from itertools import combinations, permutations"
   ]
  },
  {
   "cell_type": "code",
   "execution_count": 121,
   "id": "f1aa7426",
   "metadata": {},
   "outputs": [],
   "source": [
    "def stirling_sum(Ns):\n",
    "    \"\"\" ...\n",
    "    \"\"\"\n",
    "    stirling = lambda n,k: int(1./math.factorial(k) * np.sum([(-1.)**i * binom(k,i)*(k-i)**n for i in range(k)]))\n",
    "    return np.sum([stirling(Ns, k) for k in range(Ns+1)])\n",
    "\n",
    "def partition(S):\n",
    "    \"\"\" ...\n",
    "    \"\"\"\n",
    "    if len(S) == 1:\n",
    "        yield [S]\n",
    "        return \n",
    "\n",
    "    first = S[0]\n",
    "    for smaller in partition(S[1:]):\n",
    "        for n, subset in enumerate(smaller):\n",
    "            yield smaller[:n]+[[first] + subset]+smaller[n+1:]\n",
    "        yield [[first]]+smaller \n",
    "    \n",
    "def gen_partitions(S):\n",
    "    \"\"\"\n",
    "    generate all possible partitions of Ns-element set S\n",
    "    \n",
    "    Args: \n",
    "        S (list): list of non-functional parameters S\n",
    "    \"\"\"\n",
    "    return [p for _, p in enumerate(partition(S),1)]\n",
    "\n",
    "def gen_combinations(X_funcs, Ng):\n",
    "    \"\"\" generate all possible functional parameter combinations\n",
    "    given number of non-functional parameter subsets Ng\n",
    "    \n",
    "    Args: \n",
    "        X_funcs (np.ndarray): numpy array with all functional \n",
    "            possile functional parameters\n",
    "        Ng (int): number of non-functional parameter subsets\n",
    "    \n",
    "    Returns\n",
    "        (np.ndarray): array of parameter combinations of\n",
    "            shape (# combs, Ng, # params)\n",
    "    \"\"\"\n",
    "    \n",
    "    return np.array(list(combinations(X_funcs, Ng)))\n",
    "\n",
    "def gen_permutations(X_funcs, Ng):\n",
    "    \"\"\" generate all possible functional parameter permutations\n",
    "    given number of non-functional parameter subsets Ng\n",
    "    \n",
    "    Args: \n",
    "        X_funcs (np.ndarray): numpy array with all functional \n",
    "            possile functional parameters\n",
    "        Ng (int): number of non-functional parameter subsets\n",
    "        \n",
    "    Returns\n",
    "        (np.ndarray): array of parameter permutations of\n",
    "            shape (# perms, Ng, # params)\n",
    "    \"\"\"\n",
    "    \n",
    "    return np.array(list(permutations(X_funcs, Ng)))\n",
    "    \n",
    "    "
   ]
  },
  {
   "cell_type": "code",
   "execution_count": 68,
   "id": "6e9b502d",
   "metadata": {},
   "outputs": [
    {
     "name": "stdout",
     "output_type": "stream",
     "text": [
      "[[[1, 2, 3]], [[1], [2, 3]], [[1, 2], [3]], [[2], [1, 3]], [[1], [2], [3]]]\n"
     ]
    },
    {
     "data": {
      "text/plain": [
       "5"
      ]
     },
     "execution_count": 68,
     "metadata": {},
     "output_type": "execute_result"
    }
   ],
   "source": [
    "S = [1,2,3]\n",
    "parts = gen_partitions(S)\n",
    "print(parts)\n",
    "len(parts)"
   ]
  },
  {
   "cell_type": "code",
   "execution_count": 70,
   "id": "c58ac185",
   "metadata": {},
   "outputs": [
    {
     "name": "stdout",
     "output_type": "stream",
     "text": [
      "num combs :  (3, 2, 3)\n"
     ]
    },
    {
     "data": {
      "text/plain": [
       "array([[[0, 0, 0],\n",
       "        [0, 1, 1]],\n",
       "\n",
       "       [[0, 0, 0],\n",
       "        [0, 2, 1]],\n",
       "\n",
       "       [[0, 1, 1],\n",
       "        [0, 2, 1]]])"
      ]
     },
     "execution_count": 70,
     "metadata": {},
     "output_type": "execute_result"
    }
   ],
   "source": [
    "X_funcs = np.array([[0, 0, 0], [0, 1, 1], [0, 2, 1]])\n",
    "combs = gen_combinations(X_funcs, 2)\n",
    "print('num combs : ', combs.shape)\n",
    "combs"
   ]
  },
  {
   "cell_type": "code",
   "execution_count": 71,
   "id": "90c8f66d",
   "metadata": {},
   "outputs": [
    {
     "name": "stdout",
     "output_type": "stream",
     "text": [
      "num perms :  (6, 2, 3)\n"
     ]
    },
    {
     "data": {
      "text/plain": [
       "array([[[0, 0, 0],\n",
       "        [0, 1, 1]],\n",
       "\n",
       "       [[0, 0, 0],\n",
       "        [0, 2, 1]],\n",
       "\n",
       "       [[0, 1, 1],\n",
       "        [0, 0, 0]],\n",
       "\n",
       "       [[0, 1, 1],\n",
       "        [0, 2, 1]],\n",
       "\n",
       "       [[0, 2, 1],\n",
       "        [0, 0, 0]],\n",
       "\n",
       "       [[0, 2, 1],\n",
       "        [0, 1, 1]]])"
      ]
     },
     "execution_count": 71,
     "metadata": {},
     "output_type": "execute_result"
    }
   ],
   "source": [
    "X_funcs = np.array([[0, 0, 0], [0, 1, 1], [0, 2, 1]])\n",
    "perms = gen_permutations(X_funcs, 2)\n",
    "print('num perms : ', perms.shape)\n",
    "perms"
   ]
  },
  {
   "cell_type": "code",
   "execution_count": 45,
   "id": "41171562",
   "metadata": {},
   "outputs": [
    {
     "data": {
      "text/plain": [
       "5"
      ]
     },
     "execution_count": 45,
     "metadata": {},
     "output_type": "execute_result"
    }
   ],
   "source": [
    "stirling_sum(3)"
   ]
  },
  {
   "cell_type": "code",
   "execution_count": 72,
   "id": "3dec7e7b",
   "metadata": {},
   "outputs": [],
   "source": [
    "# stirling = lambda n,k: 1./math.factorial(k) * np.sum([(-1.)**i * binom(k,i)*(k-i)**n for i in range(k)])\n",
    "# n = 15\n",
    "# ks = range(n+1)\n",
    "# vals = []\n",
    "# for k in ks:\n",
    "#     vals.append(int(stirling(n,k)))\n",
    "# print(vals)\n",
    "# print(np.sum(vals))"
   ]
  },
  {
   "cell_type": "code",
   "execution_count": 120,
   "id": "3df23d30",
   "metadata": {},
   "outputs": [],
   "source": [
    "def record_merits(S, lookup, X_func_truncate=20):\n",
    "    \n",
    "    # list of dictionaries to store G, X_func, f_x\n",
    "    f_xs = [] \n",
    "    \n",
    "    start_time = time.time()\n",
    "    \n",
    "    # generate all the partitions of non-functional parameters\n",
    "    Gs = gen_partitions(S)\n",
    "    print('total non-functional partitions : ', len(Gs))\n",
    "    \n",
    "    # generate all the possible values of functional parametres\n",
    "    X_funcs = df[\n",
    "        ['base_ix', 'ligand_ix', 'additive_ix']\n",
    "    ].drop_duplicates().values\n",
    "    if isinstance(X_func_truncate,int):\n",
    "        X_funcs = X_funcs[:X_func_truncate, :]\n",
    "    print('cardnality of functional params : ', X_funcs.shape[0])\n",
    "    \n",
    "    for G_ix, G in enumerate(Gs): \n",
    "        if G_ix % 1 == 0:\n",
    "            print(f'[INFO] Evaluating partition {G_ix+1}/{len(Gs)+1}')\n",
    "        Ng = len(G)\n",
    "        # generate permutations of functional params\n",
    "        X_func_perms = gen_permutations(X_funcs, Ng)\n",
    "        \n",
    "        for X_func in X_func_perms:\n",
    "            # measure objective \n",
    "            f_x = measure_objective(X_func, G, lookup)\n",
    "            # store values\n",
    "            f_xs.append(\n",
    "                {\n",
    "                    'G': G,\n",
    "                    'X_func': X_func,\n",
    "                    'f_x': f_x,\n",
    "                }\n",
    "            )\n",
    "    total_time = round(time.time()-start_time,2)\n",
    "    print(f'[INFO] Done in {total_time} s')\n",
    "    \n",
    "    return f_xs\n",
    "\n",
    "\n",
    "def get_best(f_xs, maximize=False):\n",
    "    f_x_arr = np.array([d['f_x'] for d in f_xs ])\n",
    "    if maximize:\n",
    "        best_ix = np.argmax(f_x_arr)\n",
    "    else:\n",
    "        best_ix = np.argmin(f_x_arr)\n",
    "    return f_xs[best_ix], best_ix"
   ]
  },
  {
   "cell_type": "code",
   "execution_count": 123,
   "id": "b4343b74",
   "metadata": {
    "scrolled": false
   },
   "outputs": [
    {
     "name": "stdout",
     "output_type": "stream",
     "text": [
      "total non-functional partitions :  15\n",
      "cardnality of functional params :  20\n",
      "[INFO] Evaluating partition 1/16\n",
      "[INFO] Evaluating partition 2/16\n",
      "[INFO] Evaluating partition 3/16\n",
      "[INFO] Evaluating partition 4/16\n",
      "[INFO] Evaluating partition 5/16\n",
      "[INFO] Evaluating partition 6/16\n",
      "[INFO] Evaluating partition 7/16\n",
      "[INFO] Evaluating partition 8/16\n",
      "[INFO] Evaluating partition 9/16\n",
      "[INFO] Evaluating partition 10/16\n",
      "[INFO] Evaluating partition 11/16\n",
      "[INFO] Evaluating partition 12/16\n",
      "[INFO] Evaluating partition 13/16\n",
      "[INFO] Evaluating partition 14/16\n",
      "[INFO] Evaluating partition 15/16\n",
      "[INFO] Done in 321.15 s\n"
     ]
    }
   ],
   "source": [
    "S = list(np.arange(4))\n",
    "f_xs = record_merits(S, df, X_func_truncate=20)"
   ]
  },
  {
   "cell_type": "code",
   "execution_count": 124,
   "id": "fc6eb008",
   "metadata": {},
   "outputs": [
    {
     "data": {
      "text/plain": [
       "160000"
      ]
     },
     "execution_count": 124,
     "metadata": {},
     "output_type": "execute_result"
    }
   ],
   "source": [
    "len(f_xs)"
   ]
  },
  {
   "cell_type": "code",
   "execution_count": 118,
   "id": "c9361a2b",
   "metadata": {},
   "outputs": [
    {
     "name": "stdout",
     "output_type": "stream",
     "text": [
      "90169\n"
     ]
    },
    {
     "data": {
      "text/plain": [
       "{'G': [[0], [1], [2], [3], [4]],\n",
       " 'X_func': array([[0, 0, 2],\n",
       "        [1, 0, 2],\n",
       "        [2, 0, 1],\n",
       "        [0, 1, 0],\n",
       "        [0, 0, 1]]),\n",
       " 'f_x': 139.677383136}"
      ]
     },
     "execution_count": 118,
     "metadata": {},
     "output_type": "execute_result"
    }
   ],
   "source": [
    "best, best_ix = get_best(f_xs, maximize=True)\n",
    "print(best_ix)\n",
    "best"
   ]
  },
  {
   "cell_type": "code",
   "execution_count": null,
   "id": "b0645b89",
   "metadata": {},
   "outputs": [],
   "source": [
    "fig, ax = plt.subplots()\n",
    "\n",
    "vals = []\n",
    "Ngs = [len(d['G']) for d in range()]\n",
    "f_x_arr = np.array([d['f_x'] for d in f_xs ])"
   ]
  },
  {
   "cell_type": "code",
   "execution_count": null,
   "id": "a4d43983",
   "metadata": {},
   "outputs": [],
   "source": []
  },
  {
   "cell_type": "code",
   "execution_count": null,
   "id": "6af5f3be",
   "metadata": {},
   "outputs": [],
   "source": []
  },
  {
   "cell_type": "code",
   "execution_count": null,
   "id": "1629d133",
   "metadata": {},
   "outputs": [],
   "source": []
  },
  {
   "cell_type": "markdown",
   "id": "bd32aaa1",
   "metadata": {},
   "source": [
    "## Buchwald dataset\n",
    "\n",
    "functional parameters: `base_ix`, `ligand_ix`, `additive_ix`\n",
    "\n",
    "non-functional/general parameters: `aryl_halide_ix`\n",
    "\n",
    "objective: `yield` (maximize, percentage)"
   ]
  },
  {
   "cell_type": "code",
   "execution_count": 7,
   "id": "7998e801",
   "metadata": {},
   "outputs": [
    {
     "name": "stdout",
     "output_type": "stream",
     "text": [
      "(4132, 129)\n"
     ]
    },
    {
     "data": {
      "text/html": [
       "<div>\n",
       "<style scoped>\n",
       "    .dataframe tbody tr th:only-of-type {\n",
       "        vertical-align: middle;\n",
       "    }\n",
       "\n",
       "    .dataframe tbody tr th {\n",
       "        vertical-align: top;\n",
       "    }\n",
       "\n",
       "    .dataframe thead th {\n",
       "        text-align: right;\n",
       "    }\n",
       "</style>\n",
       "<table border=\"1\" class=\"dataframe\">\n",
       "  <thead>\n",
       "    <tr style=\"text-align: right;\">\n",
       "      <th></th>\n",
       "      <th>base_ix</th>\n",
       "      <th>base_name</th>\n",
       "      <th>ligand_ix</th>\n",
       "      <th>ligand_name</th>\n",
       "      <th>aryl_halide_ix</th>\n",
       "      <th>aryl_halide_name</th>\n",
       "      <th>additive_ix</th>\n",
       "      <th>additive_name</th>\n",
       "      <th>yield</th>\n",
       "      <th>base_*N1_electrostatic_charge</th>\n",
       "      <th>...</th>\n",
       "      <th>additive_E_LUMO</th>\n",
       "      <th>additive_V1_frequency</th>\n",
       "      <th>additive_V1_intensity</th>\n",
       "      <th>additive_dipole_moment</th>\n",
       "      <th>additive_electronegativity</th>\n",
       "      <th>additive_hardness</th>\n",
       "      <th>additive_molecular_volume</th>\n",
       "      <th>additive_molecular_weight</th>\n",
       "      <th>additive_ovality</th>\n",
       "      <th>additive_surface_area</th>\n",
       "    </tr>\n",
       "  </thead>\n",
       "  <tbody>\n",
       "    <tr>\n",
       "      <th>0</th>\n",
       "      <td>0</td>\n",
       "      <td>P2Et</td>\n",
       "      <td>0</td>\n",
       "      <td>XPhos</td>\n",
       "      <td>0</td>\n",
       "      <td>1-chloro-4-(trifluoromethyl)benzene</td>\n",
       "      <td>0</td>\n",
       "      <td>5-phenylisoxazole</td>\n",
       "      <td>10.657812</td>\n",
       "      <td>-0.755</td>\n",
       "      <td>...</td>\n",
       "      <td>-0.0487</td>\n",
       "      <td>906.164</td>\n",
       "      <td>3.681</td>\n",
       "      <td>3.210447</td>\n",
       "      <td>0.14</td>\n",
       "      <td>0.09</td>\n",
       "      <td>154.41</td>\n",
       "      <td>145.161</td>\n",
       "      <td>1.228</td>\n",
       "      <td>170.87</td>\n",
       "    </tr>\n",
       "    <tr>\n",
       "      <th>1</th>\n",
       "      <td>0</td>\n",
       "      <td>P2Et</td>\n",
       "      <td>0</td>\n",
       "      <td>XPhos</td>\n",
       "      <td>1</td>\n",
       "      <td>1-bromo-4-(trifluoromethyl)benzene</td>\n",
       "      <td>0</td>\n",
       "      <td>5-phenylisoxazole</td>\n",
       "      <td>14.747896</td>\n",
       "      <td>-0.755</td>\n",
       "      <td>...</td>\n",
       "      <td>-0.0487</td>\n",
       "      <td>906.164</td>\n",
       "      <td>3.681</td>\n",
       "      <td>3.210447</td>\n",
       "      <td>0.14</td>\n",
       "      <td>0.09</td>\n",
       "      <td>154.41</td>\n",
       "      <td>145.161</td>\n",
       "      <td>1.228</td>\n",
       "      <td>170.87</td>\n",
       "    </tr>\n",
       "    <tr>\n",
       "      <th>2</th>\n",
       "      <td>0</td>\n",
       "      <td>P2Et</td>\n",
       "      <td>0</td>\n",
       "      <td>XPhos</td>\n",
       "      <td>2</td>\n",
       "      <td>1-iodo-4-(trifluoromethyl)benzene</td>\n",
       "      <td>0</td>\n",
       "      <td>5-phenylisoxazole</td>\n",
       "      <td>18.278686</td>\n",
       "      <td>-0.755</td>\n",
       "      <td>...</td>\n",
       "      <td>-0.0487</td>\n",
       "      <td>906.164</td>\n",
       "      <td>3.681</td>\n",
       "      <td>3.210447</td>\n",
       "      <td>0.14</td>\n",
       "      <td>0.09</td>\n",
       "      <td>154.41</td>\n",
       "      <td>145.161</td>\n",
       "      <td>1.228</td>\n",
       "      <td>170.87</td>\n",
       "    </tr>\n",
       "    <tr>\n",
       "      <th>3</th>\n",
       "      <td>0</td>\n",
       "      <td>P2Et</td>\n",
       "      <td>0</td>\n",
       "      <td>XPhos</td>\n",
       "      <td>3</td>\n",
       "      <td>1-chloro-4-methoxybenzene</td>\n",
       "      <td>0</td>\n",
       "      <td>5-phenylisoxazole</td>\n",
       "      <td>2.475058</td>\n",
       "      <td>-0.755</td>\n",
       "      <td>...</td>\n",
       "      <td>-0.0487</td>\n",
       "      <td>906.164</td>\n",
       "      <td>3.681</td>\n",
       "      <td>3.210447</td>\n",
       "      <td>0.14</td>\n",
       "      <td>0.09</td>\n",
       "      <td>154.41</td>\n",
       "      <td>145.161</td>\n",
       "      <td>1.228</td>\n",
       "      <td>170.87</td>\n",
       "    </tr>\n",
       "    <tr>\n",
       "      <th>4</th>\n",
       "      <td>0</td>\n",
       "      <td>P2Et</td>\n",
       "      <td>0</td>\n",
       "      <td>XPhos</td>\n",
       "      <td>4</td>\n",
       "      <td>1-bromo-4-methoxybenzene</td>\n",
       "      <td>0</td>\n",
       "      <td>5-phenylisoxazole</td>\n",
       "      <td>6.119058</td>\n",
       "      <td>-0.755</td>\n",
       "      <td>...</td>\n",
       "      <td>-0.0487</td>\n",
       "      <td>906.164</td>\n",
       "      <td>3.681</td>\n",
       "      <td>3.210447</td>\n",
       "      <td>0.14</td>\n",
       "      <td>0.09</td>\n",
       "      <td>154.41</td>\n",
       "      <td>145.161</td>\n",
       "      <td>1.228</td>\n",
       "      <td>170.87</td>\n",
       "    </tr>\n",
       "  </tbody>\n",
       "</table>\n",
       "<p>5 rows × 129 columns</p>\n",
       "</div>"
      ],
      "text/plain": [
       "   base_ix base_name  ligand_ix ligand_name  aryl_halide_ix  \\\n",
       "0        0      P2Et          0       XPhos               0   \n",
       "1        0      P2Et          0       XPhos               1   \n",
       "2        0      P2Et          0       XPhos               2   \n",
       "3        0      P2Et          0       XPhos               3   \n",
       "4        0      P2Et          0       XPhos               4   \n",
       "\n",
       "                      aryl_halide_name  additive_ix      additive_name  \\\n",
       "0  1-chloro-4-(trifluoromethyl)benzene            0  5-phenylisoxazole   \n",
       "1   1-bromo-4-(trifluoromethyl)benzene            0  5-phenylisoxazole   \n",
       "2    1-iodo-4-(trifluoromethyl)benzene            0  5-phenylisoxazole   \n",
       "3            1-chloro-4-methoxybenzene            0  5-phenylisoxazole   \n",
       "4             1-bromo-4-methoxybenzene            0  5-phenylisoxazole   \n",
       "\n",
       "       yield  base_*N1_electrostatic_charge  ...  additive_E_LUMO  \\\n",
       "0  10.657812                         -0.755  ...          -0.0487   \n",
       "1  14.747896                         -0.755  ...          -0.0487   \n",
       "2  18.278686                         -0.755  ...          -0.0487   \n",
       "3   2.475058                         -0.755  ...          -0.0487   \n",
       "4   6.119058                         -0.755  ...          -0.0487   \n",
       "\n",
       "   additive_V1_frequency  additive_V1_intensity  additive_dipole_moment  \\\n",
       "0                906.164                  3.681                3.210447   \n",
       "1                906.164                  3.681                3.210447   \n",
       "2                906.164                  3.681                3.210447   \n",
       "3                906.164                  3.681                3.210447   \n",
       "4                906.164                  3.681                3.210447   \n",
       "\n",
       "   additive_electronegativity  additive_hardness  additive_molecular_volume  \\\n",
       "0                        0.14               0.09                     154.41   \n",
       "1                        0.14               0.09                     154.41   \n",
       "2                        0.14               0.09                     154.41   \n",
       "3                        0.14               0.09                     154.41   \n",
       "4                        0.14               0.09                     154.41   \n",
       "\n",
       "   additive_molecular_weight  additive_ovality  additive_surface_area  \n",
       "0                    145.161             1.228                 170.87  \n",
       "1                    145.161             1.228                 170.87  \n",
       "2                    145.161             1.228                 170.87  \n",
       "3                    145.161             1.228                 170.87  \n",
       "4                    145.161             1.228                 170.87  \n",
       "\n",
       "[5 rows x 129 columns]"
      ]
     },
     "execution_count": 7,
     "metadata": {},
     "output_type": "execute_result"
    }
   ],
   "source": [
    "df = pickle.load(open('buchwald/main_df.pkl', 'rb'))\n",
    "print(df.shape)\n",
    "df.head()"
   ]
  },
  {
   "cell_type": "code",
   "execution_count": 1,
   "id": "dd0ad69f",
   "metadata": {},
   "outputs": [],
   "source": [
    "def buchwald_lookup(params, target, lookup):\n",
    "    \"\"\" lookup the yield for a given functional/non-functional\n",
    "    parameter setting\n",
    "    \"\"\"\n",
    "    base = params[0]\n",
    "    ligand = params[1]\n",
    "    additive = params[2]\n",
    "    sub_df = lookup[\n",
    "        (lookup['base_ix']==base) &\n",
    "        (lookup['ligand_ix']==ligand) &\n",
    "        (lookup['additive_ix']==additive) &\n",
    "        (lookup['aryl_halide_ix']==target)\n",
    "    ]\n",
    "    if sub_df.shape[0] == 1:\n",
    "        yield_ = sub_df.loc[:, 'yield'].to_numpy()[0]\n",
    "    elif sub_df.shape[0] < 1:\n",
    "        yield_ = 0.0\n",
    "    \n",
    "    return yield_\n",
    "\n",
    "def measure_objective(xgs, G, lookup):\n",
    "    \"\"\"\n",
    "    Args:\n",
    "        x_gs (np.ndarray): array of proposed general parameters (Ng x 1)\n",
    "        G (dict): keys are indices of non-functional subsets Sg, values are lists\n",
    "            of non-functional parameter names assigned to that subset\n",
    "    \"\"\"\n",
    "    f_x = 0.\n",
    "    for g_ix, Sg in enumerate(G):\n",
    "        for si in Sg:\n",
    "            f_xg += buchwald_lookup(xgs[g_ix], si, lookup)\n",
    "        \n",
    "    return f_x\n",
    "\n",
    "        "
   ]
  },
  {
   "cell_type": "code",
   "execution_count": 11,
   "id": "3931ad94",
   "metadata": {},
   "outputs": [
    {
     "name": "stdout",
     "output_type": "stream",
     "text": [
      "10.65781182\n"
     ]
    }
   ],
   "source": [
    "params = [0, 0, 0]\n",
    "target = 0\n",
    "\n",
    "yield_ = buchwald_lookup(params, target, df )\n",
    "print(yield_)"
   ]
  },
  {
   "cell_type": "code",
   "execution_count": 75,
   "id": "76213f65",
   "metadata": {},
   "outputs": [
    {
     "name": "stdout",
     "output_type": "stream",
     "text": [
      "f_x :  47.50003757621428\n"
     ]
    }
   ],
   "source": [
    "#------------------------------\n",
    "# solution with Ng = 2 (worse)\n",
    "#------------------------------\n",
    "xgs_1 = np.array([\n",
    "    [0, 0, 0], \n",
    "    [0, 0, 1], \n",
    "])\n",
    "G_1 = [\n",
    "    [0, 2, 4, 6, 8, 10, 12, 14], \n",
    "    [1, 3, 5, 7, 9, 11, 13],\n",
    "]\n",
    "\n",
    "f_x = measure_objective(xgs_1, G_1, df)\n",
    "print('f_x : ', f_x )"
   ]
  },
  {
   "cell_type": "code",
   "execution_count": 76,
   "id": "73fd697f",
   "metadata": {},
   "outputs": [
    {
     "name": "stdout",
     "output_type": "stream",
     "text": [
      "f_x :  257.18961800625\n"
     ]
    }
   ],
   "source": [
    "#-------------------------------\n",
    "# solution with Ng = 4 (better) \n",
    "#-------------------------------\n",
    "xgs_2 = np.array([\n",
    "    [1, 1, 4], \n",
    "    [2, 3, 17],\n",
    "    [2, 1, 1],\n",
    "    [2, 1, 3]\n",
    "])\n",
    "G_2 = [\n",
    "    [0, 1, 2], \n",
    "    [3, 4, 5],\n",
    "    [6, 7, 8, 9],\n",
    "    [10, 11, 12, 13, 14],\n",
    "]\n",
    "\n",
    "f_x = measure_objective(xgs_2, G_2, df)\n",
    "print('f_x : ', f_x )"
   ]
  },
  {
   "cell_type": "code",
   "execution_count": null,
   "id": "98747e63",
   "metadata": {},
   "outputs": [],
   "source": []
  },
  {
   "cell_type": "markdown",
   "id": "ca1f242e",
   "metadata": {},
   "source": [
    "## Suzuki dataset"
   ]
  },
  {
   "cell_type": "code",
   "execution_count": null,
   "id": "40767fce",
   "metadata": {},
   "outputs": [],
   "source": []
  },
  {
   "cell_type": "code",
   "execution_count": null,
   "id": "afeb55b9",
   "metadata": {},
   "outputs": [],
   "source": []
  },
  {
   "cell_type": "code",
   "execution_count": 1,
   "id": "0d7644f4",
   "metadata": {},
   "outputs": [],
   "source": [
    "import numpy as np"
   ]
  },
  {
   "cell_type": "code",
   "execution_count": null,
   "id": "fb051ba3",
   "metadata": {},
   "outputs": [],
   "source": []
  }
 ],
 "metadata": {
  "kernelspec": {
   "display_name": "atlas",
   "language": "python",
   "name": "atlas"
  },
  "language_info": {
   "codemirror_mode": {
    "name": "ipython",
    "version": 3
   },
   "file_extension": ".py",
   "mimetype": "text/x-python",
   "name": "python",
   "nbconvert_exporter": "python",
   "pygments_lexer": "ipython3",
   "version": "3.10.8"
  }
 },
 "nbformat": 4,
 "nbformat_minor": 5
}
