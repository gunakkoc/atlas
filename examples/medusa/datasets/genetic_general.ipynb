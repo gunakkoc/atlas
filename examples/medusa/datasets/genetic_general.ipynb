{
 "cells": [
  {
   "cell_type": "code",
   "execution_count": 1,
   "id": "c491d11e",
   "metadata": {},
   "outputs": [],
   "source": [
    "import pickle\n",
    "import time\n",
    "import numpy as np\n",
    "import math\n",
    "from scipy.special import binom\n",
    "from itertools import combinations, permutations, product\n",
    "import pandas as pd\n",
    "import matplotlib.pyplot as plt\n",
    "import seaborn as sns\n",
    "\n",
    "from olympus.surfaces import CatCamel, CatMichalewicz, CatSlope, CatDejong"
   ]
  },
  {
   "cell_type": "code",
   "execution_count": 2,
   "id": "050065c2",
   "metadata": {},
   "outputs": [],
   "source": [
    "#------------------\n",
    "# HELPER FUNCTIONS\n",
    "#------------------\n",
    "def stirling_sum(Ns):\n",
    "    \"\"\" ...\n",
    "    \"\"\"\n",
    "    stirling = lambda n,k: int(1./math.factorial(k) * np.sum([(-1.)**i * binom(k,i)*(k-i)**n for i in range(k)]))\n",
    "    return np.sum([stirling(Ns, k) for k in range(Ns+1)])\n",
    "\n",
    "def partition(S):\n",
    "    \"\"\" ...\n",
    "    \"\"\"\n",
    "    if len(S) == 1:\n",
    "        yield [S]\n",
    "        return \n",
    "\n",
    "    first = S[0]\n",
    "    for smaller in partition(S[1:]):\n",
    "        for n, subset in enumerate(smaller):\n",
    "            yield smaller[:n]+[[first] + subset]+smaller[n+1:]\n",
    "        yield [[first]]+smaller \n",
    "    \n",
    "def gen_partitions(S):\n",
    "    \"\"\"\n",
    "    generate all possible partitions of Ns-element set S\n",
    "    \n",
    "    Args: \n",
    "        S (list): list of non-functional parameters S\n",
    "    \"\"\"\n",
    "    return [p for _, p in enumerate(partition(S),1)]\n",
    "\n",
    "\n",
    "def gen_permutations(X_funcs, Ng):\n",
    "    \"\"\" generate all possible functional parameter permutations\n",
    "    given number of non-functional parameter subsets Ng\n",
    "    \n",
    "    Args: \n",
    "        X_funcs (np.ndarray): numpy array with all functional \n",
    "            possile functional parameters\n",
    "        Ng (int): number of non-functional parameter subsets\n",
    "        \n",
    "    Returns\n",
    "        (np.ndarray): array of parameter permutations of\n",
    "            shape (# perms, Ng, # params)\n",
    "    \"\"\"\n",
    "    \n",
    "    return np.array(list(permutations(X_funcs, Ng)))\n",
    "\n",
    "def measure_objective(xgs, G, surf_map):\n",
    "    \"\"\" ... \n",
    "    \"\"\"\n",
    "    f_x = 0.\n",
    "    for g_ix, Sg in enumerate(G):\n",
    "        f_xg = 0.\n",
    "        for si in Sg:\n",
    "            f_xg += measure_single_obj(xgs[g_ix], si, surf_map)\n",
    "        f_x += f_xg / len(Sg)\n",
    "\n",
    "    return f_x\n",
    "\n",
    "\n",
    "\n",
    "def record_merits(S, surf_map, X_func_truncate=20):\n",
    "    \n",
    "    # list of dictionaries to store G, X_func, f_x\n",
    "    f_xs = [] \n",
    "    \n",
    "    start_time = time.time()\n",
    "    \n",
    "    # generate all the partitions of non-functional parameters\n",
    "    Gs = gen_partitions(S)\n",
    "    print('total non-functional partitions : ', len(Gs))\n",
    "    \n",
    "    # generate all the possible values of functional parametres\n",
    "    param_opts = [f'x{i}' for i in range(21)]\n",
    "    cart_product = list(product(*param_opts))\n",
    "    X_func = np.array([list(elem) for elem in cart_product])\n",
    "    \n",
    "    if isinstance(X_func_truncate,int):\n",
    "        X_funcs = X_funcs[:X_func_truncate, :]\n",
    "    print('cardnality of functional params : ', X_funcs.shape[0])\n",
    "    \n",
    "    for G_ix, G in enumerate(Gs): \n",
    "        if G_ix % 1 == 0:\n",
    "            print(f'[INFO] Evaluating partition {G_ix+1}/{len(Gs)+1}')\n",
    "        Ng = len(G)\n",
    "        # generate permutations of functional params\n",
    "        X_func_perms = gen_permutations(X_funcs, Ng)\n",
    "        \n",
    "        for X_func in X_func_perms:\n",
    "            # measure objective \n",
    "            f_x = measure_objective(X_func, G, surf_map)\n",
    "            # store values\n",
    "            f_xs.append({'G': G, 'X_func': X_func,'f_x': f_x,})\n",
    "    total_time = round(time.time()-start_time,2)\n",
    "    print(f'[INFO] Done in {total_time} s')\n",
    "    \n",
    "    return f_xs"
   ]
  },
  {
   "cell_type": "code",
   "execution_count": 3,
   "id": "026d8694",
   "metadata": {},
   "outputs": [],
   "source": [
    "#-------------\n",
    "# TOY PROBLEM\n",
    "#-------------\n",
    "#S = [0, 1, 2, 3] # four non-functional parameter options \n",
    "S = [0, 1, 2]\n",
    "surf_map = {\n",
    "    0: CatCamel(param_dim=2, num_opts=21),\n",
    "    1: CatDejong(param_dim=2, num_opts=21),\n",
    "    2: CatMichalewicz(param_dim=2, num_opts=21),\n",
    "    3: CatSlope(param_dim=2, num_opts=21),\n",
    "}"
   ]
  },
  {
   "cell_type": "code",
   "execution_count": null,
   "id": "c72aeddf",
   "metadata": {},
   "outputs": [],
   "source": [
    "def measure_single_obj(X_func, si, surf_map):\n",
    "    return surf_map[si].run(X_func)[0][0]"
   ]
  },
  {
   "cell_type": "code",
   "execution_count": null,
   "id": "de73eb9a",
   "metadata": {},
   "outputs": [],
   "source": [
    "X_func = ['x10', 'x20']\n",
    "si = 1"
   ]
  },
  {
   "cell_type": "code",
   "execution_count": null,
   "id": "aea4f64d",
   "metadata": {},
   "outputs": [],
   "source": [
    "f_xs = record_merits(S, surf_map, X_func_truncate=20)"
   ]
  },
  {
   "cell_type": "code",
   "execution_count": 4,
   "id": "97e33e3b",
   "metadata": {},
   "outputs": [
    {
     "data": {
      "text/plain": [
       "[[[0, 1, 2]], [[0], [1, 2]], [[0, 1], [2]], [[1], [0, 2]], [[0], [1], [2]]]"
      ]
     },
     "execution_count": 4,
     "metadata": {},
     "output_type": "execute_result"
    }
   ],
   "source": [
    "gen_partitions(S)"
   ]
  },
  {
   "cell_type": "code",
   "execution_count": 9,
   "id": "064fe59b",
   "metadata": {},
   "outputs": [
    {
     "data": {
      "text/plain": [
       "(441, 2)"
      ]
     },
     "execution_count": 9,
     "metadata": {},
     "output_type": "execute_result"
    }
   ],
   "source": [
    "param_opts = [f'x{i}' for i in range(21)]\n",
    "params_opts = [param_opts, param_opts]\n",
    "cart_product = list(product(*params_opts))\n",
    "cart_product = np.array([list(elem) for elem in cart_product])\n",
    "cart_product.shape"
   ]
  },
  {
   "cell_type": "code",
   "execution_count": 6,
   "id": "f8a84598",
   "metadata": {},
   "outputs": [
    {
     "data": {
      "text/plain": [
       "['x0',\n",
       " 'x1',\n",
       " 'x2',\n",
       " 'x3',\n",
       " 'x4',\n",
       " 'x5',\n",
       " 'x6',\n",
       " 'x7',\n",
       " 'x8',\n",
       " 'x9',\n",
       " 'x10',\n",
       " 'x11',\n",
       " 'x12',\n",
       " 'x13',\n",
       " 'x14',\n",
       " 'x15',\n",
       " 'x16',\n",
       " 'x17',\n",
       " 'x18',\n",
       " 'x19',\n",
       " 'x20']"
      ]
     },
     "execution_count": 6,
     "metadata": {},
     "output_type": "execute_result"
    }
   ],
   "source": []
  },
  {
   "cell_type": "code",
   "execution_count": null,
   "id": "2b251ca5",
   "metadata": {},
   "outputs": [],
   "source": []
  }
 ],
 "metadata": {
  "kernelspec": {
   "display_name": "atlas",
   "language": "python",
   "name": "atlas"
  },
  "language_info": {
   "codemirror_mode": {
    "name": "ipython",
    "version": 3
   },
   "file_extension": ".py",
   "mimetype": "text/x-python",
   "name": "python",
   "nbconvert_exporter": "python",
   "pygments_lexer": "ipython3",
   "version": "3.10.8"
  }
 },
 "nbformat": 4,
 "nbformat_minor": 5
}
