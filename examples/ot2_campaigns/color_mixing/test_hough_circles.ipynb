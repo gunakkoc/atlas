{
 "cells": [
  {
   "cell_type": "code",
   "execution_count": 9,
   "id": "888474ac",
   "metadata": {},
   "outputs": [],
   "source": [
    "import numpy as np\n",
    "import cv2"
   ]
  },
  {
   "cell_type": "code",
   "execution_count": 10,
   "id": "98f166dd",
   "metadata": {},
   "outputs": [
    {
     "data": {
      "text/plain": [
       "(1080, 1920, 3)"
      ]
     },
     "execution_count": 10,
     "metadata": {},
     "output_type": "execute_result"
    }
   ],
   "source": [
    "trim_x = [400,250]\n",
    "trim_y = [800, 650]\n",
    "img = cv2.imread('iter_1.png')\n",
    "img.shape"
   ]
  },
  {
   "cell_type": "code",
   "execution_count": 11,
   "id": "49525f85",
   "metadata": {},
   "outputs": [
    {
     "data": {
      "text/plain": [
       "(430, 470, 3)"
      ]
     },
     "execution_count": 11,
     "metadata": {},
     "output_type": "execute_result"
    }
   ],
   "source": [
    "cropped_img = img[\n",
    "        trim_x[0]:img.shape[0]-trim_x[1], \n",
    "        trim_y[0]:img.shape[1]-trim_y[1]\n",
    "    ]\n",
    "cropped_img.shape"
   ]
  },
  {
   "cell_type": "code",
   "execution_count": 12,
   "id": "b3183db9",
   "metadata": {},
   "outputs": [
    {
     "data": {
      "text/plain": [
       "True"
      ]
     },
     "execution_count": 12,
     "metadata": {},
     "output_type": "execute_result"
    }
   ],
   "source": [
    "cv2.imwrite('iter_1_cropped.png', cropped_img)\n"
   ]
  },
  {
   "cell_type": "code",
   "execution_count": 13,
   "id": "e2c378a6",
   "metadata": {},
   "outputs": [
    {
     "name": "stdout",
     "output_type": "stream",
     "text": [
      "num circles :  24\n"
     ]
    }
   ],
   "source": [
    "gray = cv2.cvtColor(cropped_img, cv2.COLOR_BGR2GRAY)\n",
    "blurred = cv2.medianBlur(gray, 5) \n",
    "circles = cv2.HoughCircles(\n",
    "    blurred, \n",
    "    cv2.HOUGH_GRADIENT,\n",
    "    1,\n",
    "    20,\n",
    "    param1=70, \n",
    "    param2=35, \n",
    "    minRadius=0, \n",
    "    maxRadius=30,\n",
    ")\n",
    "if circles is not None:\n",
    "    print('num circles : ', circles.shape[1])\n",
    "else:\n",
    "    print('num circles : ', 0)\n",
    "circles =  np.uint16(np.around(circles))"
   ]
  },
  {
   "cell_type": "code",
   "execution_count": 14,
   "id": "d5a04b3f",
   "metadata": {},
   "outputs": [
    {
     "data": {
      "text/plain": [
       "array([[[130, 142,  20],\n",
       "        [130, 236,  24],\n",
       "        [324, 240,  22],\n",
       "        [176, 190,  19],\n",
       "        [ 86, 232,  19],\n",
       "        [178, 140,  16],\n",
       "        [178,  96,  18],\n",
       "        [224,  94,  18],\n",
       "        [274,  94,  19],\n",
       "        [272, 188,  16],\n",
       "        [318, 188,  17],\n",
       "        [ 86, 140,  17],\n",
       "        [270, 238,  18],\n",
       "        [178, 236,  18],\n",
       "        [320,  98,  21],\n",
       "        [132,  94,  17],\n",
       "        [272, 142,  17],\n",
       "        [ 86, 188,  17],\n",
       "        [224, 142,  17],\n",
       "        [132, 188,  18],\n",
       "        [224, 236,  16],\n",
       "        [320, 140,  18],\n",
       "        [224, 186,  18],\n",
       "        [ 84,  96,  22]]], dtype=uint16)"
      ]
     },
     "execution_count": 14,
     "metadata": {},
     "output_type": "execute_result"
    }
   ],
   "source": [
    "circles "
   ]
  },
  {
   "cell_type": "code",
   "execution_count": 15,
   "id": "a7cb0c43",
   "metadata": {},
   "outputs": [],
   "source": [
    "for ix, circle in enumerate(circles[0,:]):\n",
    "    color=(255,255,255) # white\n",
    "    cv2.circle(cropped_img, (circle[0], circle[1]), circle[2], color, 1) # outer circle\n",
    "    cv2.circle(cropped_img, (circle[0], circle[1]), 2, color, 3) # outer circle"
   ]
  },
  {
   "cell_type": "code",
   "execution_count": 16,
   "id": "c2549616",
   "metadata": {},
   "outputs": [
    {
     "data": {
      "text/plain": [
       "True"
      ]
     },
     "execution_count": 16,
     "metadata": {},
     "output_type": "execute_result"
    }
   ],
   "source": [
    "cv2.imwrite('iter_1_annot.png', cropped_img)"
   ]
  },
  {
   "cell_type": "code",
   "execution_count": null,
   "id": "adc52c43",
   "metadata": {},
   "outputs": [],
   "source": []
  },
  {
   "cell_type": "code",
   "execution_count": null,
   "id": "4c2a749c",
   "metadata": {},
   "outputs": [],
   "source": []
  }
 ],
 "metadata": {
  "kernelspec": {
   "display_name": "atlas",
   "language": "python",
   "name": "atlas"
  },
  "language_info": {
   "codemirror_mode": {
    "name": "ipython",
    "version": 3
   },
   "file_extension": ".py",
   "mimetype": "text/x-python",
   "name": "python",
   "nbconvert_exporter": "python",
   "pygments_lexer": "ipython3",
   "version": "3.8.15"
  }
 },
 "nbformat": 4,
 "nbformat_minor": 5
}
