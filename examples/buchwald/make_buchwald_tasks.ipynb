{
 "cells": [
  {
   "cell_type": "code",
   "execution_count": 100,
   "id": "010510d3",
   "metadata": {},
   "outputs": [],
   "source": [
    "import pickle\n",
    "import numpy as np\n",
    "import pandas as pd\n",
    "import matplotlib.pyplot as plt\n",
    "import seaborn as sns\n",
    "import itertools\n",
    "\n",
    "import olympus\n",
    "from olympus.datasets import Dataset\n",
    "from olympus.objects import ParameterVector"
   ]
  },
  {
   "cell_type": "code",
   "execution_count": 101,
   "id": "40e00b11",
   "metadata": {},
   "outputs": [
    {
     "data": {
      "text/html": [
       "<div>\n",
       "<style scoped>\n",
       "    .dataframe tbody tr th:only-of-type {\n",
       "        vertical-align: middle;\n",
       "    }\n",
       "\n",
       "    .dataframe tbody tr th {\n",
       "        vertical-align: top;\n",
       "    }\n",
       "\n",
       "    .dataframe thead th {\n",
       "        text-align: right;\n",
       "    }\n",
       "</style>\n",
       "<table border=\"1\" class=\"dataframe\">\n",
       "  <thead>\n",
       "    <tr style=\"text-align: right;\">\n",
       "      <th></th>\n",
       "      <th>aryl_halide</th>\n",
       "      <th>additive</th>\n",
       "      <th>base</th>\n",
       "      <th>ligand</th>\n",
       "      <th>yield</th>\n",
       "    </tr>\n",
       "  </thead>\n",
       "  <tbody>\n",
       "    <tr>\n",
       "      <th>0</th>\n",
       "      <td>FC(F)(F)c1ccc(Cl)cc1</td>\n",
       "      <td>o1nccc1c2ccccc2</td>\n",
       "      <td>CN(C)P(N(C)C)(N(C)C)=NP(N(C)C)(N(C)C)=NCC</td>\n",
       "      <td>CC(C)C1=CC(C(C)C)=CC(C(C)C)=C1C2=C(P(C3CCCCC3)...</td>\n",
       "      <td>10.657812</td>\n",
       "    </tr>\n",
       "    <tr>\n",
       "      <th>1</th>\n",
       "      <td>FC(F)(F)c1ccc(Cl)cc1</td>\n",
       "      <td>o1nccc1c2ccccc2</td>\n",
       "      <td>CN(C)/C(N(C)C)=N\\C(C)(C)C</td>\n",
       "      <td>CC(C)C1=CC(C(C)C)=CC(C(C)C)=C1C2=C(P(C3CCCCC3)...</td>\n",
       "      <td>14.018641</td>\n",
       "    </tr>\n",
       "    <tr>\n",
       "      <th>2</th>\n",
       "      <td>FC(F)(F)c1ccc(Cl)cc1</td>\n",
       "      <td>o1nccc1c2ccccc2</td>\n",
       "      <td>CN1CCCN2CCCN=C12</td>\n",
       "      <td>CC(C)C1=CC(C(C)C)=CC(C(C)C)=C1C2=C(P(C3CCCCC3)...</td>\n",
       "      <td>14.967396</td>\n",
       "    </tr>\n",
       "    <tr>\n",
       "      <th>3</th>\n",
       "      <td>FC(F)(F)c1ccc(Cl)cc1</td>\n",
       "      <td>CCOC(=O)c1onc(C)c1</td>\n",
       "      <td>CN(C)P(N(C)C)(N(C)C)=NP(N(C)C)(N(C)C)=NCC</td>\n",
       "      <td>CC(C)C1=CC(C(C)C)=CC(C(C)C)=C1C2=C(P(C3CCCCC3)...</td>\n",
       "      <td>3.606677</td>\n",
       "    </tr>\n",
       "    <tr>\n",
       "      <th>4</th>\n",
       "      <td>FC(F)(F)c1ccc(Cl)cc1</td>\n",
       "      <td>CCOC(=O)c1onc(C)c1</td>\n",
       "      <td>CN(C)/C(N(C)C)=N\\C(C)(C)C</td>\n",
       "      <td>CC(C)C1=CC(C(C)C)=CC(C(C)C)=C1C2=C(P(C3CCCCC3)...</td>\n",
       "      <td>5.008761</td>\n",
       "    </tr>\n",
       "  </tbody>\n",
       "</table>\n",
       "</div>"
      ],
      "text/plain": [
       "            aryl_halide            additive  \\\n",
       "0  FC(F)(F)c1ccc(Cl)cc1     o1nccc1c2ccccc2   \n",
       "1  FC(F)(F)c1ccc(Cl)cc1     o1nccc1c2ccccc2   \n",
       "2  FC(F)(F)c1ccc(Cl)cc1     o1nccc1c2ccccc2   \n",
       "3  FC(F)(F)c1ccc(Cl)cc1  CCOC(=O)c1onc(C)c1   \n",
       "4  FC(F)(F)c1ccc(Cl)cc1  CCOC(=O)c1onc(C)c1   \n",
       "\n",
       "                                        base  \\\n",
       "0  CN(C)P(N(C)C)(N(C)C)=NP(N(C)C)(N(C)C)=NCC   \n",
       "1                  CN(C)/C(N(C)C)=N\\C(C)(C)C   \n",
       "2                           CN1CCCN2CCCN=C12   \n",
       "3  CN(C)P(N(C)C)(N(C)C)=NP(N(C)C)(N(C)C)=NCC   \n",
       "4                  CN(C)/C(N(C)C)=N\\C(C)(C)C   \n",
       "\n",
       "                                              ligand      yield  \n",
       "0  CC(C)C1=CC(C(C)C)=CC(C(C)C)=C1C2=C(P(C3CCCCC3)...  10.657812  \n",
       "1  CC(C)C1=CC(C(C)C)=CC(C(C)C)=C1C2=C(P(C3CCCCC3)...  14.018641  \n",
       "2  CC(C)C1=CC(C(C)C)=CC(C(C)C)=C1C2=C(P(C3CCCCC3)...  14.967396  \n",
       "3  CC(C)C1=CC(C(C)C)=CC(C(C)C)=C1C2=C(P(C3CCCCC3)...   3.606677  \n",
       "4  CC(C)C1=CC(C(C)C)=CC(C(C)C)=C1C2=C(P(C3CCCCC3)...   5.008761  "
      ]
     },
     "execution_count": 101,
     "metadata": {},
     "output_type": "execute_result"
    }
   ],
   "source": [
    "# load each dataset\n",
    "dataset_a = Dataset(kind='buchwald_a')\n",
    "dataset_b = Dataset(kind='buchwald_b')\n",
    "dataset_c = Dataset(kind='buchwald_c')\n",
    "dataset_d = Dataset(kind='buchwald_d')\n",
    "dataset_e = Dataset(kind='buchwald_e')\n",
    "dataset_a.data.head()"
   ]
  },
  {
   "cell_type": "code",
   "execution_count": 102,
   "id": "31c26c7d",
   "metadata": {},
   "outputs": [],
   "source": [
    "def lookup(df_results, aryl_halide, additive, base, ligand):\n",
    "    match = df_results.loc[\n",
    "               (df_results['aryl_halide'] == aryl_halide) &\n",
    "               (df_results['additive'] == additive) &\n",
    "               (df_results['base'] == base) &\n",
    "               (df_results['ligand'] == ligand)\n",
    "    ]\n",
    "    assert len(match) in [1, 0]\n",
    "    if len(match) == 0:\n",
    "        return  0.0\n",
    "    elif len(match)==1:\n",
    "        return match.loc[:, 'yield'].to_numpy()[0]\n",
    "    else:\n",
    "        raise ValueError()\n",
    "        \n",
    "        \n",
    "def param_to_ohe(dataset, aryl_halide, additive, base, ligand):\n",
    "    param_space = dataset.param_space\n",
    "    ohe = []\n",
    "    for param, val in zip(param_space, [aryl_halide, additive, base, ligand]):\n",
    "        loc = param.options.index(val)\n",
    "        ohe_ = [0. for _ in range(len(param.options))]\n",
    "        ohe_[loc] = 1.\n",
    "        ohe.extend(ohe_)\n",
    "    return np.array(ohe)\n",
    "\n",
    "\n",
    "def create_options(dataset):\n",
    "    param_space = dataset.param_space\n",
    "    param_names = [p.name for p in param_space]\n",
    "    param_options = [p.options for p in param_space]\n",
    "    \n",
    "    cart_product = list(itertools.product(*param_options))\n",
    "    cart_product = [list(elem) for elem in cart_product]\n",
    "    \n",
    "    return cart_product"
   ]
  },
  {
   "cell_type": "code",
   "execution_count": 103,
   "id": "ba618b5e",
   "metadata": {},
   "outputs": [],
   "source": [
    "product = create_options(dataset_a)\n",
    "yields = []\n",
    "params = []\n",
    "for param in product:\n",
    "    p = {\n",
    "        'aryl_halide': param[0],\n",
    "        'additive': param[1],\n",
    "        'base': param[2],\n",
    "        'ligand': param[3],\n",
    "    }\n",
    "    y = dataset_a.run(ParameterVector().from_dict(p, dataset_a.param_space))\n",
    "    yields.append(y[0][0])\n",
    "    ohe = param_to_ohe(dataset_a, param[0],param[1], param[2], param[3])\n",
    "    params.append(ohe)\n",
    "    \n",
    "ix = np.argsort(yields)[::-1]\n",
    "sort_yields = [yields[i] for i in ix]\n",
    "sort_params = [product[i] for i in ix]"
   ]
  },
  {
   "cell_type": "code",
   "execution_count": 104,
   "id": "e2091a7d",
   "metadata": {},
   "outputs": [],
   "source": [
    "best_a = {'params': sort_params[:10], 'values': sort_yields[:10]}\n",
    "task_a = {'params':np.array(params), 'values': np.array(yields).reshape(-1, 1)}"
   ]
  },
  {
   "cell_type": "code",
   "execution_count": null,
   "id": "eb5e253e",
   "metadata": {},
   "outputs": [],
   "source": []
  },
  {
   "cell_type": "code",
   "execution_count": 105,
   "id": "f3f474fd",
   "metadata": {},
   "outputs": [],
   "source": [
    "product = create_options(dataset_b)\n",
    "yields = []\n",
    "params = []\n",
    "for param in product:\n",
    "    p = {\n",
    "        'aryl_halide': param[0],\n",
    "        'additive': param[1],\n",
    "        'base': param[2],\n",
    "        'ligand': param[3],\n",
    "    }\n",
    "    y = dataset_b.run(ParameterVector().from_dict(p, dataset_b.param_space))\n",
    "    yields.append(y[0][0])\n",
    "    ohe = param_to_ohe(dataset_b, param[0],param[1], param[2], param[3])\n",
    "    params.append(ohe)\n",
    "    \n",
    "ix = np.argsort(yields)[::-1]\n",
    "sort_yields = [yields[i] for i in ix]\n",
    "sort_params = [product[i] for i in ix]"
   ]
  },
  {
   "cell_type": "code",
   "execution_count": 106,
   "id": "a47cdfc5",
   "metadata": {},
   "outputs": [],
   "source": [
    "best_b = {'params': sort_params[:10], 'values': sort_yields[:10]}\n",
    "task_b = {'params':np.array(params), 'values': np.array(yields).reshape(-1, 1)}"
   ]
  },
  {
   "cell_type": "code",
   "execution_count": null,
   "id": "c1584d03",
   "metadata": {},
   "outputs": [],
   "source": []
  },
  {
   "cell_type": "code",
   "execution_count": 107,
   "id": "8e231ed1",
   "metadata": {},
   "outputs": [],
   "source": [
    "product = create_options(dataset_c)\n",
    "yields = []\n",
    "params = []\n",
    "for param in product:\n",
    "    p = {\n",
    "        'aryl_halide': param[0],\n",
    "        'additive': param[1],\n",
    "        'base': param[2],\n",
    "        'ligand': param[3],\n",
    "    }\n",
    "    y = dataset_c.run(ParameterVector().from_dict(p, dataset_c.param_space))\n",
    "    yields.append(y[0][0])\n",
    "    ohe = param_to_ohe(dataset_c, param[0],param[1], param[2], param[3])\n",
    "    params.append(ohe)\n",
    "    \n",
    "ix = np.argsort(yields)[::-1]\n",
    "sort_yields = [yields[i] for i in ix]\n",
    "sort_params = [product[i] for i in ix]"
   ]
  },
  {
   "cell_type": "code",
   "execution_count": 108,
   "id": "c7ed9b47",
   "metadata": {},
   "outputs": [],
   "source": [
    "best_c = {'params': sort_params[:10], 'values': sort_yields[:10]}\n",
    "task_c = {'params':np.array(params), 'values': np.array(yields).reshape(-1, 1)}"
   ]
  },
  {
   "cell_type": "code",
   "execution_count": null,
   "id": "1b787274",
   "metadata": {},
   "outputs": [],
   "source": []
  },
  {
   "cell_type": "code",
   "execution_count": 109,
   "id": "717ad883",
   "metadata": {},
   "outputs": [],
   "source": [
    "product = create_options(dataset_d)\n",
    "yields = []\n",
    "params = []\n",
    "for param in product:\n",
    "    p = {\n",
    "        'aryl_halide': param[0],\n",
    "        'additive': param[1],\n",
    "        'base': param[2],\n",
    "        'ligand': param[3],\n",
    "    }\n",
    "    y = dataset_d.run(ParameterVector().from_dict(p, dataset_d.param_space))\n",
    "    yields.append(y[0][0])\n",
    "    ohe = param_to_ohe(dataset_d, param[0],param[1], param[2], param[3])\n",
    "    params.append(ohe)\n",
    "    \n",
    "ix = np.argsort(yields)[::-1]\n",
    "sort_yields = [yields[i] for i in ix]\n",
    "sort_params = [product[i] for i in ix]"
   ]
  },
  {
   "cell_type": "code",
   "execution_count": 110,
   "id": "b39169ee",
   "metadata": {},
   "outputs": [],
   "source": [
    "best_d = {'params': sort_params[:10], 'values': sort_yields[:10]}\n",
    "task_d = {'params':np.array(params), 'values': np.array(yields).reshape(-1, 1)}"
   ]
  },
  {
   "cell_type": "code",
   "execution_count": null,
   "id": "4c500340",
   "metadata": {},
   "outputs": [],
   "source": []
  },
  {
   "cell_type": "code",
   "execution_count": 111,
   "id": "fbeeff35",
   "metadata": {},
   "outputs": [],
   "source": [
    "product = create_options(dataset_e)\n",
    "yields = []\n",
    "params = []\n",
    "for param in product:\n",
    "    p = {\n",
    "        'aryl_halide': param[0],\n",
    "        'additive': param[1],\n",
    "        'base': param[2],\n",
    "        'ligand': param[3],\n",
    "    }\n",
    "    y = dataset_e.run(ParameterVector().from_dict(p, dataset_e.param_space))\n",
    "    yields.append(y[0][0])\n",
    "    ohe = param_to_ohe(dataset_e, param[0],param[1], param[2], param[3])\n",
    "    params.append(ohe)\n",
    "    \n",
    "ix = np.argsort(yields)[::-1]\n",
    "sort_yields = [yields[i] for i in ix]\n",
    "sort_params = [product[i] for i in ix]"
   ]
  },
  {
   "cell_type": "code",
   "execution_count": 112,
   "id": "73dd262e",
   "metadata": {},
   "outputs": [],
   "source": [
    "best_e = {'params': sort_params[:10], 'values': sort_yields[:10]}\n",
    "task_e = {'params':np.array(params), 'values': np.array(yields).reshape(-1, 1)}"
   ]
  },
  {
   "cell_type": "code",
   "execution_count": null,
   "id": "b2dbabd5",
   "metadata": {},
   "outputs": [],
   "source": []
  },
  {
   "cell_type": "code",
   "execution_count": 113,
   "id": "0de557ac",
   "metadata": {},
   "outputs": [],
   "source": [
    "best = [best_a, best_b, best_c, best_d, best_e]\n",
    "tasks = [task_a, task_b, task_c, task_d, task_e]"
   ]
  },
  {
   "cell_type": "code",
   "execution_count": 114,
   "id": "b5c1c5fa",
   "metadata": {},
   "outputs": [],
   "source": [
    "pickle.dump(best, open('buchwald_best.pkl', 'wb'))\n",
    "pickle.dump(tasks, open('buchwald_tasks.pkl', 'wb'))"
   ]
  },
  {
   "cell_type": "code",
   "execution_count": null,
   "id": "5c7b8f7c",
   "metadata": {},
   "outputs": [],
   "source": []
  }
 ],
 "metadata": {
  "kernelspec": {
   "display_name": "atlas",
   "language": "python",
   "name": "atlas"
  },
  "language_info": {
   "codemirror_mode": {
    "name": "ipython",
    "version": 3
   },
   "file_extension": ".py",
   "mimetype": "text/x-python",
   "name": "python",
   "nbconvert_exporter": "python",
   "pygments_lexer": "ipython3",
   "version": "3.7.12"
  }
 },
 "nbformat": 4,
 "nbformat_minor": 5
}
