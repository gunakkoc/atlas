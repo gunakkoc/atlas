{
 "cells": [
  {
   "cell_type": "code",
   "execution_count": 39,
   "id": "ecbdd8b7",
   "metadata": {},
   "outputs": [],
   "source": [
    "import time\n",
    "import yaml\n",
    "import numpy as np\n",
    "import pandas as pd\n",
    "\n",
    "from rich.console import Console\n",
    "from rich.table import Table\n",
    "from rich.progress import track\n",
    "from rich.progress import Progress\n",
    "\n",
    "from olympus.campaigns import Campaign\n",
    "\n",
    "from atlas import __home__\n",
    "from atlas.ot2.volume_converter import *\n",
    "\n"
   ]
  },
  {
   "cell_type": "code",
   "execution_count": 9,
   "id": "b106828e",
   "metadata": {},
   "outputs": [
    {
     "name": "stdout",
     "output_type": "stream",
     "text": [
      "\n",
      "func param space\n",
      "Discrete (name='paclitaxel', low=0.0, high=1.0, stride=0.1, options=[0.05, 0.1, 0.2, 0.4])\n",
      "Discrete (name='cholesterol', low=0.0, high=1.0, stride=0.1, options=[0.4, 0.9])\n",
      "Discrete (name='dmg-peg_2000', low=0.0, high=1.0, stride=0.1, options=[0.0, 0.015, 0.03, 0.05])\n",
      "\n",
      "full param space\n",
      "Discrete (name='paclitaxel', low=0.0, high=1.0, stride=0.1, options=[0.05, 0.1, 0.2, 0.4])\n",
      "Discrete (name='cholesterol', low=0.0, high=1.0, stride=0.1, options=[0.4, 0.9])\n",
      "Continuous (name='dspc', low=0.0, high=1.0, is_periodic=False)\n",
      "Discrete (name='dmg-peg_2000', low=0.0, high=1.0, stride=0.1, options=[0.0, 0.015, 0.03, 0.05])\n",
      "\n",
      "full space instructions\n",
      "{'dspc': ['cholesterol', 'dmg-peg_2000']}\n",
      "\n",
      "value space\n",
      "Continuous (name='encapsulation_efficiency', low=0.0, high=1.0, is_periodic=False)\n"
     ]
    }
   ],
   "source": [
    "content = open(f'{__home__}/ot2/campaign_config.yaml', 'r')\n",
    "campaign_config = yaml.full_load(content)\n",
    "#print(campaign_config)\n",
    "\n",
    "# compute molar target concentrations and total solvent volumes\n",
    "campaign_config = compute_target_conc(campaign_config)\n",
    "\n",
    "batch_size = campaign_config['general']['batch_size']\n",
    "\n",
    "func_param_space, full_param_space, full_space_instructions = get_param_space(campaign_config)\n",
    "value_space = get_value_space(campaign_config)\n",
    "print('\\nfunc param space')\n",
    "print(func_param_space)\n",
    "print('\\nfull param space')\n",
    "print(full_param_space)\n",
    "print('\\nfull space instructions')\n",
    "print(full_space_instructions)\n",
    "print('\\nvalue space')\n",
    "print(value_space)\n",
    "\n",
    "# functional campaign\n",
    "func_campaign = Campaign()\n",
    "func_campaign.set_param_space(func_param_space)\n",
    "func_campaign.set_value_space(value_space)\n",
    "\n",
    "# full campaign\n",
    "full_campaign = Campaign()\n",
    "full_campaign.set_param_space(full_param_space)\n",
    "full_campaign.set_value_space(value_space)"
   ]
  },
  {
   "cell_type": "code",
   "execution_count": 29,
   "id": "902acb37",
   "metadata": {},
   "outputs": [
    {
     "data": {
      "text/plain": [
       "'minimize'"
      ]
     },
     "execution_count": 29,
     "metadata": {},
     "output_type": "execute_result"
    }
   ],
   "source": [
    "full_campaign.goal"
   ]
  },
  {
   "cell_type": "code",
   "execution_count": null,
   "id": "2cf8708c",
   "metadata": {},
   "outputs": [],
   "source": []
  },
  {
   "cell_type": "code",
   "execution_count": null,
   "id": "f86399e4",
   "metadata": {},
   "outputs": [],
   "source": []
  },
  {
   "cell_type": "code",
   "execution_count": 24,
   "id": "31b220be",
   "metadata": {},
   "outputs": [],
   "source": []
  },
  {
   "cell_type": "code",
   "execution_count": 32,
   "id": "15596b30",
   "metadata": {},
   "outputs": [
    {
     "data": {
      "text/html": [
       "<pre style=\"white-space:pre;overflow-x:auto;line-height:normal;font-family:Menlo,'DejaVu Sans Mono',consolas,'Courier New',monospace\"><span style=\"font-style: italic\">     Experiment Configuration Parameter Space      </span>\n",
       "┏━━━━━━━━━━━━━━━━┳━━━━━━━━━━━━┳━━━━━━━━━━━━━━━━━━━┓\n",
       "┃<span style=\"font-weight: bold\"> Parameter Name </span>┃<span style=\"font-weight: bold\">    Type    </span>┃<span style=\"font-weight: bold\"> Range (# Options) </span>┃\n",
       "┡━━━━━━━━━━━━━━━━╇━━━━━━━━━━━━╇━━━━━━━━━━━━━━━━━━━┩\n",
       "│<span style=\"color: #008080; text-decoration-color: #008080\">   paclitaxel   </span>│<span style=\"color: #008080; text-decoration-color: #008080\">  discrete  </span>│<span style=\"color: #800080; text-decoration-color: #800080\">      N/A (4)      </span>│\n",
       "│<span style=\"color: #008080; text-decoration-color: #008080\">  cholesterol   </span>│<span style=\"color: #008080; text-decoration-color: #008080\">  discrete  </span>│<span style=\"color: #800080; text-decoration-color: #800080\">      N/A (2)      </span>│\n",
       "│<span style=\"color: #008080; text-decoration-color: #008080\">      dspc      </span>│<span style=\"color: #008080; text-decoration-color: #008080\"> continuous </span>│<span style=\"color: #800080; text-decoration-color: #800080\"> [0.0 - 1.0] (N/A) </span>│\n",
       "│<span style=\"color: #008080; text-decoration-color: #008080\">  dmg-peg_2000  </span>│<span style=\"color: #008080; text-decoration-color: #008080\">  discrete  </span>│<span style=\"color: #800080; text-decoration-color: #800080\">      N/A (4)      </span>│\n",
       "└────────────────┴────────────┴───────────────────┘\n",
       "</pre>\n"
      ],
      "text/plain": [
       "\u001b[3m     Experiment Configuration Parameter Space      \u001b[0m\n",
       "┏━━━━━━━━━━━━━━━━┳━━━━━━━━━━━━┳━━━━━━━━━━━━━━━━━━━┓\n",
       "┃\u001b[1m \u001b[0m\u001b[1mParameter Name\u001b[0m\u001b[1m \u001b[0m┃\u001b[1m \u001b[0m\u001b[1m   Type   \u001b[0m\u001b[1m \u001b[0m┃\u001b[1m \u001b[0m\u001b[1mRange (# Options)\u001b[0m\u001b[1m \u001b[0m┃\n",
       "┡━━━━━━━━━━━━━━━━╇━━━━━━━━━━━━╇━━━━━━━━━━━━━━━━━━━┩\n",
       "│\u001b[36m \u001b[0m\u001b[36m  paclitaxel  \u001b[0m\u001b[36m \u001b[0m│\u001b[36m \u001b[0m\u001b[36m discrete \u001b[0m\u001b[36m \u001b[0m│\u001b[35m \u001b[0m\u001b[35m     N/A (4)     \u001b[0m\u001b[35m \u001b[0m│\n",
       "│\u001b[36m \u001b[0m\u001b[36m cholesterol  \u001b[0m\u001b[36m \u001b[0m│\u001b[36m \u001b[0m\u001b[36m discrete \u001b[0m\u001b[36m \u001b[0m│\u001b[35m \u001b[0m\u001b[35m     N/A (2)     \u001b[0m\u001b[35m \u001b[0m│\n",
       "│\u001b[36m \u001b[0m\u001b[36m     dspc     \u001b[0m\u001b[36m \u001b[0m│\u001b[36m \u001b[0m\u001b[36mcontinuous\u001b[0m\u001b[36m \u001b[0m│\u001b[35m \u001b[0m\u001b[35m[0.0 - 1.0] (N/A)\u001b[0m\u001b[35m \u001b[0m│\n",
       "│\u001b[36m \u001b[0m\u001b[36m dmg-peg_2000 \u001b[0m\u001b[36m \u001b[0m│\u001b[36m \u001b[0m\u001b[36m discrete \u001b[0m\u001b[36m \u001b[0m│\u001b[35m \u001b[0m\u001b[35m     N/A (4)     \u001b[0m\u001b[35m \u001b[0m│\n",
       "└────────────────┴────────────┴───────────────────┘\n"
      ]
     },
     "metadata": {},
     "output_type": "display_data"
    }
   ],
   "source": [
    "table = Table(title='Experiment Configuration Parameter Space')\n",
    "\n",
    "table.add_column('Parameter Name', justify='center', style='cyan', no_wrap=True)\n",
    "table.add_column('Type', justify='center', style='cyan', no_wrap=True)\n",
    "table.add_column('Range (# Options)', style='magenta', justify='center')\n",
    "\n",
    "for param in full_param_space:\n",
    "    if param.type=='continuous':\n",
    "        range_ = f'[{param.low} - {param.high}]'\n",
    "        num_options='N/A'\n",
    "    else:\n",
    "        range_ = 'N/A'\n",
    "        num_options=len(param.options)\n",
    "    table.add_row(\n",
    "        param.name,\n",
    "        param.type,\n",
    "        f'{range_} ({num_options})',\n",
    "        \n",
    "    )\n",
    "console = Console()\n",
    "console.print(table)"
   ]
  },
  {
   "cell_type": "code",
   "execution_count": 26,
   "id": "ff1fed4c",
   "metadata": {},
   "outputs": [
    {
     "data": {
      "text/html": [
       "<pre style=\"white-space:pre;overflow-x:auto;line-height:normal;font-family:Menlo,'DejaVu Sans Mono',consolas,'Courier New',monospace\"><span style=\"font-style: italic\">     Experiment Configuration Parameter Space      </span>\n",
       "┏━━━━━━━━━━━━━━━━┳━━━━━━━━━━━━┳━━━━━━━━━━━━━━━━━━━┓\n",
       "┃<span style=\"font-weight: bold\"> Parameter Name </span>┃<span style=\"font-weight: bold\">    Type    </span>┃<span style=\"font-weight: bold\"> Range (# Options) </span>┃\n",
       "┡━━━━━━━━━━━━━━━━╇━━━━━━━━━━━━╇━━━━━━━━━━━━━━━━━━━┩\n",
       "│<span style=\"color: #008080; text-decoration-color: #008080\">   paclitaxel   </span>│<span style=\"color: #008080; text-decoration-color: #008080\">  discrete  </span>│<span style=\"color: #800080; text-decoration-color: #800080\">      N/A (4)      </span>│\n",
       "│<span style=\"color: #008080; text-decoration-color: #008080\">  cholesterol   </span>│<span style=\"color: #008080; text-decoration-color: #008080\">  discrete  </span>│<span style=\"color: #800080; text-decoration-color: #800080\">      N/A (2)      </span>│\n",
       "│<span style=\"color: #008080; text-decoration-color: #008080\">      dspc      </span>│<span style=\"color: #008080; text-decoration-color: #008080\"> continuous </span>│<span style=\"color: #800080; text-decoration-color: #800080\"> [0.0 - 1.0] (N/A) </span>│\n",
       "│<span style=\"color: #008080; text-decoration-color: #008080\">  dmg-peg_2000  </span>│<span style=\"color: #008080; text-decoration-color: #008080\">  discrete  </span>│<span style=\"color: #800080; text-decoration-color: #800080\">      N/A (4)      </span>│\n",
       "└────────────────┴────────────┴───────────────────┘\n",
       "</pre>\n"
      ],
      "text/plain": [
       "\u001b[3m     Experiment Configuration Parameter Space      \u001b[0m\n",
       "┏━━━━━━━━━━━━━━━━┳━━━━━━━━━━━━┳━━━━━━━━━━━━━━━━━━━┓\n",
       "┃\u001b[1m \u001b[0m\u001b[1mParameter Name\u001b[0m\u001b[1m \u001b[0m┃\u001b[1m \u001b[0m\u001b[1m   Type   \u001b[0m\u001b[1m \u001b[0m┃\u001b[1m \u001b[0m\u001b[1mRange (# Options)\u001b[0m\u001b[1m \u001b[0m┃\n",
       "┡━━━━━━━━━━━━━━━━╇━━━━━━━━━━━━╇━━━━━━━━━━━━━━━━━━━┩\n",
       "│\u001b[36m \u001b[0m\u001b[36m  paclitaxel  \u001b[0m\u001b[36m \u001b[0m│\u001b[36m \u001b[0m\u001b[36m discrete \u001b[0m\u001b[36m \u001b[0m│\u001b[35m \u001b[0m\u001b[35m     N/A (4)     \u001b[0m\u001b[35m \u001b[0m│\n",
       "│\u001b[36m \u001b[0m\u001b[36m cholesterol  \u001b[0m\u001b[36m \u001b[0m│\u001b[36m \u001b[0m\u001b[36m discrete \u001b[0m\u001b[36m \u001b[0m│\u001b[35m \u001b[0m\u001b[35m     N/A (2)     \u001b[0m\u001b[35m \u001b[0m│\n",
       "│\u001b[36m \u001b[0m\u001b[36m     dspc     \u001b[0m\u001b[36m \u001b[0m│\u001b[36m \u001b[0m\u001b[36mcontinuous\u001b[0m\u001b[36m \u001b[0m│\u001b[35m \u001b[0m\u001b[35m[0.0 - 1.0] (N/A)\u001b[0m\u001b[35m \u001b[0m│\n",
       "│\u001b[36m \u001b[0m\u001b[36m dmg-peg_2000 \u001b[0m\u001b[36m \u001b[0m│\u001b[36m \u001b[0m\u001b[36m discrete \u001b[0m\u001b[36m \u001b[0m│\u001b[35m \u001b[0m\u001b[35m     N/A (4)     \u001b[0m\u001b[35m \u001b[0m│\n",
       "└────────────────┴────────────┴───────────────────┘\n"
      ]
     },
     "metadata": {},
     "output_type": "display_data"
    }
   ],
   "source": []
  },
  {
   "cell_type": "code",
   "execution_count": 33,
   "id": "9bf78617",
   "metadata": {},
   "outputs": [
    {
     "data": {
      "text/html": [
       "<pre style=\"white-space:pre;overflow-x:auto;line-height:normal;font-family:Menlo,'DejaVu Sans Mono',consolas,'Courier New',monospace\"><span style=\"font-style: italic\">     Experiment Configuration - Objective Space     </span>\n",
       "┏━━━━━━━━━━━━━━━━━━━━━━━━━━┳━━━━━━━━━━━━┳━━━━━━━━━━┓\n",
       "┃<span style=\"font-weight: bold\">      Objective Name      </span>┃<span style=\"font-weight: bold\">    Type    </span>┃<span style=\"font-weight: bold\">   Goal   </span>┃\n",
       "┡━━━━━━━━━━━━━━━━━━━━━━━━━━╇━━━━━━━━━━━━╇━━━━━━━━━━┩\n",
       "│<span style=\"color: #008080; text-decoration-color: #008080\"> encapsulation_efficiency </span>│<span style=\"color: #008080; text-decoration-color: #008080\"> continuous </span>│<span style=\"color: #800080; text-decoration-color: #800080\"> minimize </span>│\n",
       "└──────────────────────────┴────────────┴──────────┘\n",
       "</pre>\n"
      ],
      "text/plain": [
       "\u001b[3m     Experiment Configuration - Objective Space     \u001b[0m\n",
       "┏━━━━━━━━━━━━━━━━━━━━━━━━━━┳━━━━━━━━━━━━┳━━━━━━━━━━┓\n",
       "┃\u001b[1m \u001b[0m\u001b[1m     Objective Name     \u001b[0m\u001b[1m \u001b[0m┃\u001b[1m \u001b[0m\u001b[1m   Type   \u001b[0m\u001b[1m \u001b[0m┃\u001b[1m \u001b[0m\u001b[1m  Goal  \u001b[0m\u001b[1m \u001b[0m┃\n",
       "┡━━━━━━━━━━━━━━━━━━━━━━━━━━╇━━━━━━━━━━━━╇━━━━━━━━━━┩\n",
       "│\u001b[36m \u001b[0m\u001b[36mencapsulation_efficiency\u001b[0m\u001b[36m \u001b[0m│\u001b[36m \u001b[0m\u001b[36mcontinuous\u001b[0m\u001b[36m \u001b[0m│\u001b[35m \u001b[0m\u001b[35mminimize\u001b[0m\u001b[35m \u001b[0m│\n",
       "└──────────────────────────┴────────────┴──────────┘\n"
      ]
     },
     "metadata": {},
     "output_type": "display_data"
    }
   ],
   "source": [
    "table = Table(title='Experiment Configuration - Objective Space')\n",
    "\n",
    "table.add_column('Objective Name', justify='center', style='cyan', no_wrap=True)\n",
    "table.add_column('Type', justify='center', style='cyan', no_wrap=True)\n",
    "table.add_column('Goal', style='magenta', justify='center')\n",
    "\n",
    "for ix, value in enumerate(value_space):\n",
    "    if len(value_space)==1:\n",
    "        goal=full_campaign.goal\n",
    "    else:\n",
    "        goal=full_campaign.goal[ix]\n",
    "    table.add_row(\n",
    "        value.name,\n",
    "        value.type,\n",
    "        goal\n",
    "    )\n",
    "\n",
    "console = Console()\n",
    "console.print(table)"
   ]
  },
  {
   "cell_type": "code",
   "execution_count": null,
   "id": "d168856d",
   "metadata": {},
   "outputs": [],
   "source": []
  },
  {
   "cell_type": "code",
   "execution_count": 38,
   "id": "f8419681",
   "metadata": {},
   "outputs": [
    {
     "data": {
      "text/html": [
       "<pre style=\"white-space:pre;overflow-x:auto;line-height:normal;font-family:Menlo,'DejaVu Sans Mono',consolas,'Courier New',monospace\">Processing... <span style=\"color: #f92672; text-decoration-color: #f92672\">━━━━━━━━━━━━━━━━━━━━━━</span><span style=\"color: #3a3a3a; text-decoration-color: #3a3a3a\">╺━━━━━━━━━━━━━━━━━</span> <span style=\"color: #800080; text-decoration-color: #800080\"> 55%</span> <span style=\"color: #008080; text-decoration-color: #008080\">0:00:10</span>\n",
       "</pre>\n"
      ],
      "text/plain": [
       "Processing... \u001b[38;2;249;38;114m━━━━━━━━━━━━━━━━━━━━━━\u001b[0m\u001b[38;5;237m╺\u001b[0m\u001b[38;5;237m━━━━━━━━━━━━━━━━━\u001b[0m \u001b[35m 55%\u001b[0m \u001b[36m0:00:10\u001b[0m\n"
      ]
     },
     "metadata": {},
     "output_type": "display_data"
    },
    {
     "data": {
      "text/html": [
       "<pre style=\"white-space:pre;overflow-x:auto;line-height:normal;font-family:Menlo,'DejaVu Sans Mono',consolas,'Courier New',monospace\"></pre>\n"
      ],
      "text/plain": []
     },
     "metadata": {},
     "output_type": "display_data"
    },
    {
     "data": {
      "text/html": [
       "<pre style=\"white-space:pre;overflow-x:auto;line-height:normal;font-family:Menlo,'DejaVu Sans Mono',consolas,'Courier New',monospace\">\n",
       "</pre>\n"
      ],
      "text/plain": [
       "\n"
      ]
     },
     "metadata": {},
     "output_type": "display_data"
    },
    {
     "ename": "KeyboardInterrupt",
     "evalue": "",
     "output_type": "error",
     "traceback": [
      "\u001b[0;31m---------------------------------------------------------------------------\u001b[0m",
      "\u001b[0;31mKeyboardInterrupt\u001b[0m                         Traceback (most recent call last)",
      "\u001b[0;32m/tmp/ipykernel_366897/133557456.py\u001b[0m in \u001b[0;36m<module>\u001b[0;34m\u001b[0m\n\u001b[1;32m      1\u001b[0m \u001b[0;32mfor\u001b[0m \u001b[0mi\u001b[0m \u001b[0;32min\u001b[0m \u001b[0mtrack\u001b[0m\u001b[0;34m(\u001b[0m\u001b[0mrange\u001b[0m\u001b[0;34m(\u001b[0m\u001b[0;36m20\u001b[0m\u001b[0;34m)\u001b[0m\u001b[0;34m,\u001b[0m \u001b[0mdescription\u001b[0m\u001b[0;34m=\u001b[0m\u001b[0;34m\"Processing...\"\u001b[0m\u001b[0;34m)\u001b[0m\u001b[0;34m:\u001b[0m\u001b[0;34m\u001b[0m\u001b[0;34m\u001b[0m\u001b[0m\n\u001b[0;32m----> 2\u001b[0;31m     \u001b[0mtime\u001b[0m\u001b[0;34m.\u001b[0m\u001b[0msleep\u001b[0m\u001b[0;34m(\u001b[0m\u001b[0;36m1\u001b[0m\u001b[0;34m)\u001b[0m  \u001b[0;31m# Simulate work being done\u001b[0m\u001b[0;34m\u001b[0m\u001b[0;34m\u001b[0m\u001b[0m\n\u001b[0m",
      "\u001b[0;31mKeyboardInterrupt\u001b[0m: "
     ]
    }
   ],
   "source": [
    "for i in track(range(20), description=\"Processing...\"):\n",
    "    time.sleep(1)  # Simulate work being done"
   ]
  },
  {
   "cell_type": "code",
   "execution_count": 40,
   "id": "2f674889",
   "metadata": {},
   "outputs": [
    {
     "data": {
      "text/html": [
       "<pre style=\"white-space:pre;overflow-x:auto;line-height:normal;font-family:Menlo,'DejaVu Sans Mono',consolas,'Courier New',monospace\"><span style=\"color: #800000; text-decoration-color: #800000\">Downloading...</span> <span style=\"color: #f92672; text-decoration-color: #f92672\">━━━━━━━━━━━━━━━━━━━━━━━━━━━━━━━━━━━━━━━</span><span style=\"color: #3a3a3a; text-decoration-color: #3a3a3a\">╺</span> <span style=\"color: #800080; text-decoration-color: #800080\"> 98%</span> <span style=\"color: #008080; text-decoration-color: #008080\">0:00:01</span>\n",
       "<span style=\"color: #008000; text-decoration-color: #008000\">Processing...</span>  <span style=\"color: #f92672; text-decoration-color: #f92672\">━━━━━━━━━━━━━━━━━━━━━━━</span><span style=\"color: #3a3a3a; text-decoration-color: #3a3a3a\">╺━━━━━━━━━━━━━━━━</span> <span style=\"color: #800080; text-decoration-color: #800080\"> 59%</span> <span style=\"color: #008080; text-decoration-color: #008080\">0:00:28</span>\n",
       "<span style=\"color: #008080; text-decoration-color: #008080\">Cooking...</span>     <span style=\"color: #729c1f; text-decoration-color: #729c1f\">━━━━━━━━━━━━━━━━━━━━━━━━━━━━━━━━━━━━━━━━</span> <span style=\"color: #800080; text-decoration-color: #800080\">100%</span> <span style=\"color: #008080; text-decoration-color: #008080\">0:00:00</span>\n",
       "</pre>\n"
      ],
      "text/plain": [
       "\u001b[31mDownloading...\u001b[0m \u001b[38;2;249;38;114m━━━━━━━━━━━━━━━━━━━━━━━━━━━━━━━━━━━━━━━\u001b[0m\u001b[38;5;237m╺\u001b[0m \u001b[35m 98%\u001b[0m \u001b[36m0:00:01\u001b[0m\n",
       "\u001b[32mProcessing...\u001b[0m  \u001b[38;2;249;38;114m━━━━━━━━━━━━━━━━━━━━━━━\u001b[0m\u001b[38;5;237m╺\u001b[0m\u001b[38;5;237m━━━━━━━━━━━━━━━━\u001b[0m \u001b[35m 59%\u001b[0m \u001b[36m0:00:28\u001b[0m\n",
       "\u001b[36mCooking...\u001b[0m     \u001b[38;2;114;156;31m━━━━━━━━━━━━━━━━━━━━━━━━━━━━━━━━━━━━━━━━\u001b[0m \u001b[35m100%\u001b[0m \u001b[36m0:00:00\u001b[0m\n"
      ]
     },
     "metadata": {},
     "output_type": "display_data"
    },
    {
     "data": {
      "text/html": [
       "<pre style=\"white-space:pre;overflow-x:auto;line-height:normal;font-family:Menlo,'DejaVu Sans Mono',consolas,'Courier New',monospace\"></pre>\n"
      ],
      "text/plain": []
     },
     "metadata": {},
     "output_type": "display_data"
    },
    {
     "data": {
      "text/html": [
       "<pre style=\"white-space:pre;overflow-x:auto;line-height:normal;font-family:Menlo,'DejaVu Sans Mono',consolas,'Courier New',monospace\">\n",
       "</pre>\n"
      ],
      "text/plain": [
       "\n"
      ]
     },
     "metadata": {},
     "output_type": "display_data"
    },
    {
     "ename": "KeyboardInterrupt",
     "evalue": "",
     "output_type": "error",
     "traceback": [
      "\u001b[0;31m---------------------------------------------------------------------------\u001b[0m",
      "\u001b[0;31mKeyboardInterrupt\u001b[0m                         Traceback (most recent call last)",
      "\u001b[0;32m/tmp/ipykernel_366897/3638095152.py\u001b[0m in \u001b[0;36m<module>\u001b[0;34m\u001b[0m\n\u001b[1;32m      9\u001b[0m         \u001b[0mprogress\u001b[0m\u001b[0;34m.\u001b[0m\u001b[0mupdate\u001b[0m\u001b[0;34m(\u001b[0m\u001b[0mtask2\u001b[0m\u001b[0;34m,\u001b[0m \u001b[0madvance\u001b[0m\u001b[0;34m=\u001b[0m\u001b[0;36m0.3\u001b[0m\u001b[0;34m)\u001b[0m\u001b[0;34m\u001b[0m\u001b[0;34m\u001b[0m\u001b[0m\n\u001b[1;32m     10\u001b[0m         \u001b[0mprogress\u001b[0m\u001b[0;34m.\u001b[0m\u001b[0mupdate\u001b[0m\u001b[0;34m(\u001b[0m\u001b[0mtask3\u001b[0m\u001b[0;34m,\u001b[0m \u001b[0madvance\u001b[0m\u001b[0;34m=\u001b[0m\u001b[0;36m0.9\u001b[0m\u001b[0;34m)\u001b[0m\u001b[0;34m\u001b[0m\u001b[0;34m\u001b[0m\u001b[0m\n\u001b[0;32m---> 11\u001b[0;31m         \u001b[0mtime\u001b[0m\u001b[0;34m.\u001b[0m\u001b[0msleep\u001b[0m\u001b[0;34m(\u001b[0m\u001b[0;36m0.02\u001b[0m\u001b[0;34m)\u001b[0m\u001b[0;34m\u001b[0m\u001b[0;34m\u001b[0m\u001b[0m\n\u001b[0m",
      "\u001b[0;31mKeyboardInterrupt\u001b[0m: "
     ]
    }
   ],
   "source": [
    "with Progress() as progress:\n",
    "\n",
    "    task1 = progress.add_task(\"[red]Downloading...\", total=1000)\n",
    "    task2 = progress.add_task(\"[green]Processing...\", total=1000)\n",
    "    task3 = progress.add_task(\"[cyan]Cooking...\", total=1000)\n",
    "\n",
    "    while not progress.finished:\n",
    "        progress.update(task1, advance=0.5)\n",
    "        progress.update(task2, advance=0.3)\n",
    "        progress.update(task3, advance=0.9)\n",
    "        time.sleep(0.02)\n"
   ]
  },
  {
   "cell_type": "code",
   "execution_count": null,
   "id": "491629c7",
   "metadata": {},
   "outputs": [],
   "source": []
  }
 ],
 "metadata": {
  "kernelspec": {
   "display_name": "atlas",
   "language": "python",
   "name": "atlas"
  },
  "language_info": {
   "codemirror_mode": {
    "name": "ipython",
    "version": 3
   },
   "file_extension": ".py",
   "mimetype": "text/x-python",
   "name": "python",
   "nbconvert_exporter": "python",
   "pygments_lexer": "ipython3",
   "version": "3.7.12"
  }
 },
 "nbformat": 4,
 "nbformat_minor": 5
}
