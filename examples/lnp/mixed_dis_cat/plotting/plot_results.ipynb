{
 "cells": [
  {
   "cell_type": "code",
<<<<<<< HEAD
   "execution_count": 7,
=======
<<<<<<< HEAD
   "execution_count": 1,
   "id": "0e767622",
=======
   "execution_count": 24,
>>>>>>> e46ef7bee58c3f4bda568cc3c0d6b8ca3a1a82ce
   "id": "f2639f8e",
>>>>>>> bfae592f7d5fd5fcbbaef1e5f1ae59121187bcb6
   "metadata": {},
   "outputs": [],
   "source": [
    "import pickle\n",
    "import math\n",
    "import numpy as np\n",
    "import pandas as pd\n",
    "import matplotlib.pyplot as plt\n",
    "import seaborn as sns\n",
    "from copy import deepcopy\n",
    "\n",
    "import olympus\n",
    "from olympus.scalarizers import Scalarizer\n",
    "from olympus.datasets import Dataset"
   ]
  },
  {
   "cell_type": "code",
<<<<<<< HEAD
   "execution_count": 8,
=======
<<<<<<< HEAD
   "execution_count": 3,
   "id": "aaac5106",
=======
   "execution_count": 25,
>>>>>>> e46ef7bee58c3f4bda568cc3c0d6b8ca3a1a82ce
   "id": "3672b1ce",
   "metadata": {},
   "outputs": [],
   "source": [
    "pal = ['#5104A1', '#C53A5D', '#F06610', '#E6AD14','#E6E172']"
   ]
  },
  {
   "cell_type": "code",
   "execution_count": 9,
   "id": "a8520159",
>>>>>>> bfae592f7d5fd5fcbbaef1e5f1ae59121187bcb6
   "metadata": {},
   "outputs": [],
   "source": [
    "def get_traces(data, scalarizer):\n",
    "    ''' returns the best merit traces\n",
    "    '''\n",
    "    traces = []\n",
    "    for df in data:\n",
    "        scalarized = scalarizer.scalarize(df.loc[:, [ 'drug_loading', 'encap_efficiency', 'particle_diameter']].values)\n",
    "        trace_best_idx = [np.argmin(scalarized[:i+1]) for i in range(len(scalarized))]\n",
    "        trace0 = [df.loc[i, 'drug_loading'] for i in trace_best_idx]\n",
    "        trace1 = [df.loc[i, 'encap_efficiency'] for i in trace_best_idx]\n",
    "        trace2 = [df.loc[i, 'particle_diameter'] for i in trace_best_idx]\n",
    "        traces.append([trace0, trace1, trace2])\n",
    "    return np.array(traces)\n",
    "\n",
    "def get_rank_traces(data, dataset, scalarizer):\n",
    "    scalarized = scalarizer.scalarize(dataset.data.loc[:, [ 'drug_loading', 'encap_efficiency', 'particle_diameter']].values)\n",
    "    dataset.data['scalarized'] = scalarized\n",
    "    dataset.data = dataset.data.sort_values(by='scalarized')\n",
    "    dataset.data['rank'] = np.arange(len(scalarized))+1\n",
    "\n",
    "    traces = []\n",
    "    for df in data:\n",
    "        print(df.head())\n",
    "        df['rank'] = 0.\n",
    "        merged = pd.merge(df, dataset.data, how='left', on=param_names+obj_names, )#right_on='rank')\n",
    "        print(merged.head())\n",
    "#         print(data.head())\n",
    "#         print(merged.shape)\n",
    "#         print('-'*75)\n",
    "        ranks = merged['rank_y'].cummin().to_list()\n",
    "        print(ranks)\n",
    "#         print(len(ranks))\n",
    "        traces.append(ranks[:df.shape[0]])\n",
    "    return np.array(traces)\n",
    "            \n",
    "\n",
    "\n",
    "def get_frac_tol(data):\n",
    "    ''' returns the fraction of tolerable molecules uncovered at each iteration\n",
    "    '''\n",
    "    traces = []\n",
    "    df_tol = df_results[\n",
    "            (df_results['ered']>chimera.tolerances[0])&\n",
    "            (df_results['gsol']<chimera.tolerances[1])&\n",
    "            (df_results['abs_lam_diff']>chimera.tolerances[2])\n",
    "        ]\n",
    "    for df in data:\n",
    "        frac_tols  = []\n",
    "        for i in range(df.shape[0]): \n",
    "            sub_df = df.iloc[:i+1, :]\n",
    "            data_tol = sub_df[\n",
    "                    (sub_df['ered']>chimera.tolerances[0])&\n",
    "                    (sub_df['gsol']<chimera.tolerances[1])&\n",
    "                    (sub_df['abs_lam_diff']>chimera.tolerances[2])\n",
    "                ]\n",
    "            frac_tol = data_tol.shape[0] / df_tol.shape[0]\n",
    "            frac_tols.append(frac_tol)\n",
    "        traces.append(frac_tols)\n",
    "        \n",
    "    return np.array(traces)   # (num_runs, num_iterations)\n",
    "\n",
    "\n",
    "def get_num_evals_best(data, best_objs):\n",
    "    num_evals = []\n",
    "    for d in data: \n",
    "        ix = d.index[\n",
    "            (d['drug_loading']==best_objs[0])&\\\n",
    "            (d['encap_efficiency']==best_objs[1])&\\\n",
    "            (d['particle_diameter']==best_objs[2])\n",
    "        ].tolist()\n",
    "        if ix != []:\n",
    "            num_evals.append(ix[0])\n",
    "        else:\n",
    "            num_evals.append(d.shape[0])\n",
    "        \n",
    "    return num_evals\n",
    "\n",
    "def get_num_batches_best(data, best_objs, batch_size):\n",
    "    num_batches = []\n",
    "    for d in data:\n",
    "        ix = d.index[\n",
    "            (d['drug_loading']==best_objs[0])&\\\n",
    "            (d['encap_efficiency']==best_objs[1])&\\\n",
    "            (d['particle_diameter']==best_objs[2])\n",
    "        ].tolist()\n",
    "        if ix!=[]:\n",
    "            num_batches.append(math.ceil(ix[0]/batch_size))\n",
    "        else:\n",
    "            num_batches.append(math.ceil(data.shape[0]/batch_size))\n",
    "    return num_batches\n",
    "    \n",
    "\n",
    "def get_num_evals_threshold(data, target_objs):\n",
    "    num_evals = []\n",
    "    for d in data:\n",
    "        ix = d.index[\n",
    "            (d['drug_loading']>=targets_objs[0])&\\\n",
    "            (d['encap_efficiency']>=target_objs[1])&\\\n",
    "            (d['particle_diameter']<=target_objs[2])\n",
    "        ].tolist()\n",
    "        if ix != []:\n",
    "            num_evals.append(min(ix))\n",
    "        else:\n",
    "            num_evals.append(d.shape[0])\n",
    "            \n",
    "    return num_evals\n",
    "\n",
    "def plot_rank_trace_mean(data, dataset, scalarizer, ax=None, color=None, label=None, use_std_err=True):\n",
    "        \n",
    "    traces = get_rank_traces(data, dataset, scalarizer)\n",
    "    if ax is None:\n",
    "        fig, ax = plt.subplots()\n",
    "    \n",
    "    mean = np.mean(traces, axis=0)\n",
    "    if use_std_err is True:\n",
    "        stde = np.std(traces, axis=0, ddof=1) / np.sqrt(np.shape(traces)[0] - 1)\n",
    "    else:\n",
    "        stde = np.nanstd(traces, axis=0, ddof=1)\n",
    "\n",
    "    x = np.arange(1, len(mean) + 1, 1)\n",
    "        \n",
    "    ax.plot(x, mean, color='#444444', linewidth=5, zorder=11)\n",
    "    ax.plot(x, mean, color=color, linewidth=4, label=label, zorder=11)\n",
    "    \n",
    "    ax.fill_between(x, y1=mean-1.96*stde, y2=mean+1.96*stde, alpha=0.2, color=color, zorder=10)\n",
    "    ax.plot(x, mean-1.96*stde, color=color, linewidth=1, alpha=0.5, zorder=10)\n",
    "    ax.plot(x, mean+1.96*stde, color=color, linewidth=1, alpha=0.5, zorder=10)\n",
    "    \n",
    "    \n",
    "def plot_trace_mean(data, scalarizer, obj_num=0, ax=None, color=None, label=None, use_std_err=True):\n",
    "        \n",
    "    traces = get_traces(data, scalarizer)[:, obj_num, :]\n",
    "    if ax is None:\n",
    "        fig, ax = plt.subplots()\n",
    "    \n",
    "    mean = np.mean(traces, axis=0)\n",
    "    if use_std_err is True:\n",
    "        stde = np.std(traces, axis=0, ddof=1) / np.sqrt(np.shape(traces)[0] - 1)\n",
    "    else:\n",
    "        stde = np.nanstd(traces, axis=0, ddof=1)\n",
    "\n",
    "    x = np.arange(1, len(mean) + 1, 1)\n",
    "        \n",
    "    ax.plot(x, mean, color='#444444', linewidth=5, zorder=11)\n",
    "    ax.plot(x, mean, color=color, linewidth=4, label=label, zorder=11)\n",
    "    \n",
    "    ax.fill_between(x, y1=mean-1.96*stde, y2=mean+1.96*stde, alpha=0.2, color=color, zorder=10)\n",
    "    ax.plot(x, mean-1.96*stde, color=color, linewidth=1, alpha=0.5, zorder=10)\n",
    "    ax.plot(x, mean+1.96*stde, color=color, linewidth=1, alpha=0.5, zorder=10)\n",
    "\n",
    "\n",
    "# def plot_trace_sigle(pkl_file, ax, obj_name, goal='min', color='k', label='', shift=0.0, use_std_err=True):\n",
    "#     with open(pkl_file, 'rb') as content:\n",
    "#         data = pickle.load(content)\n",
    "#     plot_trace_mean(data, obj_name, goal=goal, ax=ax, color=color, label=label, shift=shift, use_std_err=use_std_err)\n",
    "    \n",
    "\n",
    "def gradient_patch(ax, xmin, xmax, ymin, ymax, fill_color='k', alpha=1, zorder=1):\n",
    "    \n",
    "    x = np.linspace(xmin, xmax, 100)\n",
    "    y = np.linspace(ymin, ymax, 100)\n",
    "    \n",
    "    z = np.empty((100, 1, 4), dtype=float)\n",
    "    rgb = mcolors.colorConverter.to_rgb(fill_color)\n",
    "    z[:,:,:3] = rgb\n",
    "    z[:,:,-1] = np.linspace(0, alpha, 100)[:,None]\n",
    "\n",
    "    im = ax.imshow(z, aspect='auto', extent=[xmin, xmax, ymin, ymax],\n",
    "                   origin='lower', zorder=zorder)\n",
    "\n",
    "    xy = np.column_stack([x, y])\n",
    "    xy = np.vstack([[xmin, ymin], xy, [xmax, ymin], [xmin, ymin]])\n",
    "    clip_path = Rectangle(xy=(xmin, ymin), width=xmax-xmin, height=ymax-ymin, \n",
    "                          facecolor='none', edgecolor='none')\n",
    "    ax.add_patch(clip_path)\n",
    "    im.set_clip_path(clip_path)"
   ]
  },
  {
   "cell_type": "code",
   "execution_count": null,
   "id": "cc22141f",
   "metadata": {},
   "outputs": [],
   "source": []
  },
  {
   "cell_type": "code",
<<<<<<< HEAD
   "execution_count": 10,
=======
<<<<<<< HEAD
   "execution_count": 4,
   "id": "1cdd5a28",
=======
   "execution_count": 27,
>>>>>>> e46ef7bee58c3f4bda568cc3c0d6b8ca3a1a82ce
   "id": "2b20a551",
>>>>>>> bfae592f7d5fd5fcbbaef1e5f1ae59121187bcb6
   "metadata": {},
   "outputs": [],
   "source": [
    "def num_eval_to_x(res, pd, dl, ee):\n",
    "    num_evals = []\n",
    "    for r in res:\n",
    "        good_evals = r.index[(r['particle_diameter']<=np.log10(pd))&(r['drug_loading']>=dl)&(r['encap_efficiency']>=ee)].tolist()\n",
    "        if not good_evals == []:\n",
    "            num_evals.append(np.amin(good_evals)+1)\n",
    "        else:\n",
    "            num_evals.append(r.shape[0]) # budget evals\n",
    "    return num_evals, np.mean(num_evals), np.median(num_evals), np.std(num_evals)"
   ]
  },
  {
   "cell_type": "code",
   "execution_count": null,
   "id": "e9393aaf",
   "metadata": {},
   "outputs": [],
   "source": []
  },
  {
   "cell_type": "code",
<<<<<<< HEAD
   "execution_count": 11,
=======
<<<<<<< HEAD
   "execution_count": 5,
   "id": "22e09f5b",
=======
   "execution_count": 28,
>>>>>>> e46ef7bee58c3f4bda568cc3c0d6b8ca3a1a82ce
   "id": "d83edc68",
>>>>>>> bfae592f7d5fd5fcbbaef1e5f1ae59121187bcb6
   "metadata": {},
   "outputs": [
    {
     "name": "stdout",
     "output_type": "stream",
     "text": [
      "40\n",
      "40\n",
      "40\n"
     ]
<<<<<<< HEAD
=======
    },
    {
     "name": "stderr",
     "output_type": "stream",
     "text": [
<<<<<<< HEAD
      "\u001b[0;31m[FATAL] Could not find dataset `lnp3`. Please choose from one of the available datasets: vapdiff_crystal, suzuki_i, suzuki_iv, agnp, buchwald_a, photo_pce10, snar, colors_n9, fullerenes, oer_plate_4098, perovskites, benzylation, colors_bob, suzuki_iii, photo_wf3, autoam, hplc, crossed_barrel, suzuki, dye_lasers, suzuki_ii, oer_plate_3851, oer_plate_3860, oer_plate_3496, buchwald_b, buchwald_e, redoxmers, p3ht, thin_film, suzuki_edbo, buchwald_d, buchwald_c, alkox.\n",
      "\u001b[0m"
     ]
    },
    {
     "ename": "SystemExit",
     "evalue": "",
     "output_type": "error",
     "traceback": [
      "An exception has occurred, use %tb to see the full traceback.\n",
      "\u001b[0;31mSystemExit\u001b[0m\n"
     ]
    },
    {
     "name": "stderr",
     "output_type": "stream",
     "text": [
      "/opt/anaconda3/envs/atlas/lib/python3.7/site-packages/IPython/core/interactiveshell.py:3561: UserWarning: To exit: use 'exit', 'quit', or Ctrl-D.\n",
      "  warn(\"To exit: use 'exit', 'quit', or Ctrl-D.\", stacklevel=1)\n"
     ]
=======
      "Traceback (most recent call last):\n",
      "  File \"/home/riley/Research_Local/olympus/src/olympus/datasets/dataset.py\", line 116, in __init__\n",
      "    self.scales = read_csv(csv_file, header=None, names=[f'scales_{i}' for i in range(len(self.value_space))]) #.to_numpy()\n",
      "  File \"/home/riley/Software/anaconda3/envs/atlas/lib/python3.7/site-packages/pandas/util/_decorators.py\", line 311, in wrapper\n",
      "    return func(*args, **kwargs)\n",
      "  File \"/home/riley/Software/anaconda3/envs/atlas/lib/python3.7/site-packages/pandas/io/parsers/readers.py\", line 586, in read_csv\n",
      "    return _read(filepath_or_buffer, kwds)\n",
      "  File \"/home/riley/Software/anaconda3/envs/atlas/lib/python3.7/site-packages/pandas/io/parsers/readers.py\", line 482, in _read\n",
      "    parser = TextFileReader(filepath_or_buffer, **kwds)\n",
      "  File \"/home/riley/Software/anaconda3/envs/atlas/lib/python3.7/site-packages/pandas/io/parsers/readers.py\", line 811, in __init__\n",
      "    self._engine = self._make_engine(self.engine)\n",
      "  File \"/home/riley/Software/anaconda3/envs/atlas/lib/python3.7/site-packages/pandas/io/parsers/readers.py\", line 1040, in _make_engine\n",
      "    return mapping[engine](self.f, **self.options)  # type: ignore[call-arg]\n",
      "  File \"/home/riley/Software/anaconda3/envs/atlas/lib/python3.7/site-packages/pandas/io/parsers/c_parser_wrapper.py\", line 51, in __init__\n",
      "    self._open_handles(src, kwds)\n",
      "  File \"/home/riley/Software/anaconda3/envs/atlas/lib/python3.7/site-packages/pandas/io/parsers/base_parser.py\", line 229, in _open_handles\n",
      "    errors=kwds.get(\"encoding_errors\", \"strict\"),\n",
      "  File \"/home/riley/Software/anaconda3/envs/atlas/lib/python3.7/site-packages/pandas/io/common.py\", line 707, in get_handle\n",
      "    newline=\"\",\n",
      "FileNotFoundError: [Errno 2] No such file or directory: '/home/riley/Research_Local/olympus/src/olympus/datasets/dataset_lnp3/scales.csv'\n",
      "\u001b[1;33m[WARNING] Could not find scales.csv for dataset lnp3, resorting to noiseless measurements\n",
      "\u001b[0m"
     ]
>>>>>>> bfae592f7d5fd5fcbbaef1e5f1ae59121187bcb6
>>>>>>> e46ef7bee58c3f4bda568cc3c0d6b8ca3a1a82ce
    }
   ],
   "source": [
    "# load resulsts\n",
    "raw_res_rand = pickle.load(open('../random/results.pkl', 'rb'))\n",
    "raw_res_bo_1 = pickle.load(open('../botorch/results.pkl', 'rb'))\n",
    "raw_res_bo_32 = pickle.load(open('../botorch_batched/results.pkl', 'rb'))\n",
    "\n",
    "\n",
    "print(len(raw_res_rand))\n",
    "print(len(raw_res_bo_1))\n",
    "print(len(raw_res_bo_32))\n",
    "\n",
    "\n",
    "dataset = Dataset('lnp3')\n",
    "\n",
    "param_names = ['drug_input', 'solid_lipid', 'solid_lipid_input', 'liquid_lipid_input', 'surfractant_input']\n",
    "obj_names = ['drug_loading', 'encap_efficiency', 'particle_diameter']\n",
    "\n"
   ]
  },
  {
   "cell_type": "code",
   "execution_count": null,
   "id": "2ad7da00",
   "metadata": {},
   "outputs": [],
   "source": []
  },
  {
   "cell_type": "code",
<<<<<<< HEAD
   "execution_count": 12,
=======
<<<<<<< HEAD
   "execution_count": 6,
   "id": "98174fc7",
=======
   "execution_count": 29,
>>>>>>> e46ef7bee58c3f4bda568cc3c0d6b8ca3a1a82ce
   "id": "19d212d9",
>>>>>>> bfae592f7d5fd5fcbbaef1e5f1ae59121187bcb6
   "metadata": {},
   "outputs": [
    {
     "ename": "NameError",
     "evalue": "name 'dataset' is not defined",
     "output_type": "error",
     "traceback": [
      "\u001b[0;31m---------------------------------------------------------------------------\u001b[0m",
      "\u001b[0;31mNameError\u001b[0m                                 Traceback (most recent call last)",
      "\u001b[0;32m/var/folders/d8/lrt20kt55zjgtpnv13g2_wt40000gn/T/ipykernel_82959/3942509280.py\u001b[0m in \u001b[0;36m<module>\u001b[0;34m\u001b[0m\n\u001b[0;32m----> 1\u001b[0;31m \u001b[0mmax_drug_loading\u001b[0m \u001b[0;34m=\u001b[0m \u001b[0mdataset\u001b[0m\u001b[0;34m.\u001b[0m\u001b[0mdata\u001b[0m\u001b[0;34m.\u001b[0m\u001b[0mdrug_loading\u001b[0m\u001b[0;34m.\u001b[0m\u001b[0mmax\u001b[0m\u001b[0;34m(\u001b[0m\u001b[0;34m)\u001b[0m\u001b[0;34m\u001b[0m\u001b[0;34m\u001b[0m\u001b[0m\n\u001b[0m\u001b[1;32m      2\u001b[0m \u001b[0mmax_encap_efficiency\u001b[0m \u001b[0;34m=\u001b[0m \u001b[0mdataset\u001b[0m\u001b[0;34m.\u001b[0m\u001b[0mdata\u001b[0m\u001b[0;34m.\u001b[0m\u001b[0mencap_efficiency\u001b[0m\u001b[0;34m.\u001b[0m\u001b[0mmax\u001b[0m\u001b[0;34m(\u001b[0m\u001b[0;34m)\u001b[0m\u001b[0;34m\u001b[0m\u001b[0;34m\u001b[0m\u001b[0m\n\u001b[1;32m      3\u001b[0m \u001b[0mmin_particle_diameter\u001b[0m \u001b[0;34m=\u001b[0m \u001b[0mdataset\u001b[0m\u001b[0;34m.\u001b[0m\u001b[0mdata\u001b[0m\u001b[0;34m.\u001b[0m\u001b[0mparticle_diameter\u001b[0m\u001b[0;34m.\u001b[0m\u001b[0mmin\u001b[0m\u001b[0;34m(\u001b[0m\u001b[0;34m)\u001b[0m\u001b[0;34m\u001b[0m\u001b[0;34m\u001b[0m\u001b[0m\n\u001b[1;32m      4\u001b[0m \u001b[0mprint\u001b[0m\u001b[0;34m(\u001b[0m\u001b[0;34m'max drug_loading : '\u001b[0m\u001b[0;34m,\u001b[0m \u001b[0mmax_drug_loading\u001b[0m\u001b[0;34m)\u001b[0m\u001b[0;34m\u001b[0m\u001b[0;34m\u001b[0m\u001b[0m\n\u001b[1;32m      5\u001b[0m \u001b[0mprint\u001b[0m\u001b[0;34m(\u001b[0m\u001b[0;34m'max encap_efficiency : '\u001b[0m\u001b[0;34m,\u001b[0m \u001b[0mmax_encap_efficiency\u001b[0m\u001b[0;34m)\u001b[0m\u001b[0;34m\u001b[0m\u001b[0;34m\u001b[0m\u001b[0m\n",
      "\u001b[0;31mNameError\u001b[0m: name 'dataset' is not defined"
     ]
    }
   ],
   "source": [
    "max_drug_loading = dataset.data.drug_loading.max()\n",
    "max_encap_efficiency = dataset.data.encap_efficiency.max()\n",
    "min_particle_diameter = dataset.data.particle_diameter.min()\n",
    "print('max drug_loading : ', max_drug_loading)\n",
    "print('max encap_efficiency : ', max_encap_efficiency)\n",
    "print('min |300nm-particle_diameter| : ', min_particle_diameter)\n",
    "\n",
    "params = dataset.data[param_names].values\n",
    "values = dataset.data[obj_names].values\n",
    "\n",
    "scalarizer = Scalarizer(kind='Hypervolume', value_space=dataset.value_space, goals=['max', 'max', 'min'])\n",
    "scalarized = scalarizer.scalarize(values)\n",
    "\n",
    "idx = np.argsort(scalarized)\n",
    "sort_params = params[idx]\n",
    "sort_values = values[idx]\n",
    "sort_scalarized = scalarized[idx]\n",
    "\n",
    "best_objs = sort_values[0]\n",
    "print(sort_params[0])\n",
    "print(best_objs)\n",
    "\n"
   ]
  },
  {
   "cell_type": "code",
<<<<<<< HEAD
   "execution_count": 15,
=======
<<<<<<< HEAD
   "execution_count": 7,
   "id": "fb261f15",
=======
   "execution_count": 14,
>>>>>>> e46ef7bee58c3f4bda568cc3c0d6b8ca3a1a82ce
   "id": "245bca0a",
>>>>>>> bfae592f7d5fd5fcbbaef1e5f1ae59121187bcb6
   "metadata": {},
   "outputs": [
    {
     "ename": "NameError",
     "evalue": "name 'scalarizer' is not defined",
     "output_type": "error",
     "traceback": [
      "\u001b[0;31m---------------------------------------------------------------------------\u001b[0m",
<<<<<<< HEAD
      "\u001b[0;31mNameError\u001b[0m                                 Traceback (most recent call last)",
      "\u001b[0;32m/var/folders/d8/lrt20kt55zjgtpnv13g2_wt40000gn/T/ipykernel_82959/783673053.py\u001b[0m in \u001b[0;36m<module>\u001b[0;34m\u001b[0m\n\u001b[1;32m      2\u001b[0m \u001b[0;34m\u001b[0m\u001b[0m\n\u001b[1;32m      3\u001b[0m \u001b[0;34m\u001b[0m\u001b[0m\n\u001b[0;32m----> 4\u001b[0;31m \u001b[0mplot_trace_mean\u001b[0m\u001b[0;34m(\u001b[0m\u001b[0mraw_res_rand\u001b[0m\u001b[0;34m,\u001b[0m \u001b[0mscalarizer\u001b[0m\u001b[0;34m,\u001b[0m \u001b[0mobj_num\u001b[0m\u001b[0;34m=\u001b[0m\u001b[0;36m0\u001b[0m\u001b[0;34m,\u001b[0m \u001b[0max\u001b[0m\u001b[0;34m=\u001b[0m\u001b[0max0\u001b[0m\u001b[0;34m,\u001b[0m \u001b[0mcolor\u001b[0m\u001b[0;34m=\u001b[0m\u001b[0;32mNone\u001b[0m\u001b[0;34m,\u001b[0m \u001b[0muse_std_err\u001b[0m\u001b[0;34m=\u001b[0m\u001b[0;32mTrue\u001b[0m\u001b[0;34m,\u001b[0m \u001b[0mlabel\u001b[0m\u001b[0;34m=\u001b[0m\u001b[0;34m'Random'\u001b[0m\u001b[0;34m)\u001b[0m\u001b[0;34m\u001b[0m\u001b[0;34m\u001b[0m\u001b[0m\n\u001b[0m\u001b[1;32m      5\u001b[0m \u001b[0mplot_trace_mean\u001b[0m\u001b[0;34m(\u001b[0m\u001b[0mraw_res_bo_1\u001b[0m\u001b[0;34m,\u001b[0m \u001b[0mscalarizer\u001b[0m\u001b[0;34m,\u001b[0m \u001b[0mobj_num\u001b[0m\u001b[0;34m=\u001b[0m\u001b[0;36m0\u001b[0m\u001b[0;34m,\u001b[0m \u001b[0max\u001b[0m\u001b[0;34m=\u001b[0m\u001b[0max0\u001b[0m\u001b[0;34m,\u001b[0m \u001b[0mcolor\u001b[0m\u001b[0;34m=\u001b[0m\u001b[0;32mNone\u001b[0m\u001b[0;34m,\u001b[0m \u001b[0muse_std_err\u001b[0m\u001b[0;34m=\u001b[0m\u001b[0;32mTrue\u001b[0m\u001b[0;34m,\u001b[0m \u001b[0mlabel\u001b[0m\u001b[0;34m=\u001b[0m\u001b[0;34m'Botorch'\u001b[0m\u001b[0;34m)\u001b[0m\u001b[0;34m\u001b[0m\u001b[0;34m\u001b[0m\u001b[0m\n\u001b[1;32m      6\u001b[0m \u001b[0;31m#plot_trace_mean(raw_res_gpyopt_cat_1, scalarizer, obj_num=0, ax=ax0, color=None, use_std_err=True, label='Gpyopt cat')\u001b[0m\u001b[0;34m\u001b[0m\u001b[0;34m\u001b[0m\u001b[0;34m\u001b[0m\u001b[0m\n",
      "\u001b[0;31mNameError\u001b[0m: name 'scalarizer' is not defined"
=======
      "\u001b[0;31mIndexError\u001b[0m                                Traceback (most recent call last)",
      "\u001b[0;32m/tmp/ipykernel_260071/783673053.py\u001b[0m in \u001b[0;36m<module>\u001b[0;34m\u001b[0m\n\u001b[1;32m      3\u001b[0m \u001b[0;34m\u001b[0m\u001b[0m\n\u001b[1;32m      4\u001b[0m \u001b[0mplot_trace_mean\u001b[0m\u001b[0;34m(\u001b[0m\u001b[0mraw_res_rand\u001b[0m\u001b[0;34m,\u001b[0m \u001b[0mscalarizer\u001b[0m\u001b[0;34m,\u001b[0m \u001b[0mobj_num\u001b[0m\u001b[0;34m=\u001b[0m\u001b[0;36m0\u001b[0m\u001b[0;34m,\u001b[0m \u001b[0max\u001b[0m\u001b[0;34m=\u001b[0m\u001b[0max0\u001b[0m\u001b[0;34m,\u001b[0m \u001b[0mcolor\u001b[0m\u001b[0;34m=\u001b[0m\u001b[0;32mNone\u001b[0m\u001b[0;34m,\u001b[0m \u001b[0muse_std_err\u001b[0m\u001b[0;34m=\u001b[0m\u001b[0;32mTrue\u001b[0m\u001b[0;34m,\u001b[0m \u001b[0mlabel\u001b[0m\u001b[0;34m=\u001b[0m\u001b[0;34m'Random'\u001b[0m\u001b[0;34m)\u001b[0m\u001b[0;34m\u001b[0m\u001b[0;34m\u001b[0m\u001b[0m\n\u001b[0;32m----> 5\u001b[0;31m \u001b[0mplot_trace_mean\u001b[0m\u001b[0;34m(\u001b[0m\u001b[0mraw_res_bo_1\u001b[0m\u001b[0;34m,\u001b[0m \u001b[0mscalarizer\u001b[0m\u001b[0;34m,\u001b[0m \u001b[0mobj_num\u001b[0m\u001b[0;34m=\u001b[0m\u001b[0;36m0\u001b[0m\u001b[0;34m,\u001b[0m \u001b[0max\u001b[0m\u001b[0;34m=\u001b[0m\u001b[0max0\u001b[0m\u001b[0;34m,\u001b[0m \u001b[0mcolor\u001b[0m\u001b[0;34m=\u001b[0m\u001b[0;32mNone\u001b[0m\u001b[0;34m,\u001b[0m \u001b[0muse_std_err\u001b[0m\u001b[0;34m=\u001b[0m\u001b[0;32mTrue\u001b[0m\u001b[0;34m,\u001b[0m \u001b[0mlabel\u001b[0m\u001b[0;34m=\u001b[0m\u001b[0;34m'Botorch'\u001b[0m\u001b[0;34m)\u001b[0m\u001b[0;34m\u001b[0m\u001b[0;34m\u001b[0m\u001b[0m\n\u001b[0m\u001b[1;32m      6\u001b[0m \u001b[0;31m#plot_trace_mean(raw_res_gpyopt_cat_1, scalarizer, obj_num=0, ax=ax0, color=None, use_std_err=True, label='Gpyopt cat')\u001b[0m\u001b[0;34m\u001b[0m\u001b[0;34m\u001b[0m\u001b[0;34m\u001b[0m\u001b[0m\n\u001b[1;32m      7\u001b[0m \u001b[0;31m#plot_trace_mean(raw_res_gpyopt_mix_1, scalarizer, obj_num=0, ax=ax0, color=None, use_std_err=True, label='Gpyopt mix')\u001b[0m\u001b[0;34m\u001b[0m\u001b[0;34m\u001b[0m\u001b[0;34m\u001b[0m\u001b[0m\n",
      "\u001b[0;32m/tmp/ipykernel_260071/1677435143.py\u001b[0m in \u001b[0;36mplot_trace_mean\u001b[0;34m(data, scalarizer, obj_num, ax, color, label, use_std_err)\u001b[0m\n\u001b[1;32m    129\u001b[0m \u001b[0;32mdef\u001b[0m \u001b[0mplot_trace_mean\u001b[0m\u001b[0;34m(\u001b[0m\u001b[0mdata\u001b[0m\u001b[0;34m,\u001b[0m \u001b[0mscalarizer\u001b[0m\u001b[0;34m,\u001b[0m \u001b[0mobj_num\u001b[0m\u001b[0;34m=\u001b[0m\u001b[0;36m0\u001b[0m\u001b[0;34m,\u001b[0m \u001b[0max\u001b[0m\u001b[0;34m=\u001b[0m\u001b[0;32mNone\u001b[0m\u001b[0;34m,\u001b[0m \u001b[0mcolor\u001b[0m\u001b[0;34m=\u001b[0m\u001b[0;32mNone\u001b[0m\u001b[0;34m,\u001b[0m \u001b[0mlabel\u001b[0m\u001b[0;34m=\u001b[0m\u001b[0;32mNone\u001b[0m\u001b[0;34m,\u001b[0m \u001b[0muse_std_err\u001b[0m\u001b[0;34m=\u001b[0m\u001b[0;32mTrue\u001b[0m\u001b[0;34m)\u001b[0m\u001b[0;34m:\u001b[0m\u001b[0;34m\u001b[0m\u001b[0;34m\u001b[0m\u001b[0m\n\u001b[1;32m    130\u001b[0m \u001b[0;34m\u001b[0m\u001b[0m\n\u001b[0;32m--> 131\u001b[0;31m     \u001b[0mtraces\u001b[0m \u001b[0;34m=\u001b[0m \u001b[0mget_traces\u001b[0m\u001b[0;34m(\u001b[0m\u001b[0mdata\u001b[0m\u001b[0;34m,\u001b[0m \u001b[0mscalarizer\u001b[0m\u001b[0;34m)\u001b[0m\u001b[0;34m[\u001b[0m\u001b[0;34m:\u001b[0m\u001b[0;34m,\u001b[0m \u001b[0mobj_num\u001b[0m\u001b[0;34m,\u001b[0m \u001b[0;34m:\u001b[0m\u001b[0;34m]\u001b[0m\u001b[0;34m\u001b[0m\u001b[0;34m\u001b[0m\u001b[0m\n\u001b[0m\u001b[1;32m    132\u001b[0m     \u001b[0;32mif\u001b[0m \u001b[0max\u001b[0m \u001b[0;32mis\u001b[0m \u001b[0;32mNone\u001b[0m\u001b[0;34m:\u001b[0m\u001b[0;34m\u001b[0m\u001b[0;34m\u001b[0m\u001b[0m\n\u001b[1;32m    133\u001b[0m         \u001b[0mfig\u001b[0m\u001b[0;34m,\u001b[0m \u001b[0max\u001b[0m \u001b[0;34m=\u001b[0m \u001b[0mplt\u001b[0m\u001b[0;34m.\u001b[0m\u001b[0msubplots\u001b[0m\u001b[0;34m(\u001b[0m\u001b[0;34m)\u001b[0m\u001b[0;34m\u001b[0m\u001b[0;34m\u001b[0m\u001b[0m\n",
      "\u001b[0;31mIndexError\u001b[0m: too many indices for array: array is 2-dimensional, but 3 were indexed"
>>>>>>> bfae592f7d5fd5fcbbaef1e5f1ae59121187bcb6
     ]
    },
    {
     "data": {
      "image/png": "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\n",
      "text/plain": [
       "<Figure size 1008x288 with 3 Axes>"
      ]
     },
     "metadata": {
      "needs_background": "light"
     },
     "output_type": "display_data"
    }
   ],
   "source": [
    "fig, (ax0, ax1, ax2) = plt.subplots(1, 3, figsize=(14, 4))\n",
    "\n",
    "\n",
    "plot_trace_mean(raw_res_rand, scalarizer, obj_num=0, ax=ax0, color=None, use_std_err=True, label='Random')\n",
    "plot_trace_mean(raw_res_bo_1, scalarizer, obj_num=0, ax=ax0, color=None, use_std_err=True, label='Botorch')\n",
    "#plot_trace_mean(raw_res_gpyopt_cat_1, scalarizer, obj_num=0, ax=ax0, color=None, use_std_err=True, label='Gpyopt cat')\n",
    "#plot_trace_mean(raw_res_gpyopt_mix_1, scalarizer, obj_num=0, ax=ax0, color=None, use_std_err=True, label='Gpyopt mix')\n",
    "\n",
    "ax0.axhline(best_objs[0],c='k',lw=2,ls='--') # overall best\n",
    "ax0.axhline(max_drug_loading,c='k',lw=1,ls=':') # single best\n",
    "\n",
    "\n",
    "plot_trace_mean(raw_res_rand, scalarizer, obj_num=1, ax=ax1, color=None, use_std_err=True, label='Random')\n",
    "plot_trace_mean(raw_res_bo_1, scalarizer, obj_num=1, ax=ax1, color=None, use_std_err=True, label='Botorch')\n",
    "#plot_trace_mean(raw_res_gpyopt_cat_1, scalarizer, obj_num=1, ax=ax1, color=None, use_std_err=True, label='Gpyopt cat')\n",
    "#plot_trace_mean(raw_res_gpyopt_mix_1, scalarizer, obj_num=1, ax=ax1, color=None, use_std_err=True, label='Gpyopt mix')\n",
    "\n",
    "ax1.axhline(best_objs[1],c='k',lw=2,ls='--')\n",
    "ax1.axhline(max_encap_efficiency,c='k',lw=1,ls=':') # single best\n",
    "\n",
    "plot_trace_mean(raw_res_rand, scalarizer, obj_num=2, ax=ax2, color=None, use_std_err=True, label='Random')\n",
    "plot_trace_mean(raw_res_bo_1, scalarizer, obj_num=2, ax=ax2, color=None, use_std_err=True, label='Botorch')\n",
    "#plot_trace_mean(raw_res_gpyopt_cat_1, scalarizer, obj_num=2, ax=ax2, color=None, use_std_err=True, label='Gpyopt cat')\n",
    "#plot_trace_mean(raw_res_gpyopt_mix_1, scalarizer, obj_num=2, ax=ax2, color=None, use_std_err=True, label='Gpyopt mix')\n",
    "\n",
    "ax2.axhline(best_objs[2],c='k',lw=2,ls='--')\n",
    "ax2.axhline(min_particle_diameter,c='k',lw=2,ls=':') # single best\n",
    "\n",
    "ax0.set_title('Drug loading capacity')\n",
    "ax1.set_title('Encapsulation efficiency')\n",
    "ax2.set_title('Deviation from 300nm diameter')\n",
    "\n",
    "ax0.legend(loc='lower right')\n",
    "\n",
    "ax0.set_xlabel('# evaluations')\n",
    "ax1.set_xlabel('# evaluations')\n",
    "ax2.set_xlabel('# evaluations')\n",
    "\n",
    "ax0.set_ylabel('drug loading capacity [%]')\n",
    "ax1.set_ylabel('encapsulation efficiency [%]')\n",
    "ax2.set_ylabel('| 300 - particle diameter |  [nm]')\n",
    "\n",
    "\n",
    "ax0.set_xlim(0, 50)\n",
    "ax1.set_xlim(0, 50)\n",
    "ax2.set_xlim(0, 50)# overall best\n",
    "\n",
    "plt.tight_layout()"
   ]
  },
  {
   "cell_type": "code",
   "execution_count": null,
   "id": "bb2d2095",
   "metadata": {},
   "outputs": [],
   "source": []
  },
  {
   "cell_type": "code",
   "execution_count": null,
   "id": "4ed68167",
   "metadata": {},
   "outputs": [],
   "source": []
  },
  {
   "cell_type": "code",
<<<<<<< HEAD
   "execution_count": 16,
=======
<<<<<<< HEAD
   "execution_count": 8,
   "id": "5342afa4",
   "metadata": {},
   "outputs": [
    {
     "ename": "NameError",
     "evalue": "name 'best_objs' is not defined",
     "output_type": "error",
     "traceback": [
      "\u001b[0;31m---------------------------------------------------------------------------\u001b[0m",
      "\u001b[0;31mNameError\u001b[0m                                 Traceback (most recent call last)",
      "\u001b[0;32m/var/folders/d8/lrt20kt55zjgtpnv13g2_wt40000gn/T/ipykernel_82959/279452137.py\u001b[0m in \u001b[0;36m<module>\u001b[0;34m\u001b[0m\n\u001b[0;32m----> 1\u001b[0;31m \u001b[0mnum_evals_rand\u001b[0m \u001b[0;34m=\u001b[0m \u001b[0mget_num_evals_best\u001b[0m\u001b[0;34m(\u001b[0m\u001b[0mraw_res_rand\u001b[0m\u001b[0;34m,\u001b[0m \u001b[0mbest_objs\u001b[0m\u001b[0;34m)\u001b[0m\u001b[0;34m\u001b[0m\u001b[0;34m\u001b[0m\u001b[0m\n\u001b[0m\u001b[1;32m      2\u001b[0m \u001b[0mnum_evals_bo_1\u001b[0m \u001b[0;34m=\u001b[0m \u001b[0mget_num_evals_best\u001b[0m\u001b[0;34m(\u001b[0m\u001b[0mraw_res_bo_1\u001b[0m\u001b[0;34m,\u001b[0m \u001b[0mbest_objs\u001b[0m\u001b[0;34m)\u001b[0m\u001b[0;34m\u001b[0m\u001b[0;34m\u001b[0m\u001b[0m\n\u001b[1;32m      3\u001b[0m \u001b[0;34m\u001b[0m\u001b[0m\n\u001b[1;32m      4\u001b[0m \u001b[0mdf_rand\u001b[0m \u001b[0;34m=\u001b[0m \u001b[0mpd\u001b[0m\u001b[0;34m.\u001b[0m\u001b[0mDataFrame\u001b[0m\u001b[0;34m(\u001b[0m\u001b[0;34m{\u001b[0m\u001b[0;34m'method'\u001b[0m\u001b[0;34m:\u001b[0m \u001b[0;34m[\u001b[0m\u001b[0;34m'Grid search'\u001b[0m \u001b[0;32mfor\u001b[0m \u001b[0m_\u001b[0m \u001b[0;32min\u001b[0m \u001b[0mrange\u001b[0m\u001b[0;34m(\u001b[0m\u001b[0mlen\u001b[0m\u001b[0;34m(\u001b[0m\u001b[0mnum_evals_rand\u001b[0m\u001b[0;34m)\u001b[0m\u001b[0;34m)\u001b[0m\u001b[0;34m]\u001b[0m\u001b[0;34m,\u001b[0m \u001b[0;34m'num_eval'\u001b[0m\u001b[0;34m:\u001b[0m \u001b[0mnum_evals_rand\u001b[0m\u001b[0;34m}\u001b[0m\u001b[0;34m)\u001b[0m\u001b[0;34m\u001b[0m\u001b[0;34m\u001b[0m\u001b[0m\n\u001b[1;32m      5\u001b[0m \u001b[0mdf_bo_1\u001b[0m \u001b[0;34m=\u001b[0m \u001b[0mpd\u001b[0m\u001b[0;34m.\u001b[0m\u001b[0mDataFrame\u001b[0m\u001b[0;34m(\u001b[0m\u001b[0;34m{\u001b[0m\u001b[0;34m'method'\u001b[0m\u001b[0;34m:\u001b[0m \u001b[0;34m[\u001b[0m\u001b[0;34m'Model-based\\noptimization'\u001b[0m \u001b[0;32mfor\u001b[0m \u001b[0m_\u001b[0m \u001b[0;32min\u001b[0m \u001b[0mrange\u001b[0m\u001b[0;34m(\u001b[0m\u001b[0mlen\u001b[0m\u001b[0;34m(\u001b[0m\u001b[0mnum_evals_bo_1\u001b[0m\u001b[0;34m)\u001b[0m\u001b[0;34m)\u001b[0m\u001b[0;34m]\u001b[0m\u001b[0;34m,\u001b[0m \u001b[0;34m'num_eval'\u001b[0m\u001b[0;34m:\u001b[0m \u001b[0mnum_evals_bo_1\u001b[0m\u001b[0;34m}\u001b[0m\u001b[0;34m)\u001b[0m\u001b[0;34m\u001b[0m\u001b[0;34m\u001b[0m\u001b[0m\n",
      "\u001b[0;31mNameError\u001b[0m: name 'best_objs' is not defined"
=======
   "execution_count": 30,
>>>>>>> e46ef7bee58c3f4bda568cc3c0d6b8ca3a1a82ce
   "id": "2600fed9",
   "metadata": {},
   "outputs": [
    {
     "name": "stdout",
     "output_type": "stream",
     "text": [
      "377.675 213.90691754826443 5.34767293870661 383.5\n",
      "45.25 11.611955046416602 0.29029887616041505 46.0\n"
>>>>>>> bfae592f7d5fd5fcbbaef1e5f1ae59121187bcb6
     ]
    }
   ],
   "source": [
    "num_evals_rand = get_num_evals_best(raw_res_rand, best_objs)\n",
    "num_evals_bo_1 = get_num_evals_best(raw_res_bo_1, best_objs)\n",
    "\n",
    "df_rand = pd.DataFrame({'method': ['Grid search' for _ in range(len(num_evals_rand))], 'num_eval': num_evals_rand})\n",
    "df_bo_1 = pd.DataFrame({'method': ['Model-based\\noptimization' for _ in range(len(num_evals_bo_1))], 'num_eval': num_evals_bo_1})\n",
    "\n",
    "df_num_evals = pd.concat((df_rand, df_bo_1))\n",
    "\n",
    "print(np.mean(num_evals_rand), np.std(num_evals_rand), np.std(num_evals_rand)/40, np.median(num_evals_rand))\n",
    "print(np.mean(num_evals_bo_1), np.std(num_evals_bo_1), np.std(num_evals_bo_1)/40, np.median(num_evals_bo_1))"
   ]
  },
  {
   "cell_type": "code",
<<<<<<< HEAD
   "execution_count": 17,
=======
<<<<<<< HEAD
   "execution_count": 9,
   "id": "567fb101",
   "metadata": {},
   "outputs": [
    {
     "ename": "NameError",
     "evalue": "name 'df_num_evals' is not defined",
     "output_type": "error",
     "traceback": [
      "\u001b[0;31m---------------------------------------------------------------------------\u001b[0m",
      "\u001b[0;31mNameError\u001b[0m                                 Traceback (most recent call last)",
      "\u001b[0;32m/var/folders/d8/lrt20kt55zjgtpnv13g2_wt40000gn/T/ipykernel_82959/3888894663.py\u001b[0m in \u001b[0;36m<module>\u001b[0;34m\u001b[0m\n\u001b[1;32m      1\u001b[0m \u001b[0mfig\u001b[0m\u001b[0;34m,\u001b[0m \u001b[0max0\u001b[0m \u001b[0;34m=\u001b[0m \u001b[0mplt\u001b[0m\u001b[0;34m.\u001b[0m\u001b[0msubplots\u001b[0m\u001b[0;34m(\u001b[0m\u001b[0;36m1\u001b[0m\u001b[0;34m,\u001b[0m \u001b[0;36m1\u001b[0m\u001b[0;34m,\u001b[0m \u001b[0mfigsize\u001b[0m\u001b[0;34m=\u001b[0m\u001b[0;34m(\u001b[0m\u001b[0;36m6\u001b[0m\u001b[0;34m,\u001b[0m \u001b[0;36m4\u001b[0m\u001b[0;34m)\u001b[0m\u001b[0;34m)\u001b[0m\u001b[0;34m\u001b[0m\u001b[0;34m\u001b[0m\u001b[0m\n\u001b[1;32m      2\u001b[0m \u001b[0;34m\u001b[0m\u001b[0m\n\u001b[0;32m----> 3\u001b[0;31m \u001b[0msns\u001b[0m\u001b[0;34m.\u001b[0m\u001b[0mboxplot\u001b[0m\u001b[0;34m(\u001b[0m\u001b[0mdata\u001b[0m\u001b[0;34m=\u001b[0m\u001b[0mdf_num_evals\u001b[0m\u001b[0;34m,\u001b[0m \u001b[0mx\u001b[0m\u001b[0;34m=\u001b[0m\u001b[0;34m'method'\u001b[0m\u001b[0;34m,\u001b[0m \u001b[0my\u001b[0m\u001b[0;34m=\u001b[0m\u001b[0;34m'num_eval'\u001b[0m\u001b[0;34m,\u001b[0m \u001b[0mshowmeans\u001b[0m\u001b[0;34m=\u001b[0m\u001b[0;32mTrue\u001b[0m\u001b[0;34m,\u001b[0m \u001b[0mlinewidth\u001b[0m\u001b[0;34m=\u001b[0m\u001b[0;36m2\u001b[0m\u001b[0;34m)\u001b[0m\u001b[0;34m\u001b[0m\u001b[0;34m\u001b[0m\u001b[0m\n\u001b[0m\u001b[1;32m      4\u001b[0m \u001b[0msns\u001b[0m\u001b[0;34m.\u001b[0m\u001b[0mstripplot\u001b[0m\u001b[0;34m(\u001b[0m\u001b[0mdata\u001b[0m\u001b[0;34m=\u001b[0m\u001b[0mdf_num_evals\u001b[0m\u001b[0;34m,\u001b[0m \u001b[0mx\u001b[0m\u001b[0;34m=\u001b[0m\u001b[0;34m'method'\u001b[0m\u001b[0;34m,\u001b[0m \u001b[0my\u001b[0m\u001b[0;34m=\u001b[0m\u001b[0;34m'num_eval'\u001b[0m\u001b[0;34m,\u001b[0m \u001b[0medgecolor\u001b[0m\u001b[0;34m=\u001b[0m\u001b[0;34m'gray'\u001b[0m\u001b[0;34m,\u001b[0m \u001b[0mlinewidth\u001b[0m\u001b[0;34m=\u001b[0m\u001b[0;36m1\u001b[0m\u001b[0;34m,\u001b[0m \u001b[0msize\u001b[0m\u001b[0;34m=\u001b[0m\u001b[0;36m8\u001b[0m\u001b[0;34m)\u001b[0m\u001b[0;34m\u001b[0m\u001b[0;34m\u001b[0m\u001b[0m\n\u001b[1;32m      5\u001b[0m \u001b[0;34m\u001b[0m\u001b[0m\n",
      "\u001b[0;31mNameError\u001b[0m: name 'df_num_evals' is not defined"
     ]
    },
    {
     "data": {
      "image/png": "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\n",
=======
   "execution_count": 31,
>>>>>>> e46ef7bee58c3f4bda568cc3c0d6b8ca3a1a82ce
   "id": "6b4ba04c",
   "metadata": {},
   "outputs": [
    {
     "data": {
      "text/plain": [
       "Text(0, 0.5, '# experiments to identify\\nbest formulation')"
      ]
     },
     "execution_count": 17,
     "metadata": {},
     "output_type": "execute_result"
    },
    {
     "data": {
<<<<<<< HEAD
      "image/png": "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\n",
=======
      "image/png": "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\n",
>>>>>>> bfae592f7d5fd5fcbbaef1e5f1ae59121187bcb6
>>>>>>> e46ef7bee58c3f4bda568cc3c0d6b8ca3a1a82ce
      "text/plain": [
       "<Figure size 432x288 with 1 Axes>"
      ]
     },
     "metadata": {
      "needs_background": "light"
     },
     "output_type": "display_data"
    }
   ],
   "source": [
    "fig, ax0 = plt.subplots(1, 1, figsize=(6, 4))\n",
    "\n",
    "sns.boxplot(data=df_num_evals, x='method', y='num_eval', showmeans=True, linewidth=2)\n",
    "sns.stripplot(data=df_num_evals, x='method', y='num_eval', edgecolor='gray', linewidth=1, size=8)\n",
    "\n",
    "ax0.set_yscale('log')\n",
    "\n",
    "ax0.set_xlabel('')\n",
    "ax0.set_ylabel('# experiments to identify\\nbest formulation')\n",
    "               \n"
   ]
  },
  {
   "cell_type": "code",
<<<<<<< HEAD
   "execution_count": 18,
=======
<<<<<<< HEAD
   "execution_count": 101,
   "id": "875151e0",
=======
   "execution_count": 32,
>>>>>>> e46ef7bee58c3f4bda568cc3c0d6b8ca3a1a82ce
   "id": "7a124849",
>>>>>>> bfae592f7d5fd5fcbbaef1e5f1ae59121187bcb6
   "metadata": {},
   "outputs": [
    {
     "data": {
      "image/png": "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\n",
      "text/plain": [
       "<Figure size 432x288 with 1 Axes>"
      ]
     },
     "metadata": {
      "needs_background": "light"
     },
     "output_type": "display_data"
    }
   ],
   "source": [
    "fig, ax0 = plt.subplots(1, 1, figsize=(6, 4))\n",
    "\n",
    "sns.boxplot(data=df_num_evals, x='method', y='num_eval', showmeans=True, linewidth=2)\n",
    "sns.stripplot(data=df_num_evals, x='method', y='num_eval', edgecolor='gray', linewidth=1, size=8)\n",
    "\n",
    "# ax0.set_yscale('log')\n",
    "\n",
    "ax0.set_xlabel('')\n",
    "ax0.set_ylabel('# experiments to identify\\nbest formulation')\n",
    "# ax0.set_ylim(-5, 800)\n",
    "plt.tight_layout()\n",
    "#plt.savefig('num_evals_best_1by1.png', dpi=400)"
   ]
  },
  {
   "cell_type": "code",
   "execution_count": 19,
   "id": "77b89a94",
   "metadata": {},
   "outputs": [
    {
     "data": {
      "image/png": "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\n",
      "text/plain": [
       "<Figure size 432x288 with 1 Axes>"
      ]
     },
     "metadata": {
      "needs_background": "dark"
     },
     "output_type": "display_data"
    }
   ],
   "source": [
    "fig, ax0 = plt.subplots(1, 1, figsize=(6, 4))\n",
    "\n",
    "b = sns.boxplot(data=df_num_evals, x='method', y='num_eval', showmeans=False, linewidth=2,\n",
    "               palette={'Grid search': pal[-1], 'Model-based\\noptimization': pal[1] },\n",
    "               boxprops=dict(linewidth=2., edgecolor='white', alpha=0.8),\n",
    "               whiskerprops = dict(linewidth=2, color='white'),\n",
    "               capprops=dict(linewidth=2, color='white'),\n",
    "               medianprops=dict(color='white', linewidth=2.),\n",
    "            \n",
    "           )\n",
    "sns.stripplot(data=df_num_evals, x='method', y='num_eval', linewidth=1, size=8,\n",
    "             palette={'Grid search': pal[-1], 'Model-based\\noptimization': pal[1] },\n",
    "             edgecolor='white')\n",
    "\n",
    "# ax0.set_yscale('log')\n",
    "\n",
    "ax0.set_xlabel('')\n",
    "ax0.set_ylabel('# experiments to identify\\nbest formulation', fontsize=15, color='white')\n",
    "\n",
    "ax0.spines.right.set_visible(False)\n",
    "ax0.spines.top.set_visible(False)\n",
    "\n",
    "ax0.spines.left.set_color('white')\n",
    "ax0.spines.bottom.set_color('white')\n",
    "\n",
    "plt.setp(b.lines, color=\"white\")\n",
    "\n",
    "ax0.tick_params(axis='both', which='major', labelsize=15, colors='white')\n",
    "\n",
    "plt.tight_layout()\n",
    "plt.savefig('num_evals_best_1by1.png', dpi=400, transparent=True)\n"
   ]
  },
  {
   "cell_type": "code",
   "execution_count": null,
   "id": "3917091a",
   "metadata": {},
   "outputs": [],
   "source": []
  },
  {
   "cell_type": "code",
   "execution_count": null,
   "id": "cf9a15af",
   "metadata": {},
   "outputs": [],
   "source": []
  },
  {
   "cell_type": "code",
<<<<<<< HEAD
   "execution_count": 21,
=======
<<<<<<< HEAD
   "execution_count": 109,
   "id": "d548cf89",
=======
   "execution_count": 62,
>>>>>>> e46ef7bee58c3f4bda568cc3c0d6b8ca3a1a82ce
   "id": "8d800a9f",
>>>>>>> bfae592f7d5fd5fcbbaef1e5f1ae59121187bcb6
   "metadata": {},
   "outputs": [
    {
     "name": "stdout",
     "output_type": "stream",
     "text": [
      "12.275 6.652020369782401 0.16630050924456002 12.5\n",
      "2.4 0.8306623862918076 0.020766559657295187 2.0\n"
     ]
    }
   ],
   "source": [
    "num_batches_rand = get_num_batches_best(raw_res_rand, best_objs, batch_size=32)\n",
    "num_batches_bo_32 = get_num_batches_best(raw_res_bo_32, best_objs, batch_size=32)\n",
    "\n",
    "df_rand = pd.DataFrame({'method': ['Grid search' for _ in range(len(num_batches_rand))], 'num_eval': num_batches_rand})\n",
    "df_bo_32 = pd.DataFrame({'method': ['Model-based\\noptimization' for _ in range(len(num_batches_bo_32))], 'num_eval': num_batches_bo_32})\n",
    "\n",
    "df_num_batches = pd.concat((df_rand, df_bo_32))\n",
    "\n",
    "print(np.mean(num_batches_rand), np.std(num_batches_rand), np.std(num_batches_rand)/40, np.median(num_batches_rand))\n",
    "print(np.mean(num_batches_bo_32), np.std(num_batches_bo_32), np.std(num_batches_bo_32)/40, np.median(num_batches_bo_32))"
   ]
  },
  {
   "cell_type": "code",
<<<<<<< HEAD
   "execution_count": 24,
=======
<<<<<<< HEAD
   "execution_count": 113,
   "id": "1cf9fcfc",
=======
   "execution_count": 65,
>>>>>>> e46ef7bee58c3f4bda568cc3c0d6b8ca3a1a82ce
   "id": "37b8f9db",
>>>>>>> bfae592f7d5fd5fcbbaef1e5f1ae59121187bcb6
   "metadata": {},
   "outputs": [
    {
     "data": {
      "image/png": "iVBORw0KGgoAAAANSUhEUgAAAagAAAEYCAYAAAAJeGK1AAAAOXRFWHRTb2Z0d2FyZQBNYXRwbG90bGliIHZlcnNpb24zLjUuMiwgaHR0cHM6Ly9tYXRwbG90bGliLm9yZy8qNh9FAAAACXBIWXMAAAsTAAALEwEAmpwYAABLuElEQVR4nO3dd3gjxfnA8e+uimXL3T6frxfg7ugc/QKhE2oChBogtCS0kF9CekLKhVTSE9IbJISEUAKhw1GOktCOzsFxwPXicy/q0u78/pi1LcmSb+2zLdl+P8+jx9bO7moky3o1s+/MGEophBBCiGJjFroCQgghRC4SoIQQQhQlCVBCCCGKkgQoIYQQRUkClBBCiKIkAUoIIURRGq8B6kzgbmAzEAJeBD6Stc9yQOW4BcaslkIIIYbNW+gKDNNngbXA1UArcCLwD6AeuD5tv8eBr2YdGx+LCgohhNgxxjgdqFuPDkzp/gEsAeY595c7+5wxdtUSQggxUsZrF192cAJ4GZg+1hURQggxOsZrF18uS4DVWds+AESc358CvgC8NoRzjsvmpRBCjDNGro3jtQWV7WjgVOAnadueAD4NHAdcCsxGB6m5ec6xlIEJFUIIIQpkvF6DSjcXeA74H3DaIPs1AquAG4HPuDz3uH9xhBBiHMjZghrvAaoW+C/QAxxBf3dePvcBFcBhLs8/rl8cIYQYJyZcF18ZcC/gB05m+8EJpOtOCCHGjfEaoLzAbcAuwPFAs4tjGoFD0YN6hRBCFLnxmsX3G/Tg3E8Ddc6t18vAQuD76CC2Hp0g8RXABn4+lhUV/Wxbj5FOJjZgmqV4vVPBMDEMT4FrJoQoRuP1GtQ6YE6esnlAEvgjsBgdvHrQA3evQSdKuDUuX5xiZNtxouEVdHfeDSoFgMdbT23DZXg8VRKkhJjcJmSSxGiTF2eEJBNbaG36yYDtHm8DUxqvxjD9BaiVEKJITLgkCTFO2HaccM/TOcusVDOpVPsY10gIMR5IgBJjQKFU/jl6BysTQkxeEqDEqDMMP4GyvfKUBfD5ZApFIcRAEqDEqDMMk0BgN/yBBdklVNWejpJLfUKIHCRJYnDy4owgZSeJx1YTi76OaZZSVn4opqcc0ywpdNWEEIUlWXzDIC/OCFPKRqkkYGKavkJXRwhRHCRADYO8OEIIMfokzVwIIcT4IQFKCCFEUZIAJYQQoihJgBJCCFGUJEAJIYQoShKghBBCFCUJUEIIIYrSeF2wUBQp246hhzTYGEaJMyhXDyczDD+Gob8TKdU7gawBKEwzUKAaCyGKlQQoMSKUncSyQ4S6HiARX0+w4mgCpQvp6XqYRPxdPJ5KghWHO/PxKZKJzYS6H8FKteHzz6Ki6gRMT6XMLiGE6CMzSQxOXhyXrFQHLVt/jFIxfP7Z1NRfQGvTz7HtUMZ+FdUfIlC6Gy1bf5Cx3TD81Dd+Dq+vfiyrLYQoDjKThBgdth2np+shlIoBUFa+hHDPUwOCE0Co62FMTzmGGczYrlSCnq4HnC5CIYSQACVGhCIZ39B3z+ubQiKxIfeeKoaVasPrrRlQps+R84uUEGISkgAlRoQnLeDYVhivpzbPniampwrbCuc5h/SqCiE0CVBihxlGCcHKo/vuR8MrKKs4hFxvr9LgYmw7imV1DCgrrzwGw/CPZlWFEOOIBCixwwzDwOefQXXdBXg8tcSiK7HtGDX1F+PxTnF28lFWvoSqmjPweGoIVh6NYejUctNTTVXdufhK5vSloQshhGTxDU5enCFQKgVKoUhhGD6UsjAwUFh993tXz7XtOIbhQakEhuEDDAxDRj0IMUnJgoXDIC+OS7adwDBMlB3HMEtQysY03XfX9a+0a6Mb9jJ4V4hJJGeAcvuV1QNYI1cXMZHYdoJo6FlC3Y9g22EMs5RgxRGUVxyG4SJIKZUilWylq/0WkomNgEFJYBHVdR/BMEul20+IScrtf/5m4IfArqNYFzEOKWURi7xKd+d/sG2dmafsKKGuB4iEnnVaRds7R4q2bdc7wQlAEY+9RVvzb0GlRrH2Qohi5jZA/Q44A3gDeA64FKgcrUqJ8UOpFOGex3OWhXqeYHvjmpSyiYSe6xvkmy6V3EoyuW0kqimEGIfcBqilwHzgWOBt4KfAVuBm4JhRqZkYFwzDi5XqzFlmW53o3uH8lLKwUm15y61U+/ArJ4QY14bauf8YcAHQCHwKWAg8BKxDB7HpI1g3MQ4olcRXMidnmc8/C6USgx5vGB78gZ3zlvvznFsIMfEN9+rz/sBhwCKgA3gK+DjwLnD+yFRNjAeGUUJl9ckMbCmZVFR/0EkhH+x4k0Dprnh9MwaUlZbth2GWjlxlhRDjylDSzOcAF6FbUHOBR4A/A3cBCfQn1I+Bc4BpI1vNgpE0cxdsO4FldRDqephUYgte31TKq47F453iKtVcrw2VINz9BLHoaxiGj9LggZQF93OVBSiEGPd2aBzU48D70dl8Nzi39Tn2OwCdRDHaecFnAh8F9gOq0NfFfgz8M2u/TwBfBGYBK53fHx3C40iAGoL0mciHM4bJtpPo0QzKWdxw8OtXQogJY8jjoGajEyGSQDNwIrCMwT+0XwHmDa9+Q/JZYC1wNdCKrts/gHrgemefj6CzD5cCTwMXA/eig+gbY1DHSWdHB9bqxQplwUIhhDZYC8oClgDPo5MjrgRWjVG9tqceHZjS/QNd394A+TbwX+AS574JvOrc3F4nkxaUEEKMviEvWBgFypzfj6C4xj1lByeAl+nPIpwPLABuTSu3gduAE0a3akIIIUbCYF18LwO/QHfrgU4r35pnXwV8aQTrNRxLgNXO74ucn9ktvreAWmAK0DJG9RJCCDEMgwWoTwA/Ak5BB6CjgXiefQsdoI4GTqW/O6939bzOrP060sqzA9RS4JsjXzUhhBDD4TaLzwYORl+PKjZz0ZmD/wNOc7adB/wdHYg60/Y9Bt0iXEh/a2swcg1KCCFG3w7NZj6P/N17hVQLPIBOeT8vbXtvS6mKzABVk1UuhBCiSA0WoMqAiPN7i7PvYPtHBikbDWXotHE/cHLW4/dee1pE5nitRUA7cv1JCCGK3mBZfD3Agc7vIef+YLex5EVn5O0CHI8ep5VuDboL78y0baZz/4GxqOBEpFQK247plXPRM0jo+7bL421sO4ZtDz4/X67HEkJMPoO1iC4B3kv7vZiux/wGPTj300Cdc+v1MjqZYyn6OtQ69HioC9EB7dwxrOeEoFQKZScI9zxNKtWMzz+LsvKDiEffJh59g5KyvQgEFmGY+QfZKjtJLPYW8cjrGGYZwYpDMT2VfUvA9z+WhVIpIqHnSCY24PU2EKw4FMP0bXdePyHExFKoJd8XADOBXFMP3O/i+HXouQFzmeeUg85E/BL9Ux19AZnqaEiUUlipZlqbfpmxZpPpqaJu6ifparuNRPwd/IEF1NZfkjNIKTtJe8sfScTfS9tqUFV3DoHSvTLm67OsEK1NP8W2uvr3NALUNf4fXm8DhjH4+lJCiHFph+biW4POkHs1R9kewN3owbHbsxtwC7B7ngoptreA0Nia9AHKtmN0tPwlK7hopcEDCZTtSUfLnwGoqb+YktLdMpZoV8omFnmVzra/DzjeMAJMnbG0L6jZdpzujjuJhl8YsK+/ZCdqplyyw9MpCSGK0pBnkkg3FyjJU1aGbg258XvnPB9Gp3rPy7q5CXJiDBmGL2dwAohH38Lnn913Pxp5dcD6T0oliEVfz3m8UjGSyS39j4VJPJp7Nq1E/D3p4hNikhnsGlQlUJ12vxE9gWy6AHp5jc0uH2+xs/+9LvcXBWdgGP6cCw8aZimoZN990yxl4HceA8PI3+ox0lpEClvftwfm3BiGLLshxGQzWAvqavS1nLXorq47nd/Tb28BnwF+6fLx3iP3dSdRpJRKUhrcP2dZWfAAYpHe1pFBsOKQAes/mWYJwYr35zze65uK11PTd98wPJSVL8m5b2lwf8noE2KSGawF9Q9gBbpv8G7g8+gZwtMlnG0bXD7e54AfAi+hr2uJImeaJVRUn4yV6iAee8vZalAa3J/S8v1pa/olhuGnsuZUTE91znN4vLVU1pxOT+c9fS0xj7eBmimfgLQ1nwzDS7B8Calkk3MdSl8CLAksoqL6g64WPxRCTBxukyQORweVHR3v9AK6m7AG3TrrzLHPgTm2FcqkT5LoZdtxlB0hlWrD65uKYfiwrG5sqweffxagBqSMZx8PBsnERkyzFK+3HgxPzkUJbTuOUklSySa83joMs2zQcwshxr0dyuJL5yF3woSbmSRucLHPxUOrzqiSADUGlLJRKoGBV/80fPp6lOGVVXWFmBx2KEBVAt9DZ9815DnZRPwkkQA1ymw7TjK+DsvqwV8yi56uh0nE3sX0lFNW/n5Kg/tK154QE98OTRb7e/R8d38C3kRfe9pRdejJXtuBthE4nxhnlLJIxFYT6l5Odf15tDb9FGVHAbDtEN0dt2FZ7ZRXHi1dfEJMQm4D1HHorL4/jcBjno2ehmhB2rbVwDfQ8+tNOG+vvLbQVShKOy28mp7O+wlWHkmk5+m+4JQu3PMkwYojeO/tn5FKjfWUj2Nn4e7fKHQVhCg6bgfqhoFNI/B4HwH+ic7guxg9n97Fzv1b0GOkxCRgGF48ZoBUqhmPt5ZkIs9QOpUklWzF66sa2woKIQrObQvqJ8CVwMPoxQuH6xrgD8DlWdv/BvwO+Bo6UIkJTqkUtkpheqqxrR68vnoS8Xdz7Gni9dZgpUJjXkchRGG5DVAzgL3RY54eZ2B6uNsl33dGdxXmcgdwkcv6iAmgu/M1ghWHEwm/QGX1B4mEVgCZg3EDZfsTj7eRTHYWpI5CiMJxG6DOQLecvMCxOcrdBqhtwP7oZdez7e+Ui0mireUpZs/XowpSqVZqGz5BT+d9JBMbMIwApeUHU15xJBvX31zgmgohCmEoS76PhBvQCRIe4HZ0QGpALyT4NeD7I/Q4Ygx4vOV4vUFSyW4sK5q2PYjXW04q2YNl5R8eZ1kRNqy5gboph1Ea3BnD8FDbcBkGHhSKUM/bbFj7NxKJ1rF4OkKIIuM2QI2UawEf8GXgW2nbo8CPnXJR5Pz+ehqmHUugdAZWqguPt5pIaA0dbS9QN2UJgbJZWKlOPN4aIuG1NDc9TCrZnfNclhWhuelBmpsewjB9KDvh/LTYscudQojxbigzSeyFTnLYH728xhL09EffBZ5maEup16DXkZoGbAXeADqGcPxYGZGBuhMpzdznr2H2vIsIdS8jGn4OVArDKKG86njKyg+ip/MBIuFn+raXVbyf0uAS1q/5M1YqXOjqFy1JMxeT3A6tB3UC8CJ6yY2/oVtBveLAp4ZYmQ7gKeBW52cxBieRQ92U9xPpeYpo6L/gzC6uVBzTLCHc8ySR0FMZ28PdjxCPvkFN3cGFrLYQYhxy28X3feBG9BLqXuCbaWWvMDBtPN2J6BZWt/P79rhZ8l0UhEFF5W40b7ljQEmgbB9atnwv51HR0H+pmXI5rdseHe0KCiEmELcBahF6uQ0Y2O3VjZ6yKJ97gYOB553fFXmacxTfku8ijZ641UDZ2YkPJobhxbZzj1WyrG5MjywDJoQYGrcBqpn8y7HvzuDrQc1DX2fq/V2MU0qlsFJ6eY1kYmNaiY2VasPnn0sysW7Acf7AfBLx5jGrpxBiYnB7DeoWdIbdoWnbFHo+vS8Bgw1UWU//5LIK2OJsy75tRmYPL3od7SsorzqR7IZuOPQclTUfIvs7j2H4Ka88jo62FWNXSSHEhOC2BfV1YDfgCaDJ2fYfdNLEw+ilONxYi87+ez5H2d7OduniK2Idbc9RWjaTuqmfJhJ6klSyBa9vOmXBg7FtO217M17fNIIVhxMObaC76/Xtn1wIIdK4DVBx9HIbRzu3evQyGY+Se1aIfPJdewIIOI8jippiy8bbKa9YQFXNPgTKykkkumja8iCR8FqC5QuortmLQFkFyUQXTVseJhJek+dcBsHynfCXTMG2ovT0rMK2YmP6bIQQxWuoA3UfdW5DsRewT9r9E9FJF+kCwFnoZTfEOBDqWU2oZ+CfKxxaTTi0/T9jSaCRGbNOx7bDJBNrMT1TmNJ4LO2t/6W99X+jUWUhxDgzWICaPcRz5UuUOI3+tHSFXvcpl7XAZUN8TDEOebxBZs75CN0ddxKPvtq33fRUUTvlUiwrSlfHywWsoRCiGAwWoNYxtKSFfNeOvoeexshAp6QfBbyQtU8CSA7hscQ4Vl2zL/HoGxnBCcC2uuhq/xd19R+VACWEGDRAfTDt90rgh8BbwL/RaecNwOno7rovDHKeJP3Bx23WoJjAguU7Eem5N2eZnskc/P46Eom2Ma6ZEKKYDBag7kv7/Ub0INsrsvb5nXM7iaEtNDgTnaKea/SmzCQxwRkGDNY4V9gMnk8jhJgM3CZJfBjdWsrlDvTSGW5UoOff+4Bzv/dTKP3TStLMJ7hwaD0lpXuSiA/M7vP6pmPgk9aTEMJ1l1uUzEG66d4PuM0N/j46+eL96OB0GnAE8Gd0koTMKDoJdLa/SGnZvvgDCzO2G2YZVbVn0db6DDJmWwjhtgX1W/Rg3TrgbvqvQZ2Czrz7rsvznIhemPA55/4WdMLEk8BP0NeyznJ5LjFOpVLdbN54G9NnfYRUcivJ+HuYnmoCZXvT2fEyne25xnELISYbtwFqKXpJjC8CV9I/4WsTehLZn7s8z1RgI2ABYTInmb0f3V3oxs7oYLYEPRfgU+iWWLp1wJysbdvQs1+IAotGNrJm9S8pr1hESaABL0Fi0U2Ul8+jvOJyUskeQj2r6e58DduW8dtCTEZDGaj7C+B6YBb6Q74JHWyGsuzpRvQsFADvoGeneMi5fxDuuwp3R7fGniVzbaps/3Dq3CuRb0cx9pSyCIfeo7b+IAwjSTT8LPFImJLShZSW7YfHA3X172Pj+n+QiLcUurpCiDE21JkkbPondx2OZcAxwJ3Az4C/Avuhpzg6DN3N58Y96LkAQSdo1OfZbys6iIkiNXX6CVjJdXR33tm3LR57i0hoBXUNl9Ld9TAzZp/F2nd+g1yXEmJyGSxAXQncBrQ4vw9Goa9Tbc+XgDLn95uAEHAGUApcBfzexTlgaK02UaQ83iDB8p1p2fLtAWWp5CaikVfweIIoO0ywfGfCoXcKUEshRKEMFqB+BaxAB6hfbec8bgNUxLn1utO5jZaPAf+HzkJcBnyO4bf+xAgrKWkgmdiMUrmvMcVjqykLHkgivpqSQKMEKCEmmcHSzE36l8Uwt3MrxrFL/0G3/I6mP6HiKaAqz/5L0YE2/SZGkW0nMc1g3nLTDKJU3Pkplw+FmGzGYuqhFnRautvbSPk08E90UPoDcBwwHbg4z/5L0ZmJ6TcximLRzRhmKT5/rnmJDcrKDyIWfZNA2d70dL815vUTQhTWUJMkhuPXFEdr5A3gbWDfQldE9FK0bHuUhqkX0Nl2E8mE7n01zFIqq/VUkGXl76O78zVSye5CVlQIUQBjEaCWjsFjuCVdd0Wmp2slKJgy9aNgWKASeLz12FYEw/TR0fYCbS1PFrqaQogCGIsAVSz2QM+8/odCV2QiKa9YQE3dwZSWzkSpFKGet2lr/d+Qxi31dK+kp/tNAoFpmJ4AhmFi23Fi0a0olRrF2gshitlYB6gX2H4L5kAX5ylDD9QFmIFeDuQM5/79wJHA+egZ2LegA9PX0Isq3jikGou8ausPobpmL0Jd99PV/hamUUIguD+z517A5g23Eo1uHMLZFLHYllGrqxBi/BlugPIxvAUGVzIwQNUA70OngrtdTr4BPUYrXe/9eegZKxrQUzBVA23Ag8BX0Ysmih3k89dQW38QrVt/jG33AGCrJJGe5VipFhpnfJC177oZeSCEELkNJUC9Dz1h7KHoFkwEnSH3beAZl+e4KM/2cvQktP9zeZ51bD/L7miX5xLDUFW9N9HQir7glC4eXUl51UmUls4aYitKCCH6uU0zPxZYjl5o8Efo8UU/cu4vR09ftCNC6GmOrtnB84gx4vVVkko15S1PJZrw+irHsEZCiInGbQvqu+gWzplkdtFdi56B/HvAIztYl2p0d58YB1LJHkr8U/OWe/1TSSVfGsMaCSEmGrcBak90916uBIc/AHe5PM+JObb5gV2Bq4HHXZ5HFFhX5yvMmX8x4Z4nBnTzlZTuDsoj3XtCiB3iNkB1AjvlKdvJKXfjXvrXkkqXRE9NdJXL84gCSyY6aG99jtqGTxLqup9Y9E1Ms4RA8ADKK45i88ZbC11FIcQ45zZA3YZerr0bvbxFDAigU7u/h142w415ObbF0FMcyQDaccQw/UQjG1FKUVF5ONX156NUinDoHZqbHsG2h5PkKYQQ/dwGqC+hl3v/q3MLoTPvQM939yWX55GZxMc7w2RKw1FU1exDKtmCYXgxPRW0bHuMksAUyisW4vcHnUlgPTRve5RQ96pC11oIMQ65DVBR4Dx0SvkBwDT0YoAvAMP59FmIHmAbyFF2/zDOJ8bItBmn4Pd5aG36Ebalh5R5fY3U1l+MZYVo2fpdlB0FwF8yn6nTzgeQICWEGDK3Aeow4CV0MMr+pAmiV8V1M2HanugW167kHsekKM6lOwRQEmikrGwWLVu/D/RPQZRKNtHW/FumNH4OVP9akon4Grra/s6UqedIgBJCDJnbcVCPA7vlKVuE++y7v6ATIk5Gt6LmZd3muzyPKICKyt2Ihl8gPTj1sq1OEol1lJTumrE9EV+DgUVJYNoY1VIIMVG4bUENNmtDOZmr5A5mV+B04CGX+4siYpp+bDv/JLC2FcIw/Dm2hzHNgduFEGIwgwWow4Aj0u5/HDg+a58AcBLwusvHex7ItTqdGAfisSaqqhcQCT2do9TAH9iZcE9mmWGU4vM3Dml2cyGEgMED1EHAp5zfFXoWiey+nQT6mtQXXD7epehrUBF0t2Bnjn3ctsbEGOvuWkn91CMpCSwkHns7oyxYcSS2HSGV3JyxvaL6JHp63say5M8qhBiawQLUj5wbwFrgVODVHXy8VvREr38bZB9JkihSSiXZsuF2Zsw+l1h0JfHYGxiGj0Dpfvj8MzFMHxXVHyIRW43pKac0eDC27aV50z8KXXUhxDhkKDWm42PvBZYAfwLeRbfAsrkd9DsWZPBwHkrZKBUHwDRL07anUCoJGJhmrlEEw3kshWFsb/J6IcQ4lvMffKwDVBj4BDBevlJLgCog205gpdqIRV/HNMspDe4LmJJwIcTEkzNAjfWKuuuYhNeY3l55baGrMK4Ypp/5O19BT9d9xCIv9m3v6byH6vqLCYdbaN3mdm3L8WHh7t8odBWEKDpux0GNlC+g13yaO8aPK8aRqqo9SSbWZwQnAKUSdLX/k+qaxdKKEmISGOsW1LfQaear0a2pzhz7HDiG9RFFKFg+j1j0xZxlttVNMtFEoHQGkfDaMa6ZEGIs7UiAqgHmAG8BcZfHvOHchMhL5VyRpZ9OmJDLg0JMdG4D1LeAEuDLzv2j0Os3laEnjT0OWLmdc/jQ2XvrgM2D7yoms3DPGqqqFxOLvDygzOOpweubSjQibyEhJjq316DOI3OS2J8ATwOHAG+j14raHgt4DD0HnxB5dXe9gdc3ndLgIRnbDbOUqrrz6Gh73kllF0JMZG5bUNOBNc7vs4C9gcvQUxf9FLjBxTls4B2gcYh1FJOMUkk2rvs7M2afSVnFISRiqzDNICWlu9PV8QptLW4mzhdCjHduA1QPUOX8fhTQgQ5OoFfELXN5nmuA69Bz97mdv09MIuWVu1M35RC83jKUsojH2ojFwEptY8vmJ7FSoUJXUQgxRtwGqCfQ159s4PPo60+9FgAbXZ7na+iVeV9BX4faxsCr3ZLFN0lNn30WweA8YpFX6ep6CVCUBveltv4gNq77uwQnISYZtwHqauAm4BZ0cLkmrewC3C1WCJLFJ/KoqllMMDiHrvZ/EYv0T/mYiL9LLPoGM2efw7tv/xz9HUkIMRm4DVCb0V17uRyH7uZz42KX+4lJpq7+EFLJ1ozg1CsefROrsoPyigWEemRlXiEmi6HOJFEDvB841/kd9ISvA5dY3b46YBfnp5jkvL5qEvF385bHY6soCUwdwxoJIQrNbYDyAD8ENqGvR92EXqId4A7gm0N4zLPRg3ub0anrzc79M4dwDjHBKJXE9FTmLfd4a7Attw11IcRE4DZAfQ89C/lVwHwyh/n/B/igy/N8BL1g4Rp0d9+Jzs816Otb57g8j5hgujtXEijdA9OsGFBmmGUESvegp/vNAtRMCFEobgPUBegsvhsYmLH3HjpouXEN8Af0MvF/Ax5yfp4E/BGd5ScmobaWJ1F2itqGy/H6pvdt9/oaqWv4JF0dr5FK9RSwhkKIseY2QFWjA1Euftyvgrszukswlzuccrfn+T3wGnqGiuU59jGAr6IDahSdabiPy/OLHWAYviEfk0p1s37NX7AsRd3Uq2iY/nUapn+duoar6O5cTXPTg6NQUyFEMXObxfcGcArwSI6yE4CXXJ5nG7A/sCxH2f5OuRu7o7sHn0XP8ZfLl4Gvo5f4WAV8Fl3/PYAml48jXDIMH7VTDnGWwigBZdPV9RptLU+7Hr+UTHawfs0f8XjLKS2bhZWKEI1sRFLLhZic3Aao76BbOKXAbejBtfsAp6GnPPqQy/PcACxFt7huRwekBnSCxNdwN6cfwD30Dxa+HajPKg+gA9T3gV85255BT1R7FdKVOKIMw8usueehVDsdzb8hlWrG9FQSrDicOfMuYv3aG4c0yNZKhQh1vzWKNRZCjAduA9R/0KnlPwQucbb9CT0+6qPoa0luXItu8XwZPUN6ryjwY6fcje19pX4fUAncmrYtjA5sJyABakRV1SzGIERn201922yrm57Oe6BKUd9wGNu23F/AGgohxqOhjIO6Fb0S7iLgUGA39OKDtw5yTDYbnSgxCzgCndV3hHP/a4zcIj+L0Nem3sna/pZTJkZQVc3ehHuW5ywL9zxBZeUejP3izUKI8W44nxqrgf+hr+u4CSgW/fPr/QU9fqoDeAod3J5y7o+kGiDkPHa6DvTEtrnWC1+Kfj7pN+GC11tBKtWSs8y2e1AoTI8s0S6EGJqhrKg7HTgZmIm+xpNOAV/Kc1yC/oBwEfA7oBjX6l7q3NJJkHIhmejA55tB3OoeUObx1AI2tuV20WUhhNDcBqjT0ANsPeiZHxJZ5YMFqDfRH/x3OffPQGfs5aKA37qs02A6gHJ0fdNbUTVAhIH1Fzugs+NlauuOJh5bTXajNVh1LF0dryKxXggxVG4D1PeAh9EtoPYhPsan0GOWfob+lPr8IPuOVIBahQ5OO6NX/O21iMyVgcUI6O58jfKKBdQ2XE64+xESiU14vXWUVRyB6ZlCW8tN2z+JEEJkcRugZqEDzVCDE+jrVXs6v9vAwfQvdjha/gd0o9PXv+NsK0NPyfSHUX7sCc/nr8FfMgXbihONbAAUWzbeTlX13lTXnkiVvxYrFaKr41U6Oh5A2dJgFUIMndsA9T9gIbkH6g7Fkeguvx1Vhh6oCzADnVJ+hnP/fnQ33g/QA3U76B+oawLXj8DjT0pebwWNM04mEGgkkdiIx1OJYZbT0vQIPd1v0tX5Cl2drxS6mkKICWKwAJW+jPtngZvRmXHLgM4c+0dcPN4Trms2uAb0gOF0vffnoQfk/gAdkL6CXtJjBXAs7merEGkM08+suR8lFl1B85Y/0nutyeefTcO0i1AqRahndWErKYSYUAYLUCEyr2wb6Jkg8l3tdjsf30hYR+aM6rko4LvOTeygquq9sFJbCXdnzlKVTGygq/0W6htOlQAlhBhRgwWoS5DUK+GoqFxENPxYzrJEbDWe2hJ8/lqSieFcphRCiIEGC1A3jlUlRPEzTS+2yr9goG3HMIcxi7kQQuTjdiaJvelPSsh2IrCXy/Mchh6flEu5Uy6KUDSylZJA7lmiPJ4aPJ4KEom2Ma6VEGIicxugfgYclKfsAKfcjcfRc/jlstApF0Woo30FZcEleH3Tsko8VNScSmf7yyiVKkjdhBATk9s0833RWXG5PAN82uV5BktsKMddJqAogGSijaat99M4/Uqi4VdIJt7DNCspK19CPNZGa8vyQldRCDHBuA1QHiCYpyxI7slXex2GnrG818eB47P2CaCXfX/dZX1EAYS632JtZCPVNYspCSzGsmJs3fwA0cj6QldNCDEBuQ1QLwCXAnfmKLsUPcYon4PQs1CAzgo8E8juC0qgB9N+wWV9RIFYqRBtLU8VuhpCiEnAbYBaip5F4jngr+gl06cBF6ATKI4d5NgfOTfQs5ifBrwy9KoKIYSYTNwGqCeBD6CXUL8efS3JRgesY9FrOrkxb6gVFEIIMTkNZcHC5cASoAI9eWwlcAjugxPA6cDH0u7PQ8/z1wncAVQP4VxCCCEmMLcBqnclXNCZdpvpz7ib45S78TV0YOt1PVCPzhDcF5mWSAghhMNtgLoImJKnrB640OV55tOfqVeF7ja8Gh2grkEvhyGEEEIMqYsv37x8ewAtwzjP4egpsXuX8NhE/iAohBBikhksSeLT9A/AVegl2+NZ+wSAqbift+9V4DzgWfR4qMfTzjkbvZy8EEIIMWiAehOduGCg14N6HNiatU/v+KVbXT7eV4F70F2CITLT009FZwWKCcDnq6G67gCC5fNAKcKh9+hoX0Eq2TXocR5PkOra/aioXIBheIlENtLR9gKJeDMYJpVVe1JdvRceb5BkooOOjpcJyzIfQkxIgwWoZc4NoAf4Ezo5Ykc8jW4pLQDeI3Phw78A7+7g+UURKAvOZfrM04mEn6G7/WYMwyBQupi58z/Gpg23Eotuynmc31/HrLnnE4+9SU/nHSgVpySwG7Pnnse2pmVU1+yDadpEQo9jJVvx+WfS0HgkkYpd2LblvjF+lkKI0eZ2HNS3RvAxe4AX0S2z6ehuvRR6qXYxzhmGh2kzP0xn219JxN/r255MbCIRf5fps85gzerryXVJc9rMUwl1P0w0/GzftlRyK/HYShqnf4p4dC0dLX/uOzaV2kYs+jq1DVdRUbkbPd1vjvbTE0KMoaEkSSxBt6KeBJ7PcXPrRHRXXgzYQP9SHX8Azh/CeUQRKq/clVRic0Zw6hWPvYVtdRKs2GVAWUlgGl5vgGh4YC9vKtlELLoSK9VEdmBTKkG4+xGqa/cbsecghCgObgPUsejANBM4FJ21F0JPc1QHvOHyPBcAd6OvW12a9fjvkDmIV4xD/pJ6kol1ecuT8XX4/XU5jqsjEd9AvmTRROw9TE/u+YoTiXX4S+qHU10hRBFzG6CuBX6BnnEc4OvAUehrSUn0LBNuXIOel+9C4O9ZZSvJv1aUGCfsVBTTU5233OOtwbKiA7ZbqSgeb80gx9Vh29lJpE6ZpxbbkpVahJho3Aao3YAH0PPvKfqX3liPnkj2GpfnmUN/4kW2GJmzTIhxqLt7JYGyvTDNgQsnezw1+AMLCHW/NaAsEl6Lx1uLzz9zQJlhlFBWfhD5lhMrqziUrk5ZqUWIicZtgIo5+yp0qvlOaWXd6K4/NzYCi/OU7Y9k8Y17VipER9uz1DRcjs8/t2+7v2QnaqZcRlvzE3laQjbNWx+muv4SSkp3pzcYeX3TqZnyCcI9awiU7UWw4kgMowQA06ygovo0PJ7pdLYPtuKLEGI8cpvF9yp6SfZlwKPAV9Ap5wl095/br69/Br4JbEMP/AX9SXQ08EXnXKLIGYYXj6cUy4rmXOa9reUpkskQdVPOwzS9GBhYVoSW5ifp6VqZ95zRyEa2bVlGXcPxVNWeg1JJlFJ0tD1PR9uz+Pw1TGk4iobpx2DbUQwzQE/3Srau+xu2nRjtpy2EGGNuA9TP6Z8stnew7UPO/U3oNZ7cuA49E/pf0dMcgZ7N3AP8Hvily/OIAvB4g0xpOJKKyt2wVQLD8NHT/Sat25ZjWeGc+5iGn1DPapqblvXtk3FOTxn1U4+konJ3wMI0S/paWKHu92jetgzl3E8mOtiy6Q5MswSPp5RUKoxSyTF7/kKIsWUolW+KvcGPA3YGStEZeUP9+rozutVUB7QDjwHFOB3AsF6cbG+vHP8NQ4+njDnzLyYefY1wz3JsO4RplhOsOBJ/6R5sWHMDYDB7/sUkcu6zJxvW3ICVlsxgekqZM+9iksk1BEp3Jdz9BJHQMygVw+OpobzqeExPIxvW/i1nS20iWbj7NwpdBSEKKecF5uEGqMlCApRjytRjKClRdHf8e0BZZc0ZxGIWhmEOss/pxGI2rc2P9W2rbziSQMCHaZaQTG4h3P3YgONq6j9OV+caOjteHNknVGQkQIlJbocD1J7oa08Hopd734oecHsd8NoQKuJHL9+RfZ6/MvSW2GiT6O1QdpKWph9hpdoGlHm9DdQ1Xo2BQUvTj7FSrQP28XgbqG+8GtP0922z7QRt235N3dQraN78bZSKDTjOH1hATf2FmGZgZJ+QEKKY5AxQbrP4TkVPT7QYuB09Dup29CKDK5xyN3ZFD8j9NXqZDsv5+Wt0Bp+MgypWhhcr1Z6zKJVqxzC8g+5jpdr0PumnNDzYKopSiZzBqfe4fOnlQoiJzW2SxHXAf4CzyGxVfAW4zSm/y8V5/gB0Ae9HT3PUazZwL/A74DCXdRJjSKkEPv+cnLNE+Etmo5Ru/Pr8s3Pu43P2MYz+lpBSSbyeWgw8eDw1WFbHwOP8s5GGrBCTk9sW1Cz0PHzZnxQK+KNT7sb+wDfIDE44978JHODyPGKMGYaPyuqTGfiWMamoPgnD8GMYfiprcu9TWX0yhuHP2GoYfiqqTyQSXkF51XE5HtNPRdUJ0r0nxCTltgW1Atid/tTydHsAL7k8zzr0Ioe5BBgYuESRMAwTr38G9Y2fpqfrYVLJJry+RiqqjsPjnYJh6KDk9c2gvvEz9HQ9lHefjHP6GjEMHxgmNVM+Rrj7SSyrHZ9/NhVVJ+DxyOQiQkxWgyVJlKX9vhtwC7q1dBd6iYwG9PinjwPnoIPY9pwC/AS9qm76tNUHo+fm+zzuugrduAi4Icf2K9BdiW5I31IOth2ld2KRfK0bN/tk7h/X+6sUGO6PE0JMCEPO4uuddy/7BPm2efKc54WsY+aixz810x/oGoA2dAvrwHwVGqKL0AHqKCB9dtI1uF9aXgLUCLDtBAYQj68FFCUl81HQl9Fn23GUHSeZWI/HW4vXOwUM74AWl20nsK0OUslmvP7pmGY5plky5s9HjG9WNE6yvZPwexspmzsD/5RaPKUD30d2IglK0fPWGqxQhMrFu2IYBp4y+eI0CnIGqMG6+C5hZD6gV2adJ/dcN6PnBfTSIKIAbDtBMr6Wjta/9WXqGUYJ1XXn4Q/sDBh0d/yHaPh5et8mXt906houx0hbXsO243S0/DljnamS0t2prjs/I3VdiMFYsTirv/4rOp55tW9b1X67sei6z+Ap7Q88djJFbHMzb37mhyRadfKO4fMy54qzmfqhwzP2FaNnIg/UvQjdgqpg+AFqwr44Y8W2Y2zbvBQGTEnkYeqMpcRj79LZ9tcBx5UEdqW6/nxMM4Btx+npvIdI6JkB+5VXHkuw8igJUmK7rFicTTfezeab7hlQ1nj6scy54sy+wGPHE7z8kS8R3zZw3N8+N32Psvlu58cWLu3QOKjx7D30kvJvA5cVuC6TTizyWo7gBGARjbyMbef+7hCPraL3PWsYPqLh3DNJRMIvYMg4KeGCYZo0P/BUzrKWB5/G9Pv67kfWbs4ZnACa/v0oVjT32mRiZE3kALUVPaD4o8AHgWfRyRFX59l/KbrFlH4TO0ip/P/Iyo6R/2VWoKz+e3kmhVUqCYYEKOGCYWDnCSx2LOEk52hWLP/71orHwbZHvHpioIkcoB4CvgM8jF5s8ULgVuBr5H7eS9Ff2dNvYgcFSvci30sZCC7uW9spm9c3A5yZJ5RKUFK6a57z745KC2RC5GMnk9Qemns5uppDF2NF+2czKV80P28yxJRjl2BKosSYmMgBKpfbgVp0JqEYA4YZoLzqAwO2ByuOwjSDBMr2xOubnnmMUUJ13dkYhk4MNc0AVTUfxjQrMvbzeGqprD5ZMvmEK96yUuZ+6lxKptZlbPfVVzPv6vPxBkvTtip2+tIlYGZ+uao9fH8q9lqIIa32MTGRkyRyOQM9NdN8YK2L/SfVizNabDuOleogGn4OhaIseCAebz2m6Ue//1LEoitJxN7F462jrPxgDLwYZv81AWWnUFhEwytIJbfi88+itGxxznR0IfKxLQuVTNG67FlCq9YQ3HkOU44/BMPnwfRmJjVb0Tip7hBNdz2GFYpQd9RBlO86H09AEnJGwQ7PZn4BcDfQOUIVKoRb0OtQTUWP89oeCVAjSNn6OlJ64OkrUzZKpTAMT1/LCXoH8Bp9WXr9+0lgEsPXG6gMnxfTk28Ip7NvMoWyLDwBaamPoh0OUBZ6NvPXnJN9HT35a9NI1G4U3AE8j66vBzgbOB/4P+B6l+eQAFUgtp0glWxyxkdBafBAvL5GSScXYmIa8kDdB4BXgFedm0H/B7aJntz1Xoo3QL2NHmw8C133N9GtwJsKWSmxfbYdp6frISI9T/Rti4SeIVhxBOVVH5BrTkJMEoMFqAfRLaYT0es4KeBXwOPo2RnSA1Yx+qpzE+OMbYcyglOvcM9yyioOkQAlxCQxWID6RdrvJej57F4CFqLHFil0a+RB4BHnpxA7LBbOv0BzLPIa5ZVHjF1lhBAFM9hV5v9DLyxYAfSOWrsB+Ag6SBnAP4FydMtKiBFhmKV5y8xByoQQE8tgAepk9LihTvQM4Aq9rMZBQO+V6geAy4GdR6+KYrIpDe4DxsBMPwwfgbJ9xro6QogCGSxAfQCdjj0DuBLdYjoG3ZXXjg5YV6DTtuWigBhBJrVTPoZh9i9JZphl1E75ODLBhxCTx1DSzG1gH3Ta9h7Oz4fRK+3WkbnA4URRzEkgE5qyE2AYJOIbAAN/ySxQCkPSzIWYiHZ4HFR6gPIASWB/dOLErsBbO1zF4iMBagTYdpL+cdEGhuFFqQS6AW87S2rEMDBR2BiGXwbhihGRisQwDANl2ximiVK2nv3eQG/zeFCWpctSFobfB85nokqldLmtwDDwOvPv2SkLO5HQx9g23rKB10XtVAo7nsTwmCjLxizxZdzPnFZJMIxxUNnSPzEUsJ7+5ImJGJzECLDtBOHu5UQjL4KyCZTtTXnV0YS6HiUaeZGq2nPweGsIdd5PIrEej6eW8sqj8Ad2kUG5YtjsVAqrJ8L6399G53Ov460M0njaMdQduT9vf+M3KNtm4XeuovWR52i681FSXSGqD9yD2ZediRVL4PF7Wf/72+ha8Sa+qgqmnnYkU45dgjIM2pe/wNbblpFs76Jqv92Yc8VZeKsqMH3649SKxWl/4kW23PoQoNj1uqtpf/oltt76MMm2TioX78qcK87CV12RscSHGGiyzcU3VPLi7ABlJ2hv+QuJ+DsZ233+mdROuZTO9n9TUXU0bduud1pU/apqz6K0bN+c0yIJsT2pcJRXzv1y32q4vRrPOJa6w/ZDKUXH0y+z9baHM8p99dUsvvkHvPXFn9Lz6uqMsunnnsj0c0/k3e/8gc5n+4dCeKsrWPyP6/BVlWNFYmy59SE2/vEOABZ+91OE393IphvuyjiXt7Kcxf/4Ab6ayhF81uPapF2wUBRIKtUyIDgBJBObSMTXUFF1NKHuxwcEJ4CergclH0IMi51I0vTvRwYEJ4Btdz1G6dwZlO00i6Y7Hx1QnmztpOn2ZdQdvv+Asq23L8PwmEw7M3N2/lRnD1tueQArlgDTYPPN9wHgq6mkct9d2XLLAwPOleoOsenm+wZdd0pIgBKjKBHPP2F8MrEJ01NJMrEpZ7ltdetECSGGyE4kCa18L2eZSllE120m0dyOSuVeR6znrbUEZjQMPDaRJLp2M4FZUweUhd5cg0omSbR0YEf0ulIljfXENzfnXSQx/NYaVDLl9mlNShKgxKjx+hrzlnm8dSg7htdbl7PcMAIYMqWRGAbD6yUwO897zzAomVaPr6Yi70rMgZkNJNu7BxaYBoEZucsCM6dieDz4a6swvHp29GRHN/6pdRh5ZksPzJiat0xoQ0mSEGJI/P45eL0NpFLNGdtNTzWBsj3o6XyYYOXhxGOryL7cV1ZxCEpZGIa8RQvlvpMvK3QVhqVm0XwWX30RTXc8opdyT1N76GKscBSloPaw/Wh/YkVGuRnwM/2cE3jn2t8NOG/dkQeCadL070cyths+L1NPP5oV3/8dO59xPPXHH0LLvU8Sb2olum4zU44/hOb7nsw8xuuh8cwP8NIP/0jzijdG6JmPrZPu/f2oP4a0oMToMTzUTb2KQOme6LeaQUlgEXVTP0moazmR0P8wDD819Rfj9eouFcMso7zyOMorj5FJYcWwdKxaQ+sb77Drz75I+e56khsz4GfqKUey01c/zppf3Mzan9/ETl++hKmnHoXpLEBYvvtO7PHrawDFnCvOonzRPH1saQmNpx/DTl+6BDNQgre6om/J9+DCuez6k8/RvamJ1ldW8eafbmPO5Wcx7ezj8JQFWPfLfzLnyrOZdvbxfUvIB3eZw6IffY5QcwvNL64c+xdoHJEsvsHJizMCbDuGYfgAhVIpwKOXzFYK/RLr8VBggGGglC0p5kVgvLagADAM5p50BPM+eBT+mgpMnw87kQTT0CvnKoWV0Atoekr8KNsGywavSSoSwxcs0wsaekwwTaxEnK73NtK1ej31ey+kfPZ0VDJFMhxl/UNP0fbaKky/n8iWZirnz2T2CYdRv9cilGVhxRMkusOUNdbrYyJR1t//BGvuXIay3KybWpxGuAW1w+OghBgW0wz0/Z7RZZcnSy/PpQEh3FOKdfc+TtmMqcw64kBsK4Hh95LqDmEEy7Ati661myhvnIKhFFYsgbdCByWP34cVjYHPixWK4C3xY3q9VDQ2ULtwPnbKItUdxlsZxE6m2Om0Y9nlrBNJdYf0tkQSTFMHwVAUX1U5Hr+fVHcIT7CMjpXvsumRZ8Z1cBorEqCEEBPSPp+/hCl7LCS2uZnohibW//ZfJJrbMTwe5lx1DlOOO4R3rv0dnc+9DkoRmN3I/M9dSHCX2bQ88gxTTzocfF42/PEOmu95AjuewFtZzsyLT6Hm4L2ItHUSaKxn212PseXm+0n1hHVX4qlHMfOCD/HaZd8mum6zPuaCD1J98F68fvm3aTztaJZc93n++/nrSPaEC/0yFTW5BiWEmHB8VeU0HryYTTffi51I8s61vyPR3N5XXnfEAbz12R/pAbfOZY7YhiZWfeGnWJEYDccfSnT9VjbfdC9Nty/Djutki1R3iHW/uJnwOxsoaail/emX2fC720g5gcaOJdh6y4NsvfUhZpx3Yv8xv/on4Xc2MOXog9nw21sJvfI2c086YmxflHFIWlBCiJzGIktrNHW98jbV++6mB+SmXWuv3GchiZYOQqsGjtOzE0m23b2cxjOOpXTONLbdvTznubf860GqD9yDpjuW5SxvuvNR9rvjZ7z7gz/ra1tA0x3LmP+Fi9h883003baMPX5zDQvO/9COP9EJTFpQQogJKb6tFU9FWUbLCcBbESTR0p7nKPQg3ngSlbKwQpG8+xg+74Bz90p1hQAwS/qTfeItHXgry53f23UChhiUvEJCiAmpap9FRNdtoWKvBRnbI+s2U777TnkHyVbstQBvVTkqmaJ03oy8+1iRGBV7L8xZHlwwh1RXqG9WCYDKvRYQWbu573c7z0wWop8EKCHEhOQpLyPR1sm004/FP7V/xpLoui3ENm5j2tnHDTimbOdZ1B9zMIn2LlLhKHMuPxOyWjqeYCmzP/5hzEAJsy45tW9MVC/D42H2pWfQdNejGcfMvPCDbLvzUczSEuZcebYsueGCjIManLw4QoxjVjROeM1GAo31bLnlQbpeegt/bRUzzj+J4II5dD7/Bk13PooVilJzyD5MO/MD2JZF96urqdpnEVgWsa0tbLnlQWKbtlG+6zxmXvAhul9ZheHzUnXAnqS6etj89/sIr15H6axGZlz4IXxV5ay9/h/ENjRRvus8Zpx7Et1vvEP3y6uYdfGpeKsr8JTIWL80O7xg4WQkL44Q45yVTKHiCVDKyZVQeEpLMX0elGWTikT1as0eE8PjwU6kMHxesC28wTKsWAI7obP4DNPUA/WcxQ49ZQGsRAI7ntSfFoaB6fPox+rtwjOMtGNMPDkWOBQSoIZDXpwCUsoCbBKxdaSsNkpKdsb0VMosE2LYlG2jUhY9b75HbMNWKvZaSEljHZ6A+2m17GQKbEXXS2+SaO2g+sA98VYG8ZQGBu5rWZCy6X59NfEtzVTuuxv+umo8pTKNVxaZSUKMH0rZ2FaItm2/wrL6M6UCZftQXXs2hgQpMQyp7hBvXPFdohu29m2rOWQfFlz7SVdByk5ZxLe28MZV3yPZ1tW3feqHj2buJ8/JOIeybZLtXbxxxXeIb23t2153zMHs/JWPDSkoTlaSJCGKklJJOtv+nhGcAGKRV4hEXnZaV0K4lwpHefe7f8oITgAd/32Fprse0y2j7VCpFKu+8ouM4ASw7d+P0v3yKj2nn8OOJVj9zd9kBCeAtkeepfXR57BTshbU9kiAEkXKIhFfk7MkGno+5yq8QgzG8HroePbVnGUtDzyt59DbjmR7F9F1W3KWbbt7OVZaWrmdSg1YNr5X831PDlgKRAwkAUoUp0GvjUrrSQyDbYOd+32lUlbeyYsz98s/weuAFXoHmQw232q+IpMEKFGcDC9e38ycRYGyxc7yHUIMgdLTHOVSd9SBmC5Wty2ZWktJY33Osvrj3oeZlvxgBkoI7jIn975HH4zpl/fw9kiAEkXJMHxU15+LYZZlbPeXzCdYvkRW2hVDZgb87HzNpfhqKjO2ly+ax4xzT8yYligvw2DBt67MCEQANYcupvbQfTOCnOH3sss3L8dbEczYt3KfhUw95QgJUC5Imvng5MUpIKVSKGUTDb+ElWqlpHQR/pI50noSw2YnUyjLou3R54iu30rVfrtRuc9Cd8HJYcUTqJRFywNPk2jpoPaw/SjbeVbOgbd2IomybFoe/h/xLS1UH7QHFbvvPKTHmyQm5Tio3YDrgSVAJ/An4Fu4v4gxoV+c8UIpG1AYxva7YIRwQymFsmxM7/DfU8q5pmW4OMdQ9p2kJt04qBrgEeBN4BRgJ+An6G7NrxWwXmKIDEN6osXIMgxjh4OFYZquL5IMZV/RbyIHqMuBUuDDQDewDKgElgI/dLYJIYQoUhM5pp8APERmILoFHbQOL0iNhBBCuDaRA9QiYFXWtg1AxCkTQghRxCZygKpBJ0Zk63DKsi1FJ0Wk34QQQhTIRA5QQ7UUnUmSfhNCCDH6cjYIJnKSRAdQlWN7jVPmhgSp0aOQ11eML/KeHWMTuQW1ioHXmmYBZQy8NiWEEKLITOQA9QBwHFCRtu1sIAo8UZAaCSGEcG0izyRRgx6k+wZwHTAf+Cnwc2SgbjGQ7hIx3sh7doxN9GtQRwO/Au5BZ/T9DJ0MIQrvW4WugBBDJO/ZMTaRW1BCCCHGsYl8DUoIIcQ4JgFKCCFEUZIANTGdCjwMtAEJYDNwO3C8y+OXO/sPphx90fii4VSwiNwIrCh0JSaRpej3zTt5yt9xypeOwGO1DuM8S53jtmc52/8fKbST0a/l3ALXY9gkQE08PwPuQAeljwPHAF9GT5L7AHrZke25EvjKaFVQTHoxYB6wf9b2A9AfprGxrpAoThM5i28yOgX4DHAxumWQ7ibgg+hxYPmUOuVvjkLdxpoPsHG/OKUYO2HgJeAcMluv5wCPAfsVolKi+EgLamL5DPACA4NTr3uALWn3FfBZ9NiwFuB1Z/tyBnZfnA6sRgewJ3E/I/xXgHfR34q3AQ8CjWnltcAfnLIY8D/goKxzfA79vLqc/e4Bds7ap7fOlwLvOeea7pR9wnluvXW4nYHTYB0LvIb+8Hwa2N3l8xPDcwtwFv3jigzn/i059j0L/feLAxuB7zLwy/VhwKvov/GLwPvyPO4p6KAYA5rQa8P5hvsk0O+3dej/i/uAGVnlP3DqHgI2ATeT+f4H+JBT5zB6eMxzZC4JZKJ7Qd5FvwargQuzzmGguyebgR7gb+j178Y1CVAThxe9tP3DQzzuC8A04KPA/+XZZ1/gX+gPgA+jA8StLs59AfBV9ADp44Ar0P9kQae8BL3q8TFOPU5FB8pHyPwnnokez3YKOth40IEsO8gc4jzGl9CtxS70oOzfo2cPOdUp70JfQ+s1G/gR+oPvI0CD83xlUObo+TcwFTjUuf9+YIqzPd0H0H+Ll9B//+uBz6PfD72mo7uv24Ez0H/vm9HTmqU7yzn/8+ig8C10gPn+MJ/DEuBT6C95HwP2Au7K2qcB+B5wEvoL5Hx0K7H3s3cn9Bemx9Dv2fOAe9Ff3Hpdj34f/8E5z53AX9DXmHr9H/ANZ58z0AHzh8N8XsVDKSW3iXGbqrTLsrYbSilv2s1IK1NKqZdynGu5Uur2tPu3KqXezDr2Guf4iwap06+UUncMUv4xpVRCKbVL2javUuo9pdSP8hzjUUqVKqV6lFIXZNU56rwOvduqlVIRpdRPB6nDjUqpVFYdTnWe26IC/j0n6m2pUqrV+f0/SqlfO7//Ril1l/N7q7MfSqlnlVKPZ53ji0opSyk107n/Q6VUm1KqLG2f85y/Ye95DKXUeqXUDVnnukTp901djvoNdluulEoqpWanbTvEeczj8xzjUUrNcPY5zNl2hlP3fI+zs1LKVkpdmLX9b0qpF9LOu0Up9dusfZY5jzV3hP+GY3aTFtTEkz3y+nNAMu32yazy+12c80Dg7qxzZ3/TzeUV4ET0N9UD0S2fdMeguzbWoluAvd02T5B5Af1gYBk6KzGFXnSyHFiQdb4X0V14vZagr6vdsJ16riMzq6z3GtzM7Rwndswt6G/7Jc7P7O49D7r1flvW9n+hWyBLnPsHot8fkbR97sw6ZgG6pXwr/e81L7rlEgD2yFNHT9b+6V5CL4La67/oLrYD07adgG7td6Hfu5vS6gO6+68K+Cu6tRgk09Hoa6l3ZtXjUWAfp36z0L0g/8k61s3/aFGTADVxtKH7p7M/VG9CZ0cdkOe4bXm2p2tE/+Oly76fy1/QXXxnofvVtwHfoT9Q1aODTzLrdjH6nw70h8rD6O62y9DdeAc4jx/YznOpc35u3U49O7PuJ5yf2ecXI+tu9BeN76I/mO/JKq9HXx/K/rv23u/tBsv1/oygr/uknwv0F7L099paZ/sscnsva/+5aWW5/gea0cEC9Pv0bnRQ+ig6oB7slPW+t95Gd13Od+rWCvwD3d3ZW28POsCl1+NGdKCaRn93+HD+R4uaZPFNHCngGfS3sG+kbd/G4EHIzVxXTei+9HTZ93Ox0WnvP0N/AJyH/jDaBPwOfc1gBfq6ULa48/N49LWEU9AXkUG/b2tzHJP9XNqcn9NwN7ZFjK0w+nrL1ehWUjirvBX9YZz9Xpvq/Gx3fuZ6f5aReZ2xd99LgZdz1GVtjm2grwuVpN1PTzLK9T/QQP8XotPQ11TPpv+9OSfHMfc5tyr0Naafo687nePUO4X+YmbnOLaZ/s/x4fyPFjUJUBPLz9EXaT+KbjmNlBfQF5W/Qv8/2oeHeI6N6Iymi4HdnG2PogPqBvJ/2ytF/2Om0radhbv37jPoi8UXoi+si+LzW3QA+F2OMgvdbXums1+vs9DviWec+y8Al6CDUm8332lZ53obPTZwLvDHIdTv9UHK9kW38Hu7+Q5BB4Xnnful6ACb/sXpvEHO14VuPR1Of/flY+gWVBW6GzOXjeggfQo6S7bXUP9Hi44EqInlP+ggdSNwJLrLpBXd1fUBZ59QrgO34zp0F92twJ/R/fUfc3Hc79HfAJ9F//MdCeyCzrIDnQp7OTpF/MfAGqeuB6L/4X5G/z/oDc5j744ONp0uHr8T+Da61eZHd6GUoL+lfgv9gSUKa7lzy+ebwEPov/8twJ7ov+kf6b+e83P0tdV70Rmj09FfptLH/Nno67E3odOvH0B35c5HZ3eeQeY1LDda0C2fb6K77K5DX5fqDRLL0Jl7P0f/L74POD/rHJehg9GD6NbZLuiA/Den/G108L4FnZW3wnms3dHXsT6ODuQ/RP8PtQJPoYeF7DrE51N8Cp2lIbdRuZ2mdAZPu9KZRluUzqY7IWs/pZS6Ksfxy1VmFh9KqTOVUu8qpWJKqaeVUgc4x180SD0uUkr916lHRCn1mtKZe+n7VCmlfqGU2qh0Rt8mpdS/lc6I6t3no0pn9kWVzuo6SCm1Tin14+3Uufd2mdJZiHGlVJPSWYmVTtmNSqkVWfvPdZ7byUXwt5xot6Vq+1ly6Vl8KKXOVkq9rvrfH99VOtsz/ZgjlH5/xZVSryj9/sk+D0r/DzyllAorpbqdfb+Tdj439Ut/v12ulNqg9HvzAaXUrKz9vqj0ezuslHpE6WxRpfr/75Yope5T+n80ppRaq5S6TilVknYOQyn1GaXUSuf5tSilnlCZWayGUurbTlmPUupmpdS5zmPNHeO/8YjdZLkNIYQQRUmy+IQQQhQlCVBCCCGKkgQoIYQQRUkClBBCiKIkAUoIIURRkgAlhBjPLkWPY8q2Dj0uaCQo4KoROlevs8i9GvVyin+l3jEjaeZCiPFsBfAGAz/sF6OnutqQfcAwHIyeCsnNvJVu3Y6eZ++IrO27oWefeCf7gMlIZpIQQkxEuebbG65nR/Bc2zMRVrMeMdLFJ4QolMFWyr0I3bV2AHrqnih6Jdn0OfaWo5eHv9DZV9HfklpHZhffjejW1knoIBBBT1NUi16d+XH0ZLUr0AsPpkvv4jsi7bGyb3OdfS5Ar8rcjl4h93Eyl4+5ET0V0eFpxy5Ne07ZXXxHoaca610R+jdkToTbW6cj0JPuhtDThl3JOCcBSghRCG5WysXZ5z/oiU9fR38A7+2UXQmsQs+xuMS53TfIY84GrkWvTnspem68P6Dnuetdm8rr/J5vNeWX0h6r9/Zf9Bx4Hc4+c9Fz6Z0JnIsOvk+h5/0DPZfg4+hWXu85/pTn8XZHz9PXig5q33TOmes61R/Rq16fhg50vyZzbapxR7r4hBCFcC36Q/RC537vBKvfR68Z1utP9LeEHkK3fr6CXoriTXSrpwV33XC16GDwnnN/L+ALTh16J2c10EFuEfBWjnN0Zz3WlehrVB9AT4jc+9x6mehJYw9ETxR7rfP47U7Z9ur9dWA9ejUBy9nWjg7cS+if0R3gn/S/dsvRS4V8mP7Z1ccdaUEJIcaa25VyIXNlXBvdmhpuq2Ad/cEJ4F3n52M5ts1wcb5D0TOVfyXrHLui670NHVSSwEIGrgDtxoHOuay0bXegl585NGvfh9N+7020GNerQksLSggx1tyslNu7YGWuVWKnMTydWfcTOba7XU15Brqb7S7gR2nbK9CBYhvwWXTrJ4ZuCQ5nheZpDHydLHSGYvainZ1Z9xPDfMyiIQFKCDHW3KyUG3R+b6B/ZeTe+1sprBJ0K6YVvVBiuiXoVsux6OtjvaqG+VhbGfg6edDrprUP3H1ikS4+IcRYS18pN132SrmQmbVnohMq0q+pFKKV8Bv0NaoPM3AB0FLnZzxt2/voz/Dr5bbez6FfA0/atg+jGxdPu6vu+CUtKCFEIbhZKRf0irEJ9GDcj6NTwj+SVr4KOM65taEH1Ka3uEbauehW03fRXWwHp5W9jE56CKGfxw/RramlDFy9eRU62J6Kfr5bnFu27zjnvQu97P1M9Mq9D5EZyCckaUEJIQrhYXQm3v7o5dA/A/yEgVMKnYNuQdyFTi8/m8xBuN9BZ9vdCryAzlwbTb2JDtegA0T6rfd60ZlAIzqh4zPA5fQnX/T6Dfo1+ItT70vzPN5K4AR0N9+/0c/3n+iU+AlPpjoSQhSji9CtqwoGdqOJSUJaUEIIIYqSBCghhBBFSbr4hBBCFCVpQQkhhChKEqCEEEIUJQlQQgghipIEKCGEEEVJApQQQoii9P9v8KxttrT0HwAAAABJRU5ErkJggg==\n",
      "text/plain": [
       "<Figure size 432x288 with 1 Axes>"
      ]
     },
     "metadata": {
      "needs_background": "dark"
     },
     "output_type": "display_data"
    }
   ],
   "source": [
    "fig, ax0 = plt.subplots(1, 1, figsize=(6, 4))\n",
    "\n",
    "b = sns.boxplot(data=df_num_batches, x='method', y='num_eval', showmeans=False, linewidth=2,\n",
    "           palette={'Grid search': pal[-1], 'Model-based\\noptimization': pal[1] },\n",
    "            boxprops=dict(linewidth=2., edgecolor='white'),\n",
    "               whiskerprops = dict(linewidth=2, color='white'),\n",
    "               capprops=dict(linewidth=2, color='white'),\n",
    "               medianprops=dict(color='white', linewidth=2.),\n",
    "               showfliers=False,\n",
    "    )\n",
    "sns.stripplot(data=df_num_batches, x='method', y='num_eval', linewidth=1, size=8,\n",
    "             palette={'Grid search': pal[-1], 'Model-based\\noptimization': pal[1] },\n",
    "             edgecolor='white')\n",
    "\n",
    "# ax0.set_yscale('log')\n",
    "\n",
    "ax0.set_xlabel('')\n",
    "ax0.set_ylabel('# batches to identify\\nbest formulation', fontsize=15, color='white')\n",
    "\n",
    "ax0.spines.right.set_visible(False)\n",
    "ax0.spines.top.set_visible(False)\n",
    "\n",
    "ax0.spines.left.set_color('white')\n",
    "ax0.spines.bottom.set_color('white')\n",
    "\n",
    "# plt.setp(b.lines, color=\"white\")\n",
    "\n",
    "ax0.tick_params(axis='both', which='major', labelsize=15, colors='white')\n",
    "\n",
    "plt.tight_layout()\n",
    "plt.savefig('num_batches_best_32.png', dpi=300, transparent=True)"
   ]
  },
  {
   "cell_type": "code",
<<<<<<< HEAD
   "execution_count": null,
   "id": "f95ea107",
=======
   "execution_count": 36,
   "id": "fa1528a9",
>>>>>>> bfae592f7d5fd5fcbbaef1e5f1ae59121187bcb6
   "metadata": {
    "scrolled": true
   },
   "outputs": [
    {
     "data": {
      "text/html": [
       "<div>\n",
       "<style scoped>\n",
       "    .dataframe tbody tr th:only-of-type {\n",
       "        vertical-align: middle;\n",
       "    }\n",
       "\n",
       "    .dataframe tbody tr th {\n",
       "        vertical-align: top;\n",
       "    }\n",
       "\n",
       "    .dataframe thead th {\n",
       "        text-align: right;\n",
       "    }\n",
       "</style>\n",
       "<table border=\"1\" class=\"dataframe\">\n",
       "  <thead>\n",
       "    <tr style=\"text-align: right;\">\n",
       "      <th></th>\n",
       "      <th>method</th>\n",
       "      <th>num_eval</th>\n",
       "    </tr>\n",
       "  </thead>\n",
       "  <tbody>\n",
       "    <tr>\n",
       "      <th>0</th>\n",
       "      <td>Grid search</td>\n",
       "      <td>3</td>\n",
       "    </tr>\n",
       "    <tr>\n",
       "      <th>1</th>\n",
       "      <td>Grid search</td>\n",
       "      <td>19</td>\n",
       "    </tr>\n",
       "    <tr>\n",
       "      <th>2</th>\n",
       "      <td>Grid search</td>\n",
       "      <td>7</td>\n",
       "    </tr>\n",
       "    <tr>\n",
       "      <th>3</th>\n",
       "      <td>Grid search</td>\n",
       "      <td>24</td>\n",
       "    </tr>\n",
       "    <tr>\n",
       "      <th>4</th>\n",
       "      <td>Grid search</td>\n",
       "      <td>22</td>\n",
       "    </tr>\n",
       "    <tr>\n",
       "      <th>...</th>\n",
       "      <td>...</td>\n",
       "      <td>...</td>\n",
       "    </tr>\n",
       "    <tr>\n",
       "      <th>35</th>\n",
       "      <td>Model-based\\noptimization</td>\n",
       "      <td>2</td>\n",
       "    </tr>\n",
       "    <tr>\n",
       "      <th>36</th>\n",
       "      <td>Model-based\\noptimization</td>\n",
       "      <td>2</td>\n",
       "    </tr>\n",
       "    <tr>\n",
       "      <th>37</th>\n",
       "      <td>Model-based\\noptimization</td>\n",
       "      <td>2</td>\n",
       "    </tr>\n",
       "    <tr>\n",
       "      <th>38</th>\n",
       "      <td>Model-based\\noptimization</td>\n",
       "      <td>5</td>\n",
       "    </tr>\n",
       "    <tr>\n",
       "      <th>39</th>\n",
       "      <td>Model-based\\noptimization</td>\n",
       "      <td>3</td>\n",
       "    </tr>\n",
       "  </tbody>\n",
       "</table>\n",
       "<p>80 rows × 2 columns</p>\n",
       "</div>"
      ],
      "text/plain": [
       "                       method  num_eval\n",
       "0                 Grid search         3\n",
       "1                 Grid search        19\n",
       "2                 Grid search         7\n",
       "3                 Grid search        24\n",
       "4                 Grid search        22\n",
       "..                        ...       ...\n",
       "35  Model-based\\noptimization         2\n",
       "36  Model-based\\noptimization         2\n",
       "37  Model-based\\noptimization         2\n",
       "38  Model-based\\noptimization         5\n",
       "39  Model-based\\noptimization         3\n",
       "\n",
       "[80 rows x 2 columns]"
      ]
     },
     "execution_count": 36,
     "metadata": {},
     "output_type": "execute_result"
    }
   ],
   "source": [
    "df_num_batches"
   ]
  },
  {
   "cell_type": "code",
   "execution_count": 111,
   "id": "9cc7c1dc",
   "metadata": {},
   "outputs": [
    {
     "data": {
      "text/plain": [
       "5.114583333333334"
      ]
     },
     "execution_count": 111,
     "metadata": {},
     "output_type": "execute_result"
    }
   ],
   "source": [
    "12.275/2.4"
   ]
  },
  {
   "cell_type": "code",
   "execution_count": 112,
   "id": "0b7b2724",
   "metadata": {},
   "outputs": [
    {
     "data": {
      "text/plain": [
       "6.25"
      ]
     },
     "execution_count": 112,
     "metadata": {},
     "output_type": "execute_result"
    }
   ],
   "source": [
    "12.5/2"
   ]
  },
  {
   "cell_type": "code",
   "execution_count": null,
   "id": "e912c473",
   "metadata": {},
   "outputs": [],
   "source": []
  },
  {
   "cell_type": "code",
   "execution_count": null,
   "id": "537e5be0",
   "metadata": {},
   "outputs": [],
   "source": []
  },
  {
   "cell_type": "code",
   "execution_count": null,
   "id": "097419ea",
   "metadata": {},
   "outputs": [],
   "source": []
  },
  {
   "cell_type": "code",
   "execution_count": null,
   "id": "17ba9e47",
   "metadata": {},
   "outputs": [],
   "source": []
  }
 ],
 "metadata": {
  "kernelspec": {
   "display_name": "atlas",
   "language": "python",
   "name": "atlas"
  },
  "language_info": {
   "codemirror_mode": {
    "name": "ipython",
    "version": 3
   },
   "file_extension": ".py",
   "mimetype": "text/x-python",
   "name": "python",
   "nbconvert_exporter": "python",
   "pygments_lexer": "ipython3",
   "version": "3.7.12"
  }
 },
 "nbformat": 4,
 "nbformat_minor": 5
}
