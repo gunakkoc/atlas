{
 "cells": [
  {
   "cell_type": "code",
   "execution_count": 102,
   "id": "f2639f8e",
   "metadata": {},
   "outputs": [],
   "source": [
    "import pickle\n",
    "import math\n",
    "import numpy as np\n",
    "import pandas as pd\n",
    "import matplotlib.pyplot as plt\n",
    "import seaborn as sns\n",
    "from copy import deepcopy\n",
    "\n",
    "import olympus\n",
    "from olympus.scalarizers import Scalarizer\n",
    "from olympus.datasets import Dataset"
   ]
  },
  {
   "cell_type": "code",
   "execution_count": 104,
   "id": "a8520159",
   "metadata": {},
   "outputs": [],
   "source": [
    "def get_traces(data, scalarizer):\n",
    "    ''' returns the best merit traces\n",
    "    '''\n",
    "    traces = []\n",
    "    for df in data:\n",
    "        scalarized = scalarizer.scalarize(df.loc[:, [ 'drug_loading', 'encap_efficiency', 'particle_diameter']].values)\n",
    "        trace_best_idx = [np.argmin(scalarized[:i+1]) for i in range(len(scalarized))]\n",
    "        trace0 = [df.loc[i, 'drug_loading'] for i in trace_best_idx]\n",
    "        trace1 = [df.loc[i, 'encap_efficiency'] for i in trace_best_idx]\n",
    "        trace2 = [df.loc[i, 'particle_diameter'] for i in trace_best_idx]\n",
    "        traces.append([trace0, trace1, trace2])\n",
    "    return np.array(traces)\n",
    "\n",
    "def get_rank_traces(data, dataset, scalarizer):\n",
    "    scalarized = scalarizer.scalarize(dataset.data.loc[:, [ 'drug_loading', 'encap_efficiency', 'particle_diameter']].values)\n",
    "    dataset.data['scalarized'] = scalarized\n",
    "    dataset.data = dataset.data.sort_values(by='scalarized')\n",
    "    dataset.data['rank'] = np.arange(len(scalarized))+1\n",
    "\n",
    "    traces = []\n",
    "    for df in data:\n",
    "        print(df.head())\n",
    "        df['rank'] = 0.\n",
    "        merged = pd.merge(df, dataset.data, how='left', on=param_names+obj_names, )#right_on='rank')\n",
    "        print(merged.head())\n",
    "#         print(data.head())\n",
    "#         print(merged.shape)\n",
    "#         print('-'*75)\n",
    "        ranks = merged['rank_y'].cummin().to_list()\n",
    "        print(ranks)\n",
    "#         print(len(ranks))\n",
    "        traces.append(ranks[:df.shape[0]])\n",
    "    return np.array(traces)\n",
    "            \n",
    "\n",
    "\n",
    "def get_frac_tol(data):\n",
    "    ''' returns the fraction of tolerable molecules uncovered at each iteration\n",
    "    '''\n",
    "    traces = []\n",
    "    df_tol = df_results[\n",
    "            (df_results['ered']>chimera.tolerances[0])&\n",
    "            (df_results['gsol']<chimera.tolerances[1])&\n",
    "            (df_results['abs_lam_diff']>chimera.tolerances[2])\n",
    "        ]\n",
    "    for df in data:\n",
    "        frac_tols  = []\n",
    "        for i in range(df.shape[0]): \n",
    "            sub_df = df.iloc[:i+1, :]\n",
    "            data_tol = sub_df[\n",
    "                    (sub_df['ered']>chimera.tolerances[0])&\n",
    "                    (sub_df['gsol']<chimera.tolerances[1])&\n",
    "                    (sub_df['abs_lam_diff']>chimera.tolerances[2])\n",
    "                ]\n",
    "            frac_tol = data_tol.shape[0] / df_tol.shape[0]\n",
    "            frac_tols.append(frac_tol)\n",
    "        traces.append(frac_tols)\n",
    "        \n",
    "    return np.array(traces)   # (num_runs, num_iterations)\n",
    "\n",
    "\n",
    "def get_num_evals_best(data, best_objs):\n",
    "    num_evals = []\n",
    "    for d in data: \n",
    "        ix = d.index[\n",
    "            (d['drug_loading']==best_objs[0])&\\\n",
    "            (d['encap_efficiency']==best_objs[1])&\\\n",
    "            (d['particle_diameter']==best_objs[2])\n",
    "        ].tolist()\n",
    "        if ix != []:\n",
    "            num_evals.append(ix[0])\n",
    "        else:\n",
    "            num_evals.append(d.shape[0])\n",
    "        \n",
    "    return num_evals\n",
    "\n",
    "def get_num_batches_best(data, best_objs, batch_size):\n",
    "    num_batches = []\n",
    "    for d in data:\n",
    "        ix = d.index[\n",
    "            (d['drug_loading']==best_objs[0])&\\\n",
    "            (d['encap_efficiency']==best_objs[1])&\\\n",
    "            (d['particle_diameter']==best_objs[2])\n",
    "        ].tolist()\n",
    "        if ix!=[]:\n",
    "            num_batches.append(math.ceil(ix[0]/batch_size))\n",
    "        else:\n",
    "            num_batches.append(math.ceil(data.shape[0]/batch_size))\n",
    "    return num_batches\n",
    "    \n",
    "\n",
    "def get_num_evals_threshold(data, target_objs):\n",
    "    num_evals = []\n",
    "    for d in data:\n",
    "        ix = d.index[\n",
    "            (d['drug_loading']>=targets_objs[0])&\\\n",
    "            (d['encap_efficiency']>=target_objs[1])&\\\n",
    "            (d['particle_diameter']<=target_objs[2])\n",
    "        ].tolist()\n",
    "        if ix != []:\n",
    "            num_evals.append(min(ix))\n",
    "        else:\n",
    "            num_evals.append(d.shape[0])\n",
    "            \n",
    "    return num_evals\n",
    "\n",
    "def plot_rank_trace_mean(data, dataset, scalarizer, ax=None, color=None, label=None, use_std_err=True):\n",
    "        \n",
    "    traces = get_rank_traces(data, dataset, scalarizer)\n",
    "    if ax is None:\n",
    "        fig, ax = plt.subplots()\n",
    "    \n",
    "    mean = np.mean(traces, axis=0)\n",
    "    if use_std_err is True:\n",
    "        stde = np.std(traces, axis=0, ddof=1) / np.sqrt(np.shape(traces)[0] - 1)\n",
    "    else:\n",
    "        stde = np.nanstd(traces, axis=0, ddof=1)\n",
    "\n",
    "    x = np.arange(1, len(mean) + 1, 1)\n",
    "        \n",
    "    ax.plot(x, mean, color='#444444', linewidth=5, zorder=11)\n",
    "    ax.plot(x, mean, color=color, linewidth=4, label=label, zorder=11)\n",
    "    \n",
    "    ax.fill_between(x, y1=mean-1.96*stde, y2=mean+1.96*stde, alpha=0.2, color=color, zorder=10)\n",
    "    ax.plot(x, mean-1.96*stde, color=color, linewidth=1, alpha=0.5, zorder=10)\n",
    "    ax.plot(x, mean+1.96*stde, color=color, linewidth=1, alpha=0.5, zorder=10)\n",
    "    \n",
    "    \n",
    "def plot_trace_mean(data, scalarizer, obj_num=0, ax=None, color=None, label=None, use_std_err=True):\n",
    "        \n",
    "    traces = get_traces(data, scalarizer)[:, obj_num, :]\n",
    "    if ax is None:\n",
    "        fig, ax = plt.subplots()\n",
    "    \n",
    "    mean = np.mean(traces, axis=0)\n",
    "    if use_std_err is True:\n",
    "        stde = np.std(traces, axis=0, ddof=1) / np.sqrt(np.shape(traces)[0] - 1)\n",
    "    else:\n",
    "        stde = np.nanstd(traces, axis=0, ddof=1)\n",
    "\n",
    "    x = np.arange(1, len(mean) + 1, 1)\n",
    "        \n",
    "    ax.plot(x, mean, color='#444444', linewidth=5, zorder=11)\n",
    "    ax.plot(x, mean, color=color, linewidth=4, label=label, zorder=11)\n",
    "    \n",
    "    ax.fill_between(x, y1=mean-1.96*stde, y2=mean+1.96*stde, alpha=0.2, color=color, zorder=10)\n",
    "    ax.plot(x, mean-1.96*stde, color=color, linewidth=1, alpha=0.5, zorder=10)\n",
    "    ax.plot(x, mean+1.96*stde, color=color, linewidth=1, alpha=0.5, zorder=10)\n",
    "\n",
    "\n",
    "# def plot_trace_sigle(pkl_file, ax, obj_name, goal='min', color='k', label='', shift=0.0, use_std_err=True):\n",
    "#     with open(pkl_file, 'rb') as content:\n",
    "#         data = pickle.load(content)\n",
    "#     plot_trace_mean(data, obj_name, goal=goal, ax=ax, color=color, label=label, shift=shift, use_std_err=use_std_err)\n",
    "    \n",
    "\n",
    "def gradient_patch(ax, xmin, xmax, ymin, ymax, fill_color='k', alpha=1, zorder=1):\n",
    "    \n",
    "    x = np.linspace(xmin, xmax, 100)\n",
    "    y = np.linspace(ymin, ymax, 100)\n",
    "    \n",
    "    z = np.empty((100, 1, 4), dtype=float)\n",
    "    rgb = mcolors.colorConverter.to_rgb(fill_color)\n",
    "    z[:,:,:3] = rgb\n",
    "    z[:,:,-1] = np.linspace(0, alpha, 100)[:,None]\n",
    "\n",
    "    im = ax.imshow(z, aspect='auto', extent=[xmin, xmax, ymin, ymax],\n",
    "                   origin='lower', zorder=zorder)\n",
    "\n",
    "    xy = np.column_stack([x, y])\n",
    "    xy = np.vstack([[xmin, ymin], xy, [xmax, ymin], [xmin, ymin]])\n",
    "    clip_path = Rectangle(xy=(xmin, ymin), width=xmax-xmin, height=ymax-ymin, \n",
    "                          facecolor='none', edgecolor='none')\n",
    "    ax.add_patch(clip_path)\n",
    "    im.set_clip_path(clip_path)"
   ]
  },
  {
   "cell_type": "code",
   "execution_count": null,
   "id": "b5243461",
   "metadata": {},
   "outputs": [],
   "source": []
  },
  {
   "cell_type": "code",
   "execution_count": 84,
   "id": "2b20a551",
   "metadata": {},
   "outputs": [],
   "source": [
    "def num_eval_to_x(res, pd, dl, ee):\n",
    "    num_evals = []\n",
    "    for r in res:\n",
    "        good_evals = r.index[(r['particle_diameter']<=np.log10(pd))&(r['drug_loading']>=dl)&(r['encap_efficiency']>=ee)].tolist()\n",
    "        if not good_evals == []:\n",
    "            num_evals.append(np.amin(good_evals)+1)\n",
    "        else:\n",
    "            num_evals.append(r.shape[0]) # budget evals\n",
    "    return num_evals, np.mean(num_evals), np.median(num_evals), np.std(num_evals)"
   ]
  },
  {
   "cell_type": "code",
   "execution_count": null,
   "id": "5dd64a4c",
   "metadata": {},
   "outputs": [],
   "source": []
  },
  {
   "cell_type": "code",
   "execution_count": 105,
   "id": "d83edc68",
   "metadata": {},
   "outputs": [
    {
     "name": "stdout",
     "output_type": "stream",
     "text": [
      "40\n",
      "40\n",
      "40\n"
     ]
    }
   ],
   "source": [
    "# load resulsts\n",
    "raw_res_rand = pickle.load(open('../random/results.pkl', 'rb'))\n",
    "raw_res_bo_1 = pickle.load(open('../botorch/results.pkl', 'rb'))\n",
    "raw_res_bo_32 = pickle.load(open('../botorch_batched/results.pkl', 'rb'))\n",
    "\n",
    "\n",
    "print(len(raw_res_rand))\n",
    "print(len(raw_res_bo_1))\n",
    "print(len(raw_res_bo_32))\n",
    "\n",
    "\n",
    "dataset = Dataset('lnp3')\n",
    "\n",
    "param_names = ['drug_input', 'solid_lipid', 'solid_lipid_input', 'liquid_lipid_input', 'surfractant_input']\n",
    "obj_names = ['drug_loading', 'encap_efficiency', 'particle_diameter']\n",
    "\n"
   ]
  },
  {
   "cell_type": "code",
   "execution_count": null,
   "id": "a9978cd5",
   "metadata": {},
   "outputs": [],
   "source": []
  },
  {
   "cell_type": "code",
   "execution_count": 106,
   "id": "19d212d9",
   "metadata": {},
   "outputs": [
    {
     "name": "stdout",
     "output_type": "stream",
     "text": [
      "max drug_loading :  0.2018981967587141\n",
      "max encap_efficiency :  0.6464171735334162\n",
      "min |300nm-particle_diameter| :  0.3971169650589185\n",
      "[48 'Compritol_888' 120 0 0.005]\n",
      "[0.1965361229629199 0.6115442069872339 1.0695435369080393]\n"
     ]
    }
   ],
   "source": [
    "max_drug_loading = dataset.data.drug_loading.max()\n",
    "max_encap_efficiency = dataset.data.encap_efficiency.max()\n",
    "min_particle_diameter = dataset.data.particle_diameter.min()\n",
    "print('max drug_loading : ', max_drug_loading)\n",
    "print('max encap_efficiency : ', max_encap_efficiency)\n",
    "print('min |300nm-particle_diameter| : ', min_particle_diameter)\n",
    "\n",
    "params = dataset.data[param_names].values\n",
    "values = dataset.data[obj_names].values\n",
    "\n",
    "scalarizer = Scalarizer(kind='Hypervolume', value_space=dataset.value_space, goals=['max', 'max', 'min'])\n",
    "scalarized = scalarizer.scalarize(values)\n",
    "\n",
    "idx = np.argsort(scalarized)\n",
    "sort_params = params[idx]\n",
    "sort_values = values[idx]\n",
    "sort_scalarized = scalarized[idx]\n",
    "\n",
    "best_objs = sort_values[0]\n",
    "print(sort_params[0])\n",
    "print(best_objs)\n",
    "\n"
   ]
  },
  {
   "cell_type": "code",
   "execution_count": 9,
   "id": "245bca0a",
   "metadata": {},
   "outputs": [
    {
     "ename": "IndexError",
     "evalue": "too many indices for array: array is 2-dimensional, but 3 were indexed",
     "output_type": "error",
     "traceback": [
      "\u001b[0;31m---------------------------------------------------------------------------\u001b[0m",
      "\u001b[0;31mIndexError\u001b[0m                                Traceback (most recent call last)",
      "\u001b[0;32m/tmp/ipykernel_1907392/783673053.py\u001b[0m in \u001b[0;36m<module>\u001b[0;34m\u001b[0m\n\u001b[1;32m      3\u001b[0m \u001b[0;34m\u001b[0m\u001b[0m\n\u001b[1;32m      4\u001b[0m \u001b[0mplot_trace_mean\u001b[0m\u001b[0;34m(\u001b[0m\u001b[0mraw_res_rand\u001b[0m\u001b[0;34m,\u001b[0m \u001b[0mscalarizer\u001b[0m\u001b[0;34m,\u001b[0m \u001b[0mobj_num\u001b[0m\u001b[0;34m=\u001b[0m\u001b[0;36m0\u001b[0m\u001b[0;34m,\u001b[0m \u001b[0max\u001b[0m\u001b[0;34m=\u001b[0m\u001b[0max0\u001b[0m\u001b[0;34m,\u001b[0m \u001b[0mcolor\u001b[0m\u001b[0;34m=\u001b[0m\u001b[0;32mNone\u001b[0m\u001b[0;34m,\u001b[0m \u001b[0muse_std_err\u001b[0m\u001b[0;34m=\u001b[0m\u001b[0;32mTrue\u001b[0m\u001b[0;34m,\u001b[0m \u001b[0mlabel\u001b[0m\u001b[0;34m=\u001b[0m\u001b[0;34m'Random'\u001b[0m\u001b[0;34m)\u001b[0m\u001b[0;34m\u001b[0m\u001b[0;34m\u001b[0m\u001b[0m\n\u001b[0;32m----> 5\u001b[0;31m \u001b[0mplot_trace_mean\u001b[0m\u001b[0;34m(\u001b[0m\u001b[0mraw_res_bo_1\u001b[0m\u001b[0;34m,\u001b[0m \u001b[0mscalarizer\u001b[0m\u001b[0;34m,\u001b[0m \u001b[0mobj_num\u001b[0m\u001b[0;34m=\u001b[0m\u001b[0;36m0\u001b[0m\u001b[0;34m,\u001b[0m \u001b[0max\u001b[0m\u001b[0;34m=\u001b[0m\u001b[0max0\u001b[0m\u001b[0;34m,\u001b[0m \u001b[0mcolor\u001b[0m\u001b[0;34m=\u001b[0m\u001b[0;32mNone\u001b[0m\u001b[0;34m,\u001b[0m \u001b[0muse_std_err\u001b[0m\u001b[0;34m=\u001b[0m\u001b[0;32mTrue\u001b[0m\u001b[0;34m,\u001b[0m \u001b[0mlabel\u001b[0m\u001b[0;34m=\u001b[0m\u001b[0;34m'Botorch'\u001b[0m\u001b[0;34m)\u001b[0m\u001b[0;34m\u001b[0m\u001b[0;34m\u001b[0m\u001b[0m\n\u001b[0m\u001b[1;32m      6\u001b[0m \u001b[0;31m#plot_trace_mean(raw_res_gpyopt_cat_1, scalarizer, obj_num=0, ax=ax0, color=None, use_std_err=True, label='Gpyopt cat')\u001b[0m\u001b[0;34m\u001b[0m\u001b[0;34m\u001b[0m\u001b[0;34m\u001b[0m\u001b[0m\n\u001b[1;32m      7\u001b[0m \u001b[0;31m#plot_trace_mean(raw_res_gpyopt_mix_1, scalarizer, obj_num=0, ax=ax0, color=None, use_std_err=True, label='Gpyopt mix')\u001b[0m\u001b[0;34m\u001b[0m\u001b[0;34m\u001b[0m\u001b[0;34m\u001b[0m\u001b[0m\n",
      "\u001b[0;32m/tmp/ipykernel_1907392/839084778.py\u001b[0m in \u001b[0;36mplot_trace_mean\u001b[0;34m(data, scalarizer, obj_num, ax, color, label, use_std_err)\u001b[0m\n\u001b[1;32m    116\u001b[0m \u001b[0;32mdef\u001b[0m \u001b[0mplot_trace_mean\u001b[0m\u001b[0;34m(\u001b[0m\u001b[0mdata\u001b[0m\u001b[0;34m,\u001b[0m \u001b[0mscalarizer\u001b[0m\u001b[0;34m,\u001b[0m \u001b[0mobj_num\u001b[0m\u001b[0;34m=\u001b[0m\u001b[0;36m0\u001b[0m\u001b[0;34m,\u001b[0m \u001b[0max\u001b[0m\u001b[0;34m=\u001b[0m\u001b[0;32mNone\u001b[0m\u001b[0;34m,\u001b[0m \u001b[0mcolor\u001b[0m\u001b[0;34m=\u001b[0m\u001b[0;32mNone\u001b[0m\u001b[0;34m,\u001b[0m \u001b[0mlabel\u001b[0m\u001b[0;34m=\u001b[0m\u001b[0;32mNone\u001b[0m\u001b[0;34m,\u001b[0m \u001b[0muse_std_err\u001b[0m\u001b[0;34m=\u001b[0m\u001b[0;32mTrue\u001b[0m\u001b[0;34m)\u001b[0m\u001b[0;34m:\u001b[0m\u001b[0;34m\u001b[0m\u001b[0;34m\u001b[0m\u001b[0m\n\u001b[1;32m    117\u001b[0m \u001b[0;34m\u001b[0m\u001b[0m\n\u001b[0;32m--> 118\u001b[0;31m     \u001b[0mtraces\u001b[0m \u001b[0;34m=\u001b[0m \u001b[0mget_traces\u001b[0m\u001b[0;34m(\u001b[0m\u001b[0mdata\u001b[0m\u001b[0;34m,\u001b[0m \u001b[0mscalarizer\u001b[0m\u001b[0;34m)\u001b[0m\u001b[0;34m[\u001b[0m\u001b[0;34m:\u001b[0m\u001b[0;34m,\u001b[0m \u001b[0mobj_num\u001b[0m\u001b[0;34m,\u001b[0m \u001b[0;34m:\u001b[0m\u001b[0;34m]\u001b[0m\u001b[0;34m\u001b[0m\u001b[0;34m\u001b[0m\u001b[0m\n\u001b[0m\u001b[1;32m    119\u001b[0m     \u001b[0;32mif\u001b[0m \u001b[0max\u001b[0m \u001b[0;32mis\u001b[0m \u001b[0;32mNone\u001b[0m\u001b[0;34m:\u001b[0m\u001b[0;34m\u001b[0m\u001b[0;34m\u001b[0m\u001b[0m\n\u001b[1;32m    120\u001b[0m         \u001b[0mfig\u001b[0m\u001b[0;34m,\u001b[0m \u001b[0max\u001b[0m \u001b[0;34m=\u001b[0m \u001b[0mplt\u001b[0m\u001b[0;34m.\u001b[0m\u001b[0msubplots\u001b[0m\u001b[0;34m(\u001b[0m\u001b[0;34m)\u001b[0m\u001b[0;34m\u001b[0m\u001b[0;34m\u001b[0m\u001b[0m\n",
      "\u001b[0;31mIndexError\u001b[0m: too many indices for array: array is 2-dimensional, but 3 were indexed"
     ]
    },
    {
     "data": {
      "image/png": "[encoded data removed]",
      "text/plain": [
       "<Figure size 1008x288 with 3 Axes>"
      ]
     },
     "metadata": {
      "needs_background": "light"
     },
     "output_type": "display_data"
    }
   ],
   "source": [
    "fig, (ax0, ax1, ax2) = plt.subplots(1, 3, figsize=(14, 4))\n",
    "\n",
    "\n",
    "plot_trace_mean(raw_res_rand, scalarizer, obj_num=0, ax=ax0, color=None, use_std_err=True, label='Random')\n",
    "plot_trace_mean(raw_res_bo_1, scalarizer, obj_num=0, ax=ax0, color=None, use_std_err=True, label='Botorch')\n",
    "#plot_trace_mean(raw_res_gpyopt_cat_1, scalarizer, obj_num=0, ax=ax0, color=None, use_std_err=True, label='Gpyopt cat')\n",
    "#plot_trace_mean(raw_res_gpyopt_mix_1, scalarizer, obj_num=0, ax=ax0, color=None, use_std_err=True, label='Gpyopt mix')\n",
    "\n",
    "ax0.axhline(best_objs[0],c='k',lw=2,ls='--') # overall best\n",
    "ax0.axhline(max_drug_loading,c='k',lw=1,ls=':') # single best\n",
    "\n",
    "\n",
    "plot_trace_mean(raw_res_rand, scalarizer, obj_num=1, ax=ax1, color=None, use_std_err=True, label='Random')\n",
    "plot_trace_mean(raw_res_bo_1, scalarizer, obj_num=1, ax=ax1, color=None, use_std_err=True, label='Botorch')\n",
    "#plot_trace_mean(raw_res_gpyopt_cat_1, scalarizer, obj_num=1, ax=ax1, color=None, use_std_err=True, label='Gpyopt cat')\n",
    "#plot_trace_mean(raw_res_gpyopt_mix_1, scalarizer, obj_num=1, ax=ax1, color=None, use_std_err=True, label='Gpyopt mix')\n",
    "\n",
    "ax1.axhline(best_objs[1],c='k',lw=2,ls='--')\n",
    "ax1.axhline(max_encap_efficiency,c='k',lw=1,ls=':') # single best\n",
    "\n",
    "plot_trace_mean(raw_res_rand, scalarizer, obj_num=2, ax=ax2, color=None, use_std_err=True, label='Random')\n",
    "plot_trace_mean(raw_res_bo_1, scalarizer, obj_num=2, ax=ax2, color=None, use_std_err=True, label='Botorch')\n",
    "#plot_trace_mean(raw_res_gpyopt_cat_1, scalarizer, obj_num=2, ax=ax2, color=None, use_std_err=True, label='Gpyopt cat')\n",
    "#plot_trace_mean(raw_res_gpyopt_mix_1, scalarizer, obj_num=2, ax=ax2, color=None, use_std_err=True, label='Gpyopt mix')\n",
    "\n",
    "ax2.axhline(best_objs[2],c='k',lw=2,ls='--')\n",
    "ax2.axhline(min_particle_diameter,c='k',lw=2,ls=':') # single best\n",
    "\n",
    "ax0.set_title('Drug loading capacity')\n",
    "ax1.set_title('Encapsulation efficiency')\n",
    "ax2.set_title('Deviation from 300nm diameter')\n",
    "\n",
    "ax0.legend(loc='lower right')\n",
    "\n",
    "ax0.set_xlabel('# evaluations')\n",
    "ax1.set_xlabel('# evaluations')\n",
    "ax2.set_xlabel('# evaluations')\n",
    "\n",
    "ax0.set_ylabel('drug loading capacity [%]')\n",
    "ax1.set_ylabel('encapsulation efficiency [%]')\n",
    "ax2.set_ylabel('| 300 - particle diameter |  [nm]')\n",
    "\n",
    "\n",
    "ax0.set_xlim(0, 50)\n",
    "ax1.set_xlim(0, 50)\n",
    "ax2.set_xlim(0, 50)# overall best\n",
    "\n",
    "plt.tight_layout()"
   ]
  },
  {
   "cell_type": "code",
   "execution_count": null,
   "id": "e858c88f",
   "metadata": {},
   "outputs": [],
   "source": []
  },
  {
   "cell_type": "code",
   "execution_count": null,
   "id": "af39301e",
   "metadata": {},
   "outputs": [],
   "source": []
  },
  {
   "cell_type": "code",
   "execution_count": 94,
   "id": "2600fed9",
   "metadata": {},
   "outputs": [
    {
     "name": "stdout",
     "output_type": "stream",
     "text": [
      "354.575 212.676971896348 5.3169242974087 360.0\n",
      "45.25 11.611955046416602 0.29029887616041505 46.0\n"
     ]
    }
   ],
   "source": [
    "num_evals_rand = get_num_evals_best(raw_res_rand, best_objs)\n",
    "num_evals_bo_1 = get_num_evals_best(raw_res_bo_1, best_objs)\n",
    "\n",
    "df_rand = pd.DataFrame({'method': ['Grid search' for _ in range(len(num_evals_rand))], 'num_eval': num_evals_rand})\n",
    "df_bo_1 = pd.DataFrame({'method': ['Model-based\\noptimization' for _ in range(len(num_evals_bo_1))], 'num_eval': num_evals_bo_1})\n",
    "\n",
    "df_num_evals = pd.concat((df_rand, df_bo_1))\n",
    "\n",
    "print(np.mean(num_evals_rand), np.std(num_evals_rand), np.std(num_evals_rand)/40, np.median(num_evals_rand))\n",
    "print(np.mean(num_evals_bo_1), np.std(num_evals_bo_1), np.std(num_evals_bo_1)/40, np.median(num_evals_bo_1))"
   ]
  },
  {
   "cell_type": "code",
   "execution_count": 95,
   "id": "6b4ba04c",
   "metadata": {},
   "outputs": [
    {
     "data": {
      "text/plain": [
       "Text(0, 0.5, '# experiments to identify\\nbest formulation')"
      ]
     },
     "execution_count": 95,
     "metadata": {},
     "output_type": "execute_result"
    },
    {
     "data": {
      "image/png": "[encoded data removed]",
      "text/plain": [
       "<Figure size 432x288 with 1 Axes>"
      ]
     },
     "metadata": {
      "needs_background": "light"
     },
     "output_type": "display_data"
    }
   ],
   "source": [
    "fig, ax0 = plt.subplots(1, 1, figsize=(6, 4))\n",
    "\n",
    "sns.boxplot(data=df_num_evals, x='method', y='num_eval', showmeans=True, linewidth=2)\n",
    "sns.stripplot(data=df_num_evals, x='method', y='num_eval', edgecolor='gray', linewidth=1, size=8)\n",
    "\n",
    "ax0.set_yscale('log')\n",
    "\n",
    "ax0.set_xlabel('')\n",
    "ax0.set_ylabel('# experiments to identify\\nbest formulation')\n",
    "               \n"
   ]
  },
  {
   "cell_type": "code",
   "execution_count": 101,
   "id": "7a124849",
   "metadata": {},
   "outputs": [
    {
     "data": {
      "image/png": "[encoded data removed]",
      "text/plain": [
       "<Figure size 432x288 with 1 Axes>"
      ]
     },
     "metadata": {
      "needs_background": "light"
     },
     "output_type": "display_data"
    }
   ],
   "source": [
    "fig, ax0 = plt.subplots(1, 1, figsize=(6, 4))\n",
    "\n",
    "sns.boxplot(data=df_num_evals, x='method', y='num_eval', showmeans=True, linewidth=2)\n",
    "sns.stripplot(data=df_num_evals, x='method', y='num_eval', edgecolor='gray', linewidth=1, size=8)\n",
    "\n",
    "# ax0.set_yscale('log')\n",
    "\n",
    "ax0.set_xlabel('')\n",
    "ax0.set_ylabel('# experiments to identify\\nbest formulation')\n",
    "# ax0.set_ylim(-5, 800)\n",
    "plt.tight_layout()\n",
    "plt.savefig('num_evals_best_1by1.png', dpi=400)"
   ]
  },
  {
   "cell_type": "code",
   "execution_count": null,
   "id": "98bef9d0",
   "metadata": {},
   "outputs": [],
   "source": []
  },
  {
   "cell_type": "code",
   "execution_count": 109,
   "id": "8d800a9f",
   "metadata": {},
   "outputs": [
    {
     "name": "stdout",
     "output_type": "stream",
     "text": [
      "12.275 6.652020369782401 0.16630050924456002 12.5\n",
      "2.4 0.8306623862918076 0.020766559657295187 2.0\n"
     ]
    }
   ],
   "source": [
    "num_batches_rand = get_num_batches_best(raw_res_rand, best_objs, batch_size=32)\n",
    "num_batches_bo_32 = get_num_batches_best(raw_res_bo_32, best_objs, batch_size=32)\n",
    "\n",
    "df_rand = pd.DataFrame({'method': ['Grid search' for _ in range(len(num_batches_rand))], 'num_eval': num_batches_rand})\n",
    "df_bo_32 = pd.DataFrame({'method': ['Model-based\\noptimization' for _ in range(len(num_batches_bo_32))], 'num_eval': num_batches_bo_32})\n",
    "\n",
    "df_num_batches = pd.concat((df_rand, df_bo_32))\n",
    "\n",
    "print(np.mean(num_batches_rand), np.std(num_batches_rand), np.std(num_batches_rand)/40, np.median(num_batches_rand))\n",
    "print(np.mean(num_batches_bo_32), np.std(num_batches_bo_32), np.std(num_batches_bo_32)/40, np.median(num_batches_bo_32))"
   ]
  },
  {
   "cell_type": "code",
   "execution_count": 113,
   "id": "37b8f9db",
   "metadata": {},
   "outputs": [
    {
     "data": {
      "image/png": "[encoded data removed]",
      "text/plain": [
       "<Figure size 432x288 with 1 Axes>"
      ]
     },
     "metadata": {
      "needs_background": "light"
     },
     "output_type": "display_data"
    }
   ],
   "source": [
    "fig, ax0 = plt.subplots(1, 1, figsize=(6, 4))\n",
    "\n",
    "sns.boxplot(data=df_num_batches, x='method', y='num_eval', showmeans=True, linewidth=2)\n",
    "sns.stripplot(data=df_num_batches, x='method', y='num_eval', edgecolor='gray', linewidth=1, size=8)\n",
    "\n",
    "# ax0.set_yscale('log')\n",
    "\n",
    "ax0.set_xlabel('')\n",
    "ax0.set_ylabel('# batches to identify\\nbest formulation')\n",
    "# ax0.set_ylim(-5, 800)\n",
    "plt.tight_layout()\n",
    "plt.savefig('num_batches_best_32.png', dpi=300)"
   ]
  },
  {
   "cell_type": "code",
   "execution_count": null,
   "id": "fa1528a9",
   "metadata": {
    "scrolled": true
   },
   "outputs": [],
   "source": []
  },
  {
   "cell_type": "code",
   "execution_count": 111,
   "id": "011247ae",
   "metadata": {},
   "outputs": [
    {
     "data": {
      "text/plain": [
       "5.114583333333334"
      ]
     },
     "execution_count": 111,
     "metadata": {},
     "output_type": "execute_result"
    }
   ],
   "source": [
    "12.275/2.4"
   ]
  },
  {
   "cell_type": "code",
   "execution_count": 112,
   "id": "20e0e601",
   "metadata": {},
   "outputs": [
    {
     "data": {
      "text/plain": [
       "6.25"
      ]
     },
     "execution_count": 112,
     "metadata": {},
     "output_type": "execute_result"
    }
   ],
   "source": [
    "12.5/2"
   ]
  },
  {
   "cell_type": "code",
   "execution_count": null,
   "id": "f375a9ca",
   "metadata": {},
   "outputs": [],
   "source": []
  },
  {
   "cell_type": "code",
   "execution_count": null,
   "id": "5eb4ebd6",
   "metadata": {},
   "outputs": [],
   "source": []
  },
  {
   "cell_type": "code",
   "execution_count": null,
   "id": "e3ba9850",
   "metadata": {},
   "outputs": [],
   "source": []
  },
  {
   "cell_type": "code",
   "execution_count": null,
   "id": "812cea05",
   "metadata": {},
   "outputs": [],
   "source": []
  }
 ],
 "metadata": {
  "kernelspec": {
   "display_name": "atlas",
   "language": "python",
   "name": "atlas"
  },
  "language_info": {
   "codemirror_mode": {
    "name": "ipython",
    "version": 3
   },
   "file_extension": ".py",
   "mimetype": "text/x-python",
   "name": "python",
   "nbconvert_exporter": "python",
   "pygments_lexer": "ipython3",
   "version": "3.7.12"
  }
 },
 "nbformat": 4,
 "nbformat_minor": 5
}
